{
 "cells": [
  {
   "cell_type": "markdown",
   "metadata": {},
   "source": [
    "#### Initialization"
   ]
  },
  {
   "cell_type": "code",
   "execution_count": 1,
   "metadata": {},
   "outputs": [],
   "source": [
    "import findspark\n",
    "findspark.init( '/usr/local/spark' )\n",
    "import pyspark\n",
    "from pyspark.sql import SparkSession, DataFrame, functions as f"
   ]
  },
  {
   "cell_type": "code",
   "execution_count": 2,
   "metadata": {},
   "outputs": [
    {
     "name": "stdout",
     "output_type": "stream",
     "text": [
      "2.4.0\n"
     ]
    }
   ],
   "source": [
    "sc = SparkSession.builder.master( 'local' ).appName( 'Fraud Detection' ).getOrCreate()\n",
    "print( sc.version )"
   ]
  },
  {
   "cell_type": "markdown",
   "metadata": {},
   "source": [
    "#### Reading the Dataset"
   ]
  },
  {
   "cell_type": "code",
   "execution_count": 22,
   "metadata": {},
   "outputs": [],
   "source": [
    "d = sc.read.csv( '/home/demetrius/Documents/Python/Fraud Detection/Data/fraud_dyninno.csv',\n",
    "                inferSchema=True, header=True, quote='' )"
   ]
  },
  {
   "cell_type": "code",
   "execution_count": 23,
   "metadata": {},
   "outputs": [],
   "source": [
    "d = d.withColumnRenamed( 'fraud', 'label' )\n",
    "d = d.withColumnRenamed( 'amount_oringinal', 'amount' )\n",
    "d = d.withColumnRenamed( 'term_oringinal', 'term' )\n",
    "d = d.withColumnRenamed( 'r_application_id', 'id' )\n",
    "d = d.withColumnRenamed( 'created', 'date' )\n",
    "d = d.withColumnRenamed( 'income_per_month', 'income' )\n",
    "d = d.withColumn( 'amount', d.amount / 91 * 2.2 )\n",
    "d = d.withColumn( 'amount', f.round( 'amount', -1 ) )"
   ]
  },
  {
   "cell_type": "code",
   "execution_count": 24,
   "metadata": {},
   "outputs": [],
   "source": [
    "p = sc.createDataFrame([( 'адыгея', 'Adygeya Respublika' ),\n",
    "                        ( 'алтай', 'Altay Respublika' ), \n",
    "                        ( 'алтайский', 'Altayskiy kray' ), \n",
    "                        ( 'амурская', 'Amurskaya oblast' ), \n",
    "                        ( 'архангельская', 'Arkhangelskaya oblast' ), \n",
    "                        ( 'астраханская', 'Astrakhanskaya oblast' ), \n",
    "                        ( 'башкортостан', 'Bashkortostan Respublika' ), \n",
    "                        ( 'белгородская', 'Belgorodskaya oblast' ), \n",
    "                        ( 'брянская', 'Bryanskaya oblast' ), \n",
    "                        ( 'бурятия', 'Buryatiya Respublika' ), \n",
    "                        ( 'владимирская', 'Vladimirskaya oblast' ), \n",
    "                        ( 'волгоградская', 'Volgogradskaya oblast' ), \n",
    "                        ( 'вологодская', 'Vologodskaya oblast' ), \n",
    "                        ( 'воронежская', 'Voronezhskaya oblast' ), \n",
    "                        ( 'дагестан', 'Dagestan Respublika' ), \n",
    "                        ( 'дальневосточный', 'Saha Respublika' ), \n",
    "                        ( 'еврейская', 'Yevreyskaya avtonomnaya oblast' ), \n",
    "                        ( 'забайкальский', 'Zabaykalskiy kray' ), \n",
    "                        ( 'ивановская', 'Ivanovskaya oblast' ), \n",
    "                        ( 'ингушетия', 'Ingushetiya Respublika' ), \n",
    "                        ( 'иркутская', 'Irkutskaya oblast' ), \n",
    "                        ( 'кабардино-балкарская', 'Kabardino-Balkarskaya Respublika' ), \n",
    "                        ( 'калининградская', 'Kaliningradskaya oblast' ), \n",
    "                        ( 'калмыкия', 'Kalmykiya Respublika' ), \n",
    "                        ( 'калужская', 'Kaluzhskaya oblast' ), \n",
    "                        ( 'камчатский', 'Kamchatskiy kray' ), \n",
    "                        ( 'карачаево-черкесская', 'Karachayevo-Cherkesskaya Respublika' ), \n",
    "                        ( 'карелия', 'Kareliya Respublika' ), \n",
    "                        ( 'кемеровская', 'Kemerovskaya oblast' ), \n",
    "                        ( 'кемеровская-кузбасс', 'Kemerovskaya oblast' ), \n",
    "                        ( 'кировская', 'Kirovskaya oblast' ), \n",
    "                        ( 'коми', 'Komi Respublika' ), \n",
    "                        ( 'костромская', 'Kostromskaya oblast' ), \n",
    "                        ( 'краснодарский', 'Krasnodarskiy kray' ), \n",
    "                        ( 'красноярский', 'Krasnoyarskiy kray' ), \n",
    "                        ( 'курганская', 'Kurganskaya oblast' ), \n",
    "                        ( 'курская', 'Kurskaya oblast' ), \n",
    "                        ( 'ленинградская', 'Leningradskaya oblast' ), \n",
    "                        ( 'липецкая', 'Lipetskaya oblast' ), \n",
    "                        ( 'магаданская', 'Magadanskaya oblast' ), \n",
    "                        ( 'марий эл', 'Mariy El Respublika' ), \n",
    "                        ( 'мордовия', 'Mordoviya Respublika' ), \n",
    "                        ( 'москва', 'Moskva' ), \n",
    "                        ( 'московская', 'Moskovskaya oblast' ), \n",
    "                        ( 'мурманская', 'Murmanskaya oblast' ), \n",
    "                        ( 'ненецкий', 'Nenetskiy avtonomnyy okrug' ), \n",
    "                        ( 'нижегородская', 'Nizhegorodskaya oblast' ), \n",
    "                        ( 'новгородская', 'Novgorodskaya oblast' ), \n",
    "                        ( 'новосибирская', 'Novosibirskaya oblast' ), \n",
    "                        ( 'омская', 'Omskaya oblast' ), \n",
    "                        ( 'оренбургская', 'Orenburgskaya oblast' ), \n",
    "                        ( 'орловская', 'Orlovskaya oblast' ), \n",
    "                        ( 'пензенская', 'Penzenskaya oblast' ), \n",
    "                        ( 'пермский', 'Permskiy kray' ), \n",
    "                        ( 'приморский', 'Primorskiy kray' ), \n",
    "                        ( 'псковская', 'Pskovskaya oblast' ), \n",
    "                        ( 'ростовская', 'Rostovskaya oblast' ), \n",
    "                        ( 'рязанская', 'Ryazanskaya oblast' ), \n",
    "                        ( 'самарская', 'Samarskaya oblast' ), \n",
    "                        ( 'санкт-петербург', 'Sankt-Peterburg' ), \n",
    "                        ( 'саратовская', 'Saratovskaya oblast' ), \n",
    "                        ( 'саха /якутия/', 'Saha Respublika' ), \n",
    "                        ( 'сахалинская', 'Sakhalinskaya oblast' ), \n",
    "                        ( 'свердловская', 'Sverdlovskaya oblast' ), \n",
    "                        ( 'смоленская', 'Smolenskaya oblast' ), \n",
    "                        ( 'ставропольский', 'Stavropolskiy kray' ), \n",
    "                        ( 'тамбовская', 'Tambovskaya oblast' ), \n",
    "                        ( 'татарстан', 'Tatarstan Respublika' ), \n",
    "                        ( 'тверская', 'Tverskaya oblast' ), \n",
    "                        ( 'томская', 'Tomskaya oblast' ), \n",
    "                        ( 'тульская', 'Tulskaya oblast' ), \n",
    "                        ( 'тыва', 'Tyva Respublika' ), \n",
    "                        ( 'тюменская', 'Tyumenskaya oblast' ), \n",
    "                        ( 'удмуртская', 'Udmurtskaya Respublika' ), \n",
    "                        ( 'ульяновская', 'Ulyanovskaya oblast' ), \n",
    "                        ( 'хабаровский', 'Khabarovskiy kray' ), \n",
    "                        ( 'ханты-мансийский', 'Khanty-Mansiyskiy avtonomnyy okrug' ), \n",
    "                        ( 'челябинская', 'Chelyabinskaya oblast' ), \n",
    "                        ( 'чеченская', 'Chechenskaya Respublika' ), \n",
    "                        ( 'чувашская', 'Chuvashskaya Respublika' ), \n",
    "                        ( 'чувашская чувашия', 'Chuvashskaya Respublika' ), \n",
    "                        ( 'чукотский', 'Chukotskiy avtonomnyy okrug' ), \n",
    "                        ( 'ямало-ненецкий', 'Yamalo-Nenetskiy avtonomnyy okrug' ), \n",
    "                        ( 'ярославская', 'Yaroslavskaya oblast' ) ],\n",
    "                         [ 'region_cleared', 'region_app' ] )\n",
    "d = d.join( p, on='region_cleared', how='left' )\n",
    "d = d.withColumn( 'calculator', f.when( d.cl_relationships_id == 2, 'right' ).\\\n",
    "    when( d.cl_relationships_id == 3, 'exact' ).when( d.cl_relationships_id.isNull(), 'default' ).otherwise( 'change' ) )\n",
    "d = d.drop( 'region_cleared', 'mobile', 'desktop', 'windows', 'apple', 'linux', 'google', \n",
    "            'cl_relationships_id', 'income_null' )"
   ]
  },
  {
   "cell_type": "markdown",
   "metadata": {},
   "source": [
    "#### Overview of the Dataset"
   ]
  },
  {
   "cell_type": "code",
   "execution_count": 95,
   "metadata": {},
   "outputs": [
    {
     "name": "stdout",
     "output_type": "stream",
     "text": [
      "17404\n"
     ]
    }
   ],
   "source": [
    "nrows = d.count()\n",
    "print( nrows )"
   ]
  },
  {
   "cell_type": "code",
   "execution_count": 26,
   "metadata": {},
   "outputs": [],
   "source": [
    "# len( d.columns )"
   ]
  },
  {
   "cell_type": "code",
   "execution_count": 27,
   "metadata": {},
   "outputs": [],
   "source": [
    "#d.show( 1, vertical=True )"
   ]
  },
  {
   "cell_type": "markdown",
   "metadata": {},
   "source": [
    "Let us count missing values by columns:"
   ]
  },
  {
   "cell_type": "code",
   "execution_count": 28,
   "metadata": {},
   "outputs": [],
   "source": [
    "#d.select( [ f.sum( f.when( f.col( name ).isNull(), 1 ) ).alias( name ) for name in d.columns \\\n",
    "#           if d.select( name ).dtypes[ 0 ][ 1 ] in [ 'double', 'float', 'int' ] ] ).show( vertical=True )"
   ]
  },
  {
   "cell_type": "markdown",
   "metadata": {},
   "source": [
    "#### Overview of the Target Variable (Label)"
   ]
  },
  {
   "cell_type": "code",
   "execution_count": 29,
   "metadata": {},
   "outputs": [],
   "source": [
    "#d.select( 'label' ).distinct().show()"
   ]
  },
  {
   "cell_type": "markdown",
   "metadata": {},
   "source": [
    "So the target variable is binary."
   ]
  },
  {
   "cell_type": "code",
   "execution_count": 30,
   "metadata": {},
   "outputs": [],
   "source": [
    "#d.select( 'label' ).summary( 'mean' ).show()"
   ]
  },
  {
   "cell_type": "markdown",
   "metadata": {},
   "source": [
    "The class is positive (actual fraud) in 4.6% of the cases. The distribution is rather imbalanced."
   ]
  },
  {
   "cell_type": "markdown",
   "metadata": {},
   "source": [
    "#### Financial Variables"
   ]
  },
  {
   "cell_type": "markdown",
   "metadata": {},
   "source": [
    "\"amount\": amount of a loan (equivalent in euros)"
   ]
  },
  {
   "cell_type": "code",
   "execution_count": 31,
   "metadata": {},
   "outputs": [],
   "source": [
    "#d.describe( 'amount' ).show()"
   ]
  },
  {
   "cell_type": "markdown",
   "metadata": {},
   "source": [
    "\"term\" : term of a loan (in days)"
   ]
  },
  {
   "cell_type": "code",
   "execution_count": 32,
   "metadata": {},
   "outputs": [],
   "source": [
    "#d.describe( 'term' ).show()"
   ]
  },
  {
   "cell_type": "markdown",
   "metadata": {},
   "source": [
    "expected interest (given that the rate is 1% per day):"
   ]
  },
  {
   "cell_type": "code",
   "execution_count": 33,
   "metadata": {},
   "outputs": [],
   "source": [
    "d = d.withColumn( 'interest', d.amount * 0.01 * d.term )"
   ]
  },
  {
   "cell_type": "markdown",
   "metadata": {},
   "source": [
    "Additional versions of \"amount\" and \"term\" are created, which will be preprocessed:"
   ]
  },
  {
   "cell_type": "code",
   "execution_count": null,
   "metadata": {},
   "outputs": [],
   "source": [
    "d = d.withColumn( 'amount_prep', d.amount )\n",
    "d = d.withColumn( 'term_prep', d.term )"
   ]
  },
  {
   "cell_type": "markdown",
   "metadata": {},
   "source": [
    "#### Transformations of Some Variables"
   ]
  },
  {
   "cell_type": "code",
   "execution_count": 34,
   "metadata": {},
   "outputs": [],
   "source": [
    "for name in [ 'cl_marital_status_id', 'cl_employment_type_id', 'cl_employment_area_id' ] :\n",
    "    d = d.withColumn( name, f.col( name ).cast( 'string' ) )"
   ]
  },
  {
   "cell_type": "code",
   "execution_count": 35,
   "metadata": {},
   "outputs": [],
   "source": [
    "#d.groupBy( 'ip_country_code' ).count().show()"
   ]
  },
  {
   "cell_type": "code",
   "execution_count": 36,
   "metadata": {},
   "outputs": [],
   "source": [
    "d = d.withColumn( 'ip_country_code', f.when( d.ip_country_code == 'RU', 0 ).otherwise( 1 ) )"
   ]
  },
  {
   "cell_type": "markdown",
   "metadata": {},
   "source": [
    "Provinces Mismatch:"
   ]
  },
  {
   "cell_type": "code",
   "execution_count": 76,
   "metadata": {},
   "outputs": [
    {
     "name": "stdout",
     "output_type": "stream",
     "text": [
      "+-------+------------------+\n",
      "|summary| province_mismatch|\n",
      "+-------+------------------+\n",
      "|   mean|0.4651804182946449|\n",
      "+-------+------------------+\n",
      "\n"
     ]
    }
   ],
   "source": [
    "d = d.withColumn( 'province_mismatch', \n",
    " f.when( ( d.region_app != d.ip_region_name ) & d.region_app.isNotNull() & d.ip_region_name.isNotNull(), \n",
    "        1 ).otherwise( 0 ) )"
   ]
  },
  {
   "cell_type": "markdown",
   "metadata": {},
   "source": [
    "Zip code:"
   ]
  },
  {
   "cell_type": "code",
   "execution_count": 38,
   "metadata": {},
   "outputs": [],
   "source": [
    "d = d.withColumn( 'zip', f.substring( d.zip, 0, 4 ) )"
   ]
  },
  {
   "cell_type": "code",
   "execution_count": 39,
   "metadata": {},
   "outputs": [],
   "source": [
    "d = d.withColumn( 'ip_zip_code', f.substring( d.ip_zip_code, 0, 4 ) )"
   ]
  },
  {
   "cell_type": "code",
   "execution_count": 40,
   "metadata": {},
   "outputs": [],
   "source": [
    "d = d.withColumn( 'zip_mismatch', \n",
    "        f.when( ( d.zip != d.ip_zip_code ) & d.zip.isNotNull() & d.ip_zip_code.isNotNull(), 1 ).otherwise( 0 ) )"
   ]
  },
  {
   "cell_type": "code",
   "execution_count": 41,
   "metadata": {},
   "outputs": [],
   "source": [
    "d.createOrReplaceTempView( 'd' )"
   ]
  },
  {
   "cell_type": "code",
   "execution_count": 42,
   "metadata": {},
   "outputs": [],
   "source": [
    "q = \"\\\n",
    "SELECT ip_mobile_brand, COUNT( * ), AVG( label ) \\\n",
    "FROM d \\\n",
    "GROUP BY 1 \\\n",
    "ORDER BY 2 DESC \"\n",
    "#sc.sql( q ).show()"
   ]
  },
  {
   "cell_type": "markdown",
   "metadata": {},
   "source": [
    "Rare \"ip_mobile_brand\" are omitted in order not to introduce extra categories:"
   ]
  },
  {
   "cell_type": "code",
   "execution_count": 43,
   "metadata": {},
   "outputs": [],
   "source": [
    "d = d.withColumn( 'ip_mobile_brand', f.when( d.ip_mobile_brand.isin([ 'MTS', 'MegaFon', 'Tele2', 'Win Mobile', \n",
    "                        '-', 'Beeline', 'MOTIV', 'TTK' ]), d.ip_mobile_brand ) )"
   ]
  },
  {
   "cell_type": "code",
   "execution_count": 44,
   "metadata": {},
   "outputs": [],
   "source": [
    "q = \"\\\n",
    "SELECT ip_usage_type, COUNT( * ), AVG( label ) \\\n",
    "FROM d \\\n",
    "GROUP BY 1 \\\n",
    "ORDER BY 2 DESC \"\n",
    "#sc.sql( q ).show()"
   ]
  },
  {
   "cell_type": "markdown",
   "metadata": {},
   "source": [
    "Rare \"ip_usage_type\" are omitted in order not to introduce extra categories:"
   ]
  },
  {
   "cell_type": "code",
   "execution_count": 45,
   "metadata": {},
   "outputs": [],
   "source": [
    "d = d.withColumn( 'ip_usage_type', f.when( d.ip_usage_type.isin([ 'DCH', 'MOB', 'ISP/MOB', 'ISP', 'COM' ]),\n",
    "                                           d.ip_usage_type ) )"
   ]
  },
  {
   "cell_type": "code",
   "execution_count": 46,
   "metadata": {},
   "outputs": [],
   "source": [
    "q = \"\\\n",
    "SELECT ip_net_speed, COUNT( * ), AVG( label ) \\\n",
    "FROM d \\\n",
    "GROUP BY 1 \\\n",
    "ORDER BY 2 DESC \"\n",
    "#sc.sql( q ).show()"
   ]
  },
  {
   "cell_type": "markdown",
   "metadata": {},
   "source": [
    "\"-\" in \"ip_net_speed\" is omitted in order not to introduce an extra category:"
   ]
  },
  {
   "cell_type": "code",
   "execution_count": 47,
   "metadata": {},
   "outputs": [],
   "source": [
    "d = d.withColumn( 'ip_net_speed', f.when( d.ip_net_speed.isin([ 'T1', 'DSL', 'COMP', 'DIAL' ]), d.ip_net_speed ) )"
   ]
  },
  {
   "cell_type": "markdown",
   "metadata": {},
   "source": [
    "\"device_type\":"
   ]
  },
  {
   "cell_type": "code",
   "execution_count": 48,
   "metadata": {},
   "outputs": [],
   "source": [
    "q = \"\\\n",
    "SELECT device_type, COUNT( * ), AVG( label ) \\\n",
    "FROM d \\\n",
    "GROUP BY 1 \\\n",
    "ORDER BY 2 DESC \"\n",
    "#sc.sql( q ).show()"
   ]
  },
  {
   "cell_type": "markdown",
   "metadata": {},
   "source": [
    "A special variable for tablets:"
   ]
  },
  {
   "cell_type": "code",
   "execution_count": 49,
   "metadata": {},
   "outputs": [],
   "source": [
    "d = d.withColumn( 'tablet', f.when( d.device_type == 'Tablet', 1 ).otherwise( 0 ) )"
   ]
  },
  {
   "cell_type": "markdown",
   "metadata": {},
   "source": [
    "Timezone:"
   ]
  },
  {
   "cell_type": "code",
   "execution_count": 50,
   "metadata": {},
   "outputs": [],
   "source": [
    "d = d.withColumn( 'local_time', f.from_utc_timestamp( d.date, d.ip_timezone_name ) )"
   ]
  },
  {
   "cell_type": "code",
   "execution_count": 51,
   "metadata": {},
   "outputs": [],
   "source": [
    "d = d.withColumn( 'local_time', f.hour( d.local_time ) + f.minute( d.local_time ) / 60 )"
   ]
  },
  {
   "cell_type": "code",
   "execution_count": 52,
   "metadata": {},
   "outputs": [],
   "source": [
    "d = d.withColumn( 'pixel_mismatch', \n",
    "      f.when( ( d.ip_timezone != d.pixel_timezone ) & d.ip_timezone.isNotNull() & d.pixel_timezone.isNotNull(), \n",
    "        1 ).otherwise( 0 ) )"
   ]
  },
  {
   "cell_type": "markdown",
   "metadata": {},
   "source": [
    "Time is encoded as two variables with trigonometric functions:"
   ]
  },
  {
   "cell_type": "code",
   "execution_count": 53,
   "metadata": {},
   "outputs": [],
   "source": [
    "d = d.withColumn( 'time_radian', d.local_time / 3.819718634205488 )"
   ]
  },
  {
   "cell_type": "code",
   "execution_count": 54,
   "metadata": {},
   "outputs": [],
   "source": [
    "d = d.withColumn( 'time_sine', f.sin( d.time_radian ) )"
   ]
  },
  {
   "cell_type": "code",
   "execution_count": 55,
   "metadata": {},
   "outputs": [],
   "source": [
    "d = d.withColumn( 'time_cosine', f.cos( d.time_radian ) )"
   ]
  },
  {
   "cell_type": "markdown",
   "metadata": {},
   "source": [
    "Language:"
   ]
  },
  {
   "cell_type": "code",
   "execution_count": 56,
   "metadata": {},
   "outputs": [],
   "source": [
    "q = \"\\\n",
    "SELECT device_language, COUNT( * ), AVG( label ) \\\n",
    "FROM d \\\n",
    "GROUP BY 1 \\\n",
    "ORDER BY 2 DESC \"\n",
    "#sc.sql( q ).show()"
   ]
  },
  {
   "cell_type": "code",
   "execution_count": 57,
   "metadata": {},
   "outputs": [],
   "source": [
    "d = d.withColumn( 'ru_lang', f.when( d.device_language == 'ru-ru', 1 ).otherwise( 0 ) )"
   ]
  },
  {
   "cell_type": "code",
   "execution_count": 58,
   "metadata": {},
   "outputs": [],
   "source": [
    "d = d.withColumn( 'other_lang', f.when( d.device_language != 'ru-ru', 1 ).otherwise( 0 ) )"
   ]
  },
  {
   "cell_type": "markdown",
   "metadata": {},
   "source": [
    "\"pixel_language\":"
   ]
  },
  {
   "cell_type": "code",
   "execution_count": 59,
   "metadata": {},
   "outputs": [],
   "source": [
    "q = \"\\\n",
    "SELECT pixel_language, COUNT( * ), AVG( label ) \\\n",
    "FROM d \\\n",
    "GROUP BY 1 \\\n",
    "ORDER BY 2 DESC \"\n",
    "#sc.sql( q ).show()"
   ]
  },
  {
   "cell_type": "markdown",
   "metadata": {},
   "source": [
    "Rare \"pixel_language\" are omitted in order not to produce extra categories:"
   ]
  },
  {
   "cell_type": "code",
   "execution_count": 60,
   "metadata": {},
   "outputs": [],
   "source": [
    "d = d.withColumn( 'pixel_language', f.when( d.pixel_language.isin([ 'ru-RU', 'ru', 'en-US', 'ru_ru', 'ru-Ru' ]), \n",
    "                                            d.pixel_language ) )"
   ]
  },
  {
   "cell_type": "markdown",
   "metadata": {},
   "source": [
    "\"device_year_release\" is replaced by age of the device:"
   ]
  },
  {
   "cell_type": "code",
   "execution_count": 61,
   "metadata": {},
   "outputs": [],
   "source": [
    "d = d.withColumn( 'device_age', f.year( d.date ) - d.device_year_release )"
   ]
  },
  {
   "cell_type": "markdown",
   "metadata": {},
   "source": [
    "\"os_name\":"
   ]
  },
  {
   "cell_type": "code",
   "execution_count": 62,
   "metadata": {},
   "outputs": [],
   "source": [
    "q = \"\\\n",
    "SELECT os_name, COUNT( * ), AVG( label ) \\\n",
    "FROM d \\\n",
    "GROUP BY 1 \\\n",
    "ORDER BY 2 DESC \"\n",
    "#sc.sql( q ).show()"
   ]
  },
  {
   "cell_type": "markdown",
   "metadata": {},
   "source": [
    "Rare \"os_name\" are omitted in order not to produce extra categories:"
   ]
  },
  {
   "cell_type": "code",
   "execution_count": 63,
   "metadata": {},
   "outputs": [],
   "source": [
    "d = d.withColumn( 'os_name', f.when( d.os_name.isin([ 'Android', 'iOS', 'Windows 10', 'Windows 7', 'Linux', \n",
    "                                                      'Windows 8.1', 'OS X', 'Windows XP', 'Windows 8' ]), d.os_name ) )"
   ]
  },
  {
   "cell_type": "markdown",
   "metadata": {},
   "source": [
    "\"browser_name\":"
   ]
  },
  {
   "cell_type": "code",
   "execution_count": 64,
   "metadata": {},
   "outputs": [],
   "source": [
    "q = \"\\\n",
    "SELECT browser_name, COUNT( * ), AVG( label ) \\\n",
    "FROM d \\\n",
    "GROUP BY 1 \\\n",
    "ORDER BY 2 DESC \"\n",
    "#sc.sql( q ).show()"
   ]
  },
  {
   "cell_type": "markdown",
   "metadata": {},
   "source": [
    "Rare \"browser_name\" are omitted in order not to produce extra categories:"
   ]
  },
  {
   "cell_type": "code",
   "execution_count": 65,
   "metadata": {},
   "outputs": [],
   "source": [
    "d = d.withColumn( 'browser_name', f.when( d.browser_name.isin([ 'Chrome Mobile', 'Safari', 'Yandex.Browser',\n",
    "    'Chrome', 'Samsung Browser', 'MIUI Browser', 'Opera', 'Firefox', \n",
    "    'Opera Mobile', 'UC Browser', 'Edge' ]), d.browser_name ) )"
   ]
  },
  {
   "cell_type": "markdown",
   "metadata": {},
   "source": [
    "\"rendering_engine\":"
   ]
  },
  {
   "cell_type": "code",
   "execution_count": 66,
   "metadata": {},
   "outputs": [],
   "source": [
    "q = \"\\\n",
    "SELECT rendering_engine, COUNT( * ), AVG( label ) \\\n",
    "FROM d \\\n",
    "GROUP BY 1 \\\n",
    "ORDER BY 2 DESC \"\n",
    "#sc.sql( q ).show()"
   ]
  },
  {
   "cell_type": "markdown",
   "metadata": {},
   "source": [
    "\"Trident\" in \"rendering_engine\" is omitted in order not to introduce an extra category:"
   ]
  },
  {
   "cell_type": "code",
   "execution_count": 67,
   "metadata": {},
   "outputs": [],
   "source": [
    "d = d.withColumn( 'rendering_engine', f.when( d.rendering_engine.isin([ 'WebKit', 'Blink', 'Gecko', 'UCWeb', \n",
    "                                                                        'EdgeHTML' ]), d.rendering_engine ) )"
   ]
  },
  {
   "cell_type": "markdown",
   "metadata": {},
   "source": [
    "Variables with no or duplicate information are removed:"
   ]
  },
  {
   "cell_type": "code",
   "execution_count": 68,
   "metadata": {},
   "outputs": [],
   "source": [
    "d = d.drop( 'additional_info', 'device_id', 'exact_device_id', 'browser_hash', 'user_id', \n",
    "  'idx7_device_applications_quality', 'shopping_vector_length', 'microlending_vector_length', 'gambling_vector_length', \n",
    "  'proxy_vector_length', 'photos', 'hdd_utils', 'ip_country_name', 'real_ip', 'real_ipv6', 'ip_first_seen_date',\n",
    "  'dns_ip', 'ip_zip_code_distance', 'bot_name', 'device_model', 'device_marketing_name', 'device_manufacturer',\n",
    "  'device_type', 'ip_timezone', 'ip_timezone_name', 'pixel_timezone', 'pixel_timezone_name', 'local_time', 'time_radian',\n",
    "  'device_language', 'os_version', 'os_proprietary', 'development_platform', 'browser_version', 'device_year_release' )"
   ]
  },
  {
   "cell_type": "markdown",
   "metadata": {},
   "source": [
    "#### Treatment of Extreme Values"
   ]
  },
  {
   "cell_type": "code",
   "execution_count": 70,
   "metadata": {},
   "outputs": [
    {
     "name": "stdout",
     "output_type": "stream",
     "text": [
      "+------------------+-------+-------+\n",
      "|count(DISTINCT id)|min(id)|max(id)|\n",
      "+------------------+-------+-------+\n",
      "|             17404|7915054|8820413|\n",
      "+------------------+-------+-------+\n",
      "\n",
      "+-------------------+--------+--------+\n",
      "|count(DISTINCT dpd)|min(dpd)|max(dpd)|\n",
      "+-------------------+--------+--------+\n",
      "|                288|     -29|     278|\n",
      "+-------------------+--------+--------+\n",
      "\n",
      "+--------------------+--------------------+--------------------+\n",
      "|count(DISTINCT date)|           min(date)|           max(date)|\n",
      "+--------------------+--------------------+--------------------+\n",
      "|               17404|2019-10-29 00:26:...|2020-02-11 21:47:...|\n",
      "+--------------------+--------------------+--------------------+\n",
      "\n",
      "+----------------------+-----------+-----------+\n",
      "|count(DISTINCT amount)|min(amount)|max(amount)|\n",
      "+----------------------+-----------+-----------+\n",
      "|                    29|       20.0|      360.0|\n",
      "+----------------------+-----------+-----------+\n",
      "\n",
      "+--------------------+---------+---------+\n",
      "|count(DISTINCT term)|min(term)|max(term)|\n",
      "+--------------------+---------+---------+\n",
      "|                  26|        5|       30|\n",
      "+--------------------+---------+---------+\n",
      "\n",
      "+--------------------------+---------------+---------------+\n",
      "|count(DISTINCT payout_way)|min(payout_way)|max(payout_way)|\n",
      "+--------------------------+---------------+---------------+\n",
      "|                         3|           Bank|     CreditCard|\n",
      "+--------------------------+---------------+---------------+\n",
      "\n",
      "+-------------------+-----------------+-----------------+\n",
      "|count(DISTINCT age)|         min(age)|         max(age)|\n",
      "+-------------------+-----------------+-----------------+\n",
      "|               7891|21.78781656399726|70.93497604380562|\n",
      "+-------------------+-----------------+-----------------+\n",
      "\n",
      "+----------------------+-----------+-----------+\n",
      "|count(DISTINCT gender)|min(gender)|max(gender)|\n",
      "+----------------------+-----------+-----------+\n",
      "|                     2|     Female|       Male|\n",
      "+----------------------+-----------+-----------+\n",
      "\n",
      "+----------------------+-----------+-----------+\n",
      "|count(DISTINCT income)|min(income)|max(income)|\n",
      "+----------------------+-----------+-----------+\n",
      "|                   381|     2030.0|   390021.0|\n",
      "+----------------------+-----------+-----------+\n",
      "\n",
      "+------------------------------------+-------------------------+-------------------------+\n",
      "|count(DISTINCT cl_marital_status_id)|min(cl_marital_status_id)|max(cl_marital_status_id)|\n",
      "+------------------------------------+-------------------------+-------------------------+\n",
      "|                                   5|                      2.0|                      6.0|\n",
      "+------------------------------------+-------------------------+-------------------------+\n",
      "\n",
      "+------------------------------------+-------------------------+-------------------------+\n",
      "|count(DISTINCT cl_education_type_id)|min(cl_education_type_id)|max(cl_education_type_id)|\n",
      "+------------------------------------+-------------------------+-------------------------+\n",
      "|                                   7|                        7|                       13|\n",
      "+------------------------------------+-------------------------+-------------------------+\n",
      "\n",
      "+-------------------------------------+--------------------------+--------------------------+\n",
      "|count(DISTINCT cl_employment_type_id)|min(cl_employment_type_id)|max(cl_employment_type_id)|\n",
      "+-------------------------------------+--------------------------+--------------------------+\n",
      "|                                    7|                      10.0|                       9.0|\n",
      "+-------------------------------------+--------------------------+--------------------------+\n",
      "\n",
      "+-------------------------------------+--------------------------+--------------------------+\n",
      "|count(DISTINCT cl_employment_area_id)|min(cl_employment_area_id)|max(cl_employment_area_id)|\n",
      "+-------------------------------------+--------------------------+--------------------------+\n",
      "|                                   12|                      10.0|                       9.0|\n",
      "+-------------------------------------+--------------------------+--------------------------+\n",
      "\n",
      "+----------------------------------------+-----------------------------+-----------------------------+\n",
      "|count(DISTINCT employment_position_name)|min(employment_position_name)|max(employment_position_name)|\n",
      "+----------------------------------------+-----------------------------+-----------------------------+\n",
      "|                                       2|                            0|                            1|\n",
      "+----------------------------------------+-----------------------------+-----------------------------+\n",
      "\n",
      "+--------------------------+---------------+---------------+\n",
      "|count(DISTINCT home_phone)|min(home_phone)|max(home_phone)|\n",
      "+--------------------------+---------------+---------------+\n",
      "|                         2|              0|              1|\n",
      "+--------------------------+---------------+---------------+\n",
      "\n",
      "+-------------------------------+--------------------+--------------------+\n",
      "|count(DISTINCT workplace_phone)|min(workplace_phone)|max(workplace_phone)|\n",
      "+-------------------------------+--------------------+--------------------+\n",
      "|                              2|                   0|                   1|\n",
      "+-------------------------------+--------------------+--------------------+\n",
      "\n",
      "+----------------------------------+-----------------------+-----------------------+\n",
      "|count(DISTINCT contact_person_fio)|min(contact_person_fio)|max(contact_person_fio)|\n",
      "+----------------------------------+-----------------------+-----------------------+\n",
      "|                                 2|                      0|                      1|\n",
      "+----------------------------------+-----------------------+-----------------------+\n",
      "\n",
      "+-----------------------------+------------------+------------------+\n",
      "|count(DISTINCT employer_name)|min(employer_name)|max(employer_name)|\n",
      "+-----------------------------+------------------+------------------+\n",
      "|                            2|                 0|                 1|\n",
      "+-----------------------------+------------------+------------------+\n",
      "\n",
      "+-------------------+--------+--------+\n",
      "|count(DISTINCT zip)|min(zip)|max(zip)|\n",
      "+-------------------+--------+--------+\n",
      "|               1206|    1010|    6949|\n",
      "+-------------------+--------+--------+\n",
      "\n",
      "+---------------------+----------+----------+\n",
      "|count(DISTINCT label)|min(label)|max(label)|\n",
      "+---------------------+----------+----------+\n",
      "|                    2|         0|         1|\n",
      "+---------------------+----------+----------+\n",
      "\n",
      "+-------------------------------+--------------------+--------------------+\n",
      "|count(DISTINCT antifraud_score)|min(antifraud_score)|max(antifraud_score)|\n",
      "+-------------------------------+--------------------+--------------------+\n",
      "|                            388|             0.00344|                 1.0|\n",
      "+-------------------------------+--------------------+--------------------+\n",
      "\n",
      "+--------------------+---------+---------+\n",
      "|count(DISTINCT time)|min(time)|max(time)|\n",
      "+--------------------+---------+---------+\n",
      "|               17344| 0.454093|42.641369|\n",
      "+--------------------+---------+---------+\n",
      "\n",
      "+---------------------------------+----------------------+----------------------+\n",
      "|count(DISTINCT idx1_stop_markers)|min(idx1_stop_markers)|max(idx1_stop_markers)|\n",
      "+---------------------------------+----------------------+----------------------+\n",
      "|                               33|                   0.0|                  43.0|\n",
      "+---------------------------------+----------------------+----------------------+\n",
      "\n",
      "+-------------------------------------------+--------------------------------+--------------------------------+\n",
      "|count(DISTINCT idx2_user_behaviour_markers)|min(idx2_user_behaviour_markers)|max(idx2_user_behaviour_markers)|\n",
      "+-------------------------------------------+--------------------------------+--------------------------------+\n",
      "|                                          6|                             0.0|                             5.0|\n",
      "+-------------------------------------------+--------------------------------+--------------------------------+\n",
      "\n",
      "+-----------------------------------+------------------------+------------------------+\n",
      "|count(DISTINCT idx3_device_markers)|min(idx3_device_markers)|max(idx3_device_markers)|\n",
      "+-----------------------------------+------------------------+------------------------+\n",
      "|                                  5|                     0.0|                     4.0|\n",
      "+-----------------------------------+------------------------+------------------------+\n",
      "\n"
     ]
    },
    {
     "name": "stdout",
     "output_type": "stream",
     "text": [
      "+---------------------------------------+----------------------------+----------------------------+\n",
      "|count(DISTINCT idx4_connection_markers)|min(idx4_connection_markers)|max(idx4_connection_markers)|\n",
      "+---------------------------------------+----------------------------+----------------------------+\n",
      "|                                      5|                         0.0|                         4.0|\n",
      "+---------------------------------------+----------------------------+----------------------------+\n",
      "\n",
      "+-----------------------------------+------------------------+------------------------+\n",
      "|count(DISTINCT idx5_device_quality)|min(idx5_device_quality)|max(idx5_device_quality)|\n",
      "+-----------------------------------+------------------------+------------------------+\n",
      "|                                  6|                     0.0|                     5.0|\n",
      "+-----------------------------------+------------------------+------------------------+\n",
      "\n",
      "+----------------------------------------------------+-----------------------------------------+-----------------------------------------+\n",
      "|count(DISTINCT idx6_internet_infrastructure_quality)|min(idx6_internet_infrastructure_quality)|max(idx6_internet_infrastructure_quality)|\n",
      "+----------------------------------------------------+-----------------------------------------+-----------------------------------------+\n",
      "|                                                   4|                                      0.0|                                      3.0|\n",
      "+----------------------------------------------------+-----------------------------------------+-----------------------------------------+\n",
      "\n",
      "+---------------------------------------------------+----------------------------------------+----------------------------------------+\n",
      "|count(DISTINCT idx8_device_credentials_variability)|min(idx8_device_credentials_variability)|max(idx8_device_credentials_variability)|\n",
      "+---------------------------------------------------+----------------------------------------+----------------------------------------+\n",
      "|                                                  4|                                     0.0|                                     3.0|\n",
      "+---------------------------------------------------+----------------------------------------+----------------------------------------+\n",
      "\n",
      "+-------------------------------------+--------------------------+--------------------------+\n",
      "|count(DISTINCT javascript_executable)|min(javascript_executable)|max(javascript_executable)|\n",
      "+-------------------------------------+--------------------------+--------------------------+\n",
      "|                                    1|                       1.0|                       1.0|\n",
      "+-------------------------------------+--------------------------+--------------------------+\n",
      "\n",
      "+----------------------------+-----------------+-----------------+\n",
      "|count(DISTINCT ip_available)|min(ip_available)|max(ip_available)|\n",
      "+----------------------------+-----------------+-----------------+\n",
      "|                           1|              1.0|              1.0|\n",
      "+----------------------------+-----------------+-----------------+\n",
      "\n",
      "+-----------------------------------+------------------------+------------------------+\n",
      "|count(DISTINCT useragent_available)|min(useragent_available)|max(useragent_available)|\n",
      "+-----------------------------------+------------------------+------------------------+\n",
      "|                                  1|                     1.0|                     1.0|\n",
      "+-----------------------------------+------------------------+------------------------+\n",
      "\n",
      "+-----------------------------------------+------------------------------+------------------------------+\n",
      "|count(DISTINCT supporting_data_available)|min(supporting_data_available)|max(supporting_data_available)|\n",
      "+-----------------------------------------+------------------------------+------------------------------+\n",
      "|                                        2|                           0.0|                           1.0|\n",
      "+-----------------------------------------+------------------------------+------------------------------+\n",
      "\n",
      "+--------------------------------+---------------------+---------------------+\n",
      "|count(DISTINCT is_local_country)|min(is_local_country)|max(is_local_country)|\n",
      "+--------------------------------+---------------------+---------------------+\n",
      "|                               2|                  0.0|                  1.0|\n",
      "+--------------------------------+---------------------+---------------------+\n",
      "\n",
      "+---------------------------------+----------------------+----------------------+\n",
      "|count(DISTINCT timezone_mismatch)|min(timezone_mismatch)|max(timezone_mismatch)|\n",
      "+---------------------------------+----------------------+----------------------+\n",
      "|                                2|                   0.0|                   1.0|\n",
      "+---------------------------------+----------------------+----------------------+\n",
      "\n",
      "+------------------------------------+-------------------------+-------------------------+\n",
      "|count(DISTINCT ip_sim_regions_match)|min(ip_sim_regions_match)|max(ip_sim_regions_match)|\n",
      "+------------------------------------+-------------------------+-------------------------+\n",
      "|                                   2|                      0.0|                      1.0|\n",
      "+------------------------------------+-------------------------+-------------------------+\n",
      "\n",
      "+----------------------------------+-----------------------+-----------------------+\n",
      "|count(DISTINCT duplicating_device)|min(duplicating_device)|max(duplicating_device)|\n",
      "+----------------------------------+-----------------------+-----------------------+\n",
      "|                                 2|                    0.0|                    1.0|\n",
      "+----------------------------------+-----------------------+-----------------------+\n",
      "\n",
      "+------------------------------+-------------------+-------------------+\n",
      "|count(DISTINCT duplicating_ip)|min(duplicating_ip)|max(duplicating_ip)|\n",
      "+------------------------------+-------------------+-------------------+\n",
      "|                             2|                0.0|                1.0|\n",
      "+------------------------------+-------------------+-------------------+\n",
      "\n",
      "+--------------------------------+---------------------+---------------------+\n",
      "|count(DISTINCT duplicating_user)|min(duplicating_user)|max(duplicating_user)|\n",
      "+--------------------------------+---------------------+---------------------+\n",
      "|                               2|                  0.0|                  1.0|\n",
      "+--------------------------------+---------------------+---------------------+\n",
      "\n",
      "+---------------------------+----------------+----------------+\n",
      "|count(DISTINCT seen_before)|min(seen_before)|max(seen_before)|\n",
      "+---------------------------+----------------+----------------+\n",
      "|                          2|             0.0|             1.0|\n",
      "+---------------------------+----------------+----------------+\n",
      "\n",
      "+--------------------------+---------------+---------------+\n",
      "|count(DISTINCT same_phone)|min(same_phone)|max(same_phone)|\n",
      "+--------------------------+---------------+---------------+\n",
      "|                         2|            0.0|            1.0|\n",
      "+--------------------------+---------------+---------------+\n",
      "\n",
      "+--------------------------+---------------+---------------+\n",
      "|count(DISTINCT same_login)|min(same_login)|max(same_login)|\n",
      "+--------------------------+---------------+---------------+\n",
      "|                         2|            0.0|            1.0|\n",
      "+--------------------------+---------------+---------------+\n",
      "\n",
      "+---------------------------+----------------+----------------+\n",
      "|count(DISTINCT same_region)|min(same_region)|max(same_region)|\n",
      "+---------------------------+----------------+----------------+\n",
      "|                          2|             0.0|             1.0|\n",
      "+---------------------------+----------------+----------------+\n",
      "\n",
      "+---------------------------+----------------+----------------+\n",
      "|count(DISTINCT same_device)|min(same_device)|max(same_device)|\n",
      "+---------------------------+----------------+----------------+\n",
      "|                          2|             0.0|             1.0|\n",
      "+---------------------------+----------------+----------------+\n",
      "\n",
      "+-----------------------------------------+------------------------------+------------------------------+\n",
      "|count(DISTINCT total_applications_number)|min(total_applications_number)|max(total_applications_number)|\n",
      "+-----------------------------------------+------------------------------+------------------------------+\n",
      "|                                       35|                           0.0|                          41.0|\n",
      "+-----------------------------------------+------------------------------+------------------------------+\n",
      "\n"
     ]
    },
    {
     "name": "stdout",
     "output_type": "stream",
     "text": [
      "+-----------------------------------+------------------------+------------------------+\n",
      "|count(DISTINCT applications_number)|min(applications_number)|max(applications_number)|\n",
      "+-----------------------------------+------------------------+------------------------+\n",
      "|                                 30|                     0.0|                    41.0|\n",
      "+-----------------------------------+------------------------+------------------------+\n",
      "\n",
      "+--------------------------------------------------------------------+---------------------------------------------------------+---------------------------------------------------------+\n",
      "|count(DISTINCT total_num_of_applications_with_browser_hash_in_1_day)|min(total_num_of_applications_with_browser_hash_in_1_day)|max(total_num_of_applications_with_browser_hash_in_1_day)|\n",
      "+--------------------------------------------------------------------+---------------------------------------------------------+---------------------------------------------------------+\n",
      "|                                                                  90|                                                      0.0|                                                     89.0|\n",
      "+--------------------------------------------------------------------+---------------------------------------------------------+---------------------------------------------------------+\n",
      "\n",
      "+---------------------------------------------------------------------+----------------------------------------------------------+----------------------------------------------------------+\n",
      "|count(DISTINCT total_num_of_applications_with_browser_hash_in_7_days)|min(total_num_of_applications_with_browser_hash_in_7_days)|max(total_num_of_applications_with_browser_hash_in_7_days)|\n",
      "+---------------------------------------------------------------------+----------------------------------------------------------+----------------------------------------------------------+\n",
      "|                                                                  374|                                                       0.0|                                                     520.0|\n",
      "+---------------------------------------------------------------------+----------------------------------------------------------+----------------------------------------------------------+\n",
      "\n",
      "+----------------------------------------------------------------------+-----------------------------------------------------------+-----------------------------------------------------------+\n",
      "|count(DISTINCT total_num_of_applications_with_browser_hash_in_30_days)|min(total_num_of_applications_with_browser_hash_in_30_days)|max(total_num_of_applications_with_browser_hash_in_30_days)|\n",
      "+----------------------------------------------------------------------+-----------------------------------------------------------+-----------------------------------------------------------+\n",
      "|                                                                   869|                                                        0.0|                                                     1870.0|\n",
      "+----------------------------------------------------------------------+-----------------------------------------------------------+-----------------------------------------------------------+\n",
      "\n",
      "+-----------------------------+------------------+------------------+\n",
      "|count(DISTINCT logins_number)|min(logins_number)|max(logins_number)|\n",
      "+-----------------------------+------------------+------------------+\n",
      "|                           12|               0.0|              18.0|\n",
      "+-----------------------------+------------------+------------------+\n",
      "\n",
      "+-----------------------------+------------------+------------------+\n",
      "|count(DISTINCT phones_number)|min(phones_number)|max(phones_number)|\n",
      "+-----------------------------+------------------+------------------+\n",
      "|                           27|               0.0|              33.0|\n",
      "+-----------------------------+------------------+------------------+\n",
      "\n",
      "+------------------------------+-------------------+-------------------+\n",
      "|count(DISTINCT devices_number)|min(devices_number)|max(devices_number)|\n",
      "+------------------------------+-------------------+-------------------+\n",
      "|                             6|                0.0|                5.0|\n",
      "+------------------------------+-------------------+-------------------+\n",
      "\n",
      "+-----------------------------+------------------+------------------+\n",
      "|count(DISTINCT cities_number)|min(cities_number)|max(cities_number)|\n",
      "+-----------------------------+------------------+------------------+\n",
      "|                           13|               0.0|              13.0|\n",
      "+-----------------------------+------------------+------------------+\n",
      "\n",
      "+-------------------------------+--------------------+--------------------+\n",
      "|count(DISTINCT zipcodes_number)|min(zipcodes_number)|max(zipcodes_number)|\n",
      "+-------------------------------+--------------------+--------------------+\n",
      "|                             11|                 0.0|                18.0|\n",
      "+-------------------------------+--------------------+--------------------+\n",
      "\n",
      "+----------------------------+-----------------+-----------------+\n",
      "|count(DISTINCT cards_number)|min(cards_number)|max(cards_number)|\n",
      "+----------------------------+-----------------+-----------------+\n",
      "|                          29|              0.0|             40.0|\n",
      "+----------------------------+-----------------+-----------------+\n",
      "\n",
      "+-------------------------------+--------------------+--------------------+\n",
      "|count(DISTINCT less_tenor_days)|min(less_tenor_days)|max(less_tenor_days)|\n",
      "+-------------------------------+--------------------+--------------------+\n",
      "|                              2|                 0.0|                 1.0|\n",
      "+-------------------------------+--------------------+--------------------+\n",
      "\n",
      "+---------------------------------------+----------------------------+----------------------------+\n",
      "|count(DISTINCT device_ageing_with_user)|min(device_ageing_with_user)|max(device_ageing_with_user)|\n",
      "+---------------------------------------+----------------------------+----------------------------+\n",
      "|                                     53|                         0.0|                        52.0|\n",
      "+---------------------------------------+----------------------------+----------------------------+\n",
      "\n",
      "+-------------------------------------------------------------------+--------------------------------------------------------+--------------------------------------------------------+\n",
      "|count(DISTINCT total_num_of_shortterm_credit_applications_in_1_day)|min(total_num_of_shortterm_credit_applications_in_1_day)|max(total_num_of_shortterm_credit_applications_in_1_day)|\n",
      "+-------------------------------------------------------------------+--------------------------------------------------------+--------------------------------------------------------+\n",
      "|                                                                 15|                                                     0.0|                                                    34.0|\n",
      "+-------------------------------------------------------------------+--------------------------------------------------------+--------------------------------------------------------+\n",
      "\n",
      "+--------------------------------------------------------------------+---------------------------------------------------------+---------------------------------------------------------+\n",
      "|count(DISTINCT total_num_of_shortterm_credit_applications_in_7_days)|min(total_num_of_shortterm_credit_applications_in_7_days)|max(total_num_of_shortterm_credit_applications_in_7_days)|\n",
      "+--------------------------------------------------------------------+---------------------------------------------------------+---------------------------------------------------------+\n",
      "|                                                                  38|                                                      0.0|                                                    147.0|\n",
      "+--------------------------------------------------------------------+---------------------------------------------------------+---------------------------------------------------------+\n",
      "\n",
      "+---------------------------------------------------------------------+----------------------------------------------------------+----------------------------------------------------------+\n",
      "|count(DISTINCT total_num_of_shortterm_credit_applications_in_30_days)|min(total_num_of_shortterm_credit_applications_in_30_days)|max(total_num_of_shortterm_credit_applications_in_30_days)|\n",
      "+---------------------------------------------------------------------+----------------------------------------------------------+----------------------------------------------------------+\n",
      "|                                                                   47|                                                       0.0|                                                     460.0|\n",
      "+---------------------------------------------------------------------+----------------------------------------------------------+----------------------------------------------------------+\n",
      "\n"
     ]
    },
    {
     "name": "stdout",
     "output_type": "stream",
     "text": [
      "+---------------------------------------------------------------------------+----------------------------------------------------------------+----------------------------------------------------------------+\n",
      "|count(DISTINCT total_num_of_shortterm_credit_applications_from_ip_in_1_day)|min(total_num_of_shortterm_credit_applications_from_ip_in_1_day)|max(total_num_of_shortterm_credit_applications_from_ip_in_1_day)|\n",
      "+---------------------------------------------------------------------------+----------------------------------------------------------------+----------------------------------------------------------------+\n",
      "|                                                                          7|                                                             0.0|                                                             8.0|\n",
      "+---------------------------------------------------------------------------+----------------------------------------------------------------+----------------------------------------------------------------+\n",
      "\n",
      "+----------------------------------------------------------------------------+-----------------------------------------------------------------+-----------------------------------------------------------------+\n",
      "|count(DISTINCT total_num_of_shortterm_credit_applications_from_ip_in_7_days)|min(total_num_of_shortterm_credit_applications_from_ip_in_7_days)|max(total_num_of_shortterm_credit_applications_from_ip_in_7_days)|\n",
      "+----------------------------------------------------------------------------+-----------------------------------------------------------------+-----------------------------------------------------------------+\n",
      "|                                                                          25|                                                              0.0|                                                             32.0|\n",
      "+----------------------------------------------------------------------------+-----------------------------------------------------------------+-----------------------------------------------------------------+\n",
      "\n",
      "+-----------------------------------------------------------------------------+------------------------------------------------------------------+------------------------------------------------------------------+\n",
      "|count(DISTINCT total_num_of_shortterm_credit_applications_from_ip_in_30_days)|min(total_num_of_shortterm_credit_applications_from_ip_in_30_days)|max(total_num_of_shortterm_credit_applications_from_ip_in_30_days)|\n",
      "+-----------------------------------------------------------------------------+------------------------------------------------------------------+------------------------------------------------------------------+\n",
      "|                                                                           66|                                                               0.0|                                                              91.0|\n",
      "+-----------------------------------------------------------------------------+------------------------------------------------------------------+------------------------------------------------------------------+\n",
      "\n",
      "+-----------------------------------------------------------------+------------------------------------------------------+------------------------------------------------------+\n",
      "|count(DISTINCT total_num_of_banking_credit_applications_in_1_day)|min(total_num_of_banking_credit_applications_in_1_day)|max(total_num_of_banking_credit_applications_in_1_day)|\n",
      "+-----------------------------------------------------------------+------------------------------------------------------+------------------------------------------------------+\n",
      "|                                                                4|                                                   0.0|                                                   3.0|\n",
      "+-----------------------------------------------------------------+------------------------------------------------------+------------------------------------------------------+\n",
      "\n",
      "+------------------------------------------------------------------+-------------------------------------------------------+-------------------------------------------------------+\n",
      "|count(DISTINCT total_num_of_banking_credit_applications_in_7_days)|min(total_num_of_banking_credit_applications_in_7_days)|max(total_num_of_banking_credit_applications_in_7_days)|\n",
      "+------------------------------------------------------------------+-------------------------------------------------------+-------------------------------------------------------+\n",
      "|                                                                 7|                                                    0.0|                                                    6.0|\n",
      "+------------------------------------------------------------------+-------------------------------------------------------+-------------------------------------------------------+\n",
      "\n",
      "+-------------------------------------------------------------------+--------------------------------------------------------+--------------------------------------------------------+\n",
      "|count(DISTINCT total_num_of_banking_credit_applications_in_30_days)|min(total_num_of_banking_credit_applications_in_30_days)|max(total_num_of_banking_credit_applications_in_30_days)|\n",
      "+-------------------------------------------------------------------+--------------------------------------------------------+--------------------------------------------------------+\n",
      "|                                                                 11|                                                     0.0|                                                    15.0|\n",
      "+-------------------------------------------------------------------+--------------------------------------------------------+--------------------------------------------------------+\n",
      "\n",
      "+-------------------------------------------------------------------------+--------------------------------------------------------------+--------------------------------------------------------------+\n",
      "|count(DISTINCT total_num_of_banking_credit_applications_from_ip_in_1_day)|min(total_num_of_banking_credit_applications_from_ip_in_1_day)|max(total_num_of_banking_credit_applications_from_ip_in_1_day)|\n",
      "+-------------------------------------------------------------------------+--------------------------------------------------------------+--------------------------------------------------------------+\n",
      "|                                                                        6|                                                           0.0|                                                           5.0|\n",
      "+-------------------------------------------------------------------------+--------------------------------------------------------------+--------------------------------------------------------------+\n",
      "\n",
      "+--------------------------------------------------------------------------+---------------------------------------------------------------+---------------------------------------------------------------+\n",
      "|count(DISTINCT total_num_of_banking_credit_applications_from_ip_in_7_days)|min(total_num_of_banking_credit_applications_from_ip_in_7_days)|max(total_num_of_banking_credit_applications_from_ip_in_7_days)|\n",
      "+--------------------------------------------------------------------------+---------------------------------------------------------------+---------------------------------------------------------------+\n",
      "|                                                                        13|                                                            0.0|                                                           16.0|\n",
      "+--------------------------------------------------------------------------+---------------------------------------------------------------+---------------------------------------------------------------+\n",
      "\n",
      "+---------------------------------------------------------------------------+----------------------------------------------------------------+----------------------------------------------------------------+\n",
      "|count(DISTINCT total_num_of_banking_credit_applications_from_ip_in_30_days)|min(total_num_of_banking_credit_applications_from_ip_in_30_days)|max(total_num_of_banking_credit_applications_from_ip_in_30_days)|\n",
      "+---------------------------------------------------------------------------+----------------------------------------------------------------+----------------------------------------------------------------+\n",
      "|                                                                         41|                                                             0.0|                                                            95.0|\n",
      "+---------------------------------------------------------------------------+----------------------------------------------------------------+----------------------------------------------------------------+\n",
      "\n"
     ]
    },
    {
     "name": "stdout",
     "output_type": "stream",
     "text": [
      "+------------------------------------------------------------+-------------------------------------------------+-------------------------------------------------+\n",
      "|count(DISTINCT total_num_of_insurance_applications_in_1_day)|min(total_num_of_insurance_applications_in_1_day)|max(total_num_of_insurance_applications_in_1_day)|\n",
      "+------------------------------------------------------------+-------------------------------------------------+-------------------------------------------------+\n",
      "|                                                           1|                                              0.0|                                              0.0|\n",
      "+------------------------------------------------------------+-------------------------------------------------+-------------------------------------------------+\n",
      "\n",
      "+-------------------------------------------------------------+--------------------------------------------------+--------------------------------------------------+\n",
      "|count(DISTINCT total_num_of_insurance_applications_in_7_days)|min(total_num_of_insurance_applications_in_7_days)|max(total_num_of_insurance_applications_in_7_days)|\n",
      "+-------------------------------------------------------------+--------------------------------------------------+--------------------------------------------------+\n",
      "|                                                            1|                                               0.0|                                               0.0|\n",
      "+-------------------------------------------------------------+--------------------------------------------------+--------------------------------------------------+\n",
      "\n",
      "+--------------------------------------------------------------+---------------------------------------------------+---------------------------------------------------+\n",
      "|count(DISTINCT total_num_of_insurance_applications_in_30_days)|min(total_num_of_insurance_applications_in_30_days)|max(total_num_of_insurance_applications_in_30_days)|\n",
      "+--------------------------------------------------------------+---------------------------------------------------+---------------------------------------------------+\n",
      "|                                                             1|                                                0.0|                                                0.0|\n",
      "+--------------------------------------------------------------+---------------------------------------------------+---------------------------------------------------+\n",
      "\n",
      "+--------------------------------------------------------------------+---------------------------------------------------------+---------------------------------------------------------+\n",
      "|count(DISTINCT total_num_of_insurance_applications_from_ip_in_1_day)|min(total_num_of_insurance_applications_from_ip_in_1_day)|max(total_num_of_insurance_applications_from_ip_in_1_day)|\n",
      "+--------------------------------------------------------------------+---------------------------------------------------------+---------------------------------------------------------+\n",
      "|                                                                   2|                                                      0.0|                                                      1.0|\n",
      "+--------------------------------------------------------------------+---------------------------------------------------------+---------------------------------------------------------+\n",
      "\n",
      "+---------------------------------------------------------------------+----------------------------------------------------------+----------------------------------------------------------+\n",
      "|count(DISTINCT total_num_of_insurance_applications_from_ip_in_7_days)|min(total_num_of_insurance_applications_from_ip_in_7_days)|max(total_num_of_insurance_applications_from_ip_in_7_days)|\n",
      "+---------------------------------------------------------------------+----------------------------------------------------------+----------------------------------------------------------+\n",
      "|                                                                    2|                                                       0.0|                                                       1.0|\n",
      "+---------------------------------------------------------------------+----------------------------------------------------------+----------------------------------------------------------+\n",
      "\n",
      "+----------------------------------------------------------------------+-----------------------------------------------------------+-----------------------------------------------------------+\n",
      "|count(DISTINCT total_num_of_insurance_applications_from_ip_in_30_days)|min(total_num_of_insurance_applications_from_ip_in_30_days)|max(total_num_of_insurance_applications_from_ip_in_30_days)|\n",
      "+----------------------------------------------------------------------+-----------------------------------------------------------+-----------------------------------------------------------+\n",
      "|                                                                     3|                                                        0.0|                                                        2.0|\n",
      "+----------------------------------------------------------------------+-----------------------------------------------------------+-----------------------------------------------------------+\n",
      "\n",
      "+-------------------------------------+--------------------------+--------------------------+\n",
      "|count(DISTINCT foreign_language_used)|min(foreign_language_used)|max(foreign_language_used)|\n",
      "+-------------------------------------+--------------------------+--------------------------+\n",
      "|                                    2|                       0.0|                       1.0|\n",
      "+-------------------------------------+--------------------------+--------------------------+\n",
      "\n",
      "+-------------------+--------+--------+\n",
      "|count(DISTINCT frd)|min(frd)|max(frd)|\n",
      "+-------------------+--------+--------+\n",
      "|                  2|     0.0|     1.0|\n",
      "+-------------------+--------+--------+\n",
      "\n",
      "+---------------------------------+----------------------+----------------------+\n",
      "|count(DISTINCT frd_from_diff_acc)|min(frd_from_diff_acc)|max(frd_from_diff_acc)|\n",
      "+---------------------------------+----------------------+----------------------+\n",
      "|                                2|                   0.0|                   1.0|\n",
      "+---------------------------------+----------------------+----------------------+\n",
      "\n",
      "+---------------------+----------+----------+\n",
      "|count(DISTINCT npl90)|min(npl90)|max(npl90)|\n",
      "+---------------------+----------+----------+\n",
      "|                    1|       0.0|       0.0|\n",
      "+---------------------+----------+----------+\n",
      "\n",
      "+-----------------------------------+------------------------+------------------------+\n",
      "|count(DISTINCT npl90_from_diff_acc)|min(npl90_from_diff_acc)|max(npl90_from_diff_acc)|\n",
      "+-----------------------------------+------------------------+------------------------+\n",
      "|                                  2|                     0.0|                     1.0|\n",
      "+-----------------------------------+------------------------+------------------------+\n",
      "\n",
      "+---------------------------+----------------+----------------+\n",
      "|count(DISTINCT is_ever_frd)|min(is_ever_frd)|max(is_ever_frd)|\n",
      "+---------------------------+----------------+----------------+\n",
      "|                          2|             0.0|             1.0|\n",
      "+---------------------------+----------------+----------------+\n",
      "\n",
      "+---------------------------+----------------+----------------+\n",
      "|count(DISTINCT is_mass_frd)|min(is_mass_frd)|max(is_mass_frd)|\n",
      "+---------------------------+----------------+----------------+\n",
      "|                          2|             0.0|             1.0|\n",
      "+---------------------------+----------------+----------------+\n",
      "\n",
      "+-----------------------------------+------------------------+------------------------+\n",
      "|count(DISTINCT global_ip_blacklist)|min(global_ip_blacklist)|max(global_ip_blacklist)|\n",
      "+-----------------------------------+------------------------+------------------------+\n",
      "|                                  2|                     0.0|                     1.0|\n",
      "+-----------------------------------+------------------------+------------------------+\n",
      "\n",
      "+------------------------------------+-------------------------+-------------------------+\n",
      "|count(DISTINCT global_isp_blacklist)|min(global_isp_blacklist)|max(global_isp_blacklist)|\n",
      "+------------------------------------+-------------------------+-------------------------+\n",
      "|                                   2|                      0.0|                      1.0|\n",
      "+------------------------------------+-------------------------+-------------------------+\n",
      "\n"
     ]
    },
    {
     "name": "stdout",
     "output_type": "stream",
     "text": [
      "+-----------------------------------------+------------------------------+------------------------------+\n",
      "|count(DISTINCT user_defined_ip_blacklist)|min(user_defined_ip_blacklist)|max(user_defined_ip_blacklist)|\n",
      "+-----------------------------------------+------------------------------+------------------------------+\n",
      "|                                        1|                           0.0|                           0.0|\n",
      "+-----------------------------------------+------------------------------+------------------------------+\n",
      "\n",
      "+-----------------------------------------------+------------------------------------+------------------------------------+\n",
      "|count(DISTINCT user_defined_deviceid_blacklist)|min(user_defined_deviceid_blacklist)|max(user_defined_deviceid_blacklist)|\n",
      "+-----------------------------------------------+------------------------------------+------------------------------------+\n",
      "|                                              1|                                 0.0|                                 0.0|\n",
      "+-----------------------------------------------+------------------------------------+------------------------------------+\n",
      "\n",
      "+---------------------------------------------+----------------------------------+----------------------------------+\n",
      "|count(DISTINCT user_defined_userid_blacklist)|min(user_defined_userid_blacklist)|max(user_defined_userid_blacklist)|\n",
      "+---------------------------------------------+----------------------------------+----------------------------------+\n",
      "|                                            1|                               0.0|                               0.0|\n",
      "+---------------------------------------------+----------------------------------+----------------------------------+\n",
      "\n",
      "+------------------------------------------+-------------------------------+-------------------------------+\n",
      "|count(DISTINCT user_defined_isp_blacklist)|min(user_defined_isp_blacklist)|max(user_defined_isp_blacklist)|\n",
      "+------------------------------------------+-------------------------------+-------------------------------+\n",
      "|                                         1|                            0.0|                            0.0|\n",
      "+------------------------------------------+-------------------------------+-------------------------------+\n",
      "\n",
      "+-------------------------------------------------------+--------------------------------------------+--------------------------------------------+\n",
      "|count(DISTINCT user_defined_similar_deviceid_blacklist)|min(user_defined_similar_deviceid_blacklist)|max(user_defined_similar_deviceid_blacklist)|\n",
      "+-------------------------------------------------------+--------------------------------------------+--------------------------------------------+\n",
      "|                                                      1|                                         0.0|                                         0.0|\n",
      "+-------------------------------------------------------+--------------------------------------------+--------------------------------------------+\n",
      "\n",
      "+-----------------------------------+------------------------+------------------------+\n",
      "|count(DISTINCT suspicious_referral)|min(suspicious_referral)|max(suspicious_referral)|\n",
      "+-----------------------------------+------------------------+------------------------+\n",
      "|                                  2|                     0.0|                     1.0|\n",
      "+-----------------------------------+------------------------+------------------------+\n",
      "\n",
      "+----------------------------------+-----------------------+-----------------------+\n",
      "|count(DISTINCT suspicious_plugins)|min(suspicious_plugins)|max(suspicious_plugins)|\n",
      "+----------------------------------+-----------------------+-----------------------+\n",
      "|                                 2|                    0.0|                    1.0|\n",
      "+----------------------------------+-----------------------+-----------------------+\n",
      "\n",
      "+--------------------------------+---------------------+---------------------+\n",
      "|count(DISTINCT suspicious_fonts)|min(suspicious_fonts)|max(suspicious_fonts)|\n",
      "+--------------------------------+---------------------+---------------------+\n",
      "|                               2|                  0.0|                  1.0|\n",
      "+--------------------------------+---------------------+---------------------+\n",
      "\n",
      "+----------------------------+-----------------+-----------------+\n",
      "|count(DISTINCT cookie_clone)|min(cookie_clone)|max(cookie_clone)|\n",
      "+----------------------------+-----------------+-----------------+\n",
      "|                           2|              0.0|              1.0|\n",
      "+----------------------------+-----------------+-----------------+\n",
      "\n",
      "+---------------------------------+----------------------+----------------------+\n",
      "|count(DISTINCT mail_login_length)|min(mail_login_length)|max(mail_login_length)|\n",
      "+---------------------------------+----------------------+----------------------+\n",
      "|                               29|                   0.0|                  31.0|\n",
      "+---------------------------------+----------------------+----------------------+\n",
      "\n",
      "+---------------------------------+----------------------+----------------------+\n",
      "|count(DISTINCT mail_login_marker)|min(mail_login_marker)|max(mail_login_marker)|\n",
      "+---------------------------------+----------------------+----------------------+\n",
      "|                                2|                   0.0|                   1.0|\n",
      "+---------------------------------+----------------------+----------------------+\n",
      "\n",
      "+------------------------------------+-------------------------+-------------------------+\n",
      "|count(DISTINCT social_vector_length)|min(social_vector_length)|max(social_vector_length)|\n",
      "+------------------------------------+-------------------------+-------------------------+\n",
      "|                                   1|                      0.0|                      0.0|\n",
      "+------------------------------------+-------------------------+-------------------------+\n",
      "\n",
      "+----------------------------+-----------------+-----------------+\n",
      "|count(DISTINCT time_on_page)|min(time_on_page)|max(time_on_page)|\n",
      "+----------------------------+-----------------+-----------------+\n",
      "|                         355|              0.0|            589.0|\n",
      "+----------------------------+-----------------+-----------------+\n",
      "\n",
      "+----------------------------------+-----------------------+-----------------------+\n",
      "|count(DISTINCT number_of_hot_keys)|min(number_of_hot_keys)|max(number_of_hot_keys)|\n",
      "+----------------------------------+-----------------------+-----------------------+\n",
      "|                                 9|                    0.0|                   13.0|\n",
      "+----------------------------------+-----------------------+-----------------------+\n",
      "\n",
      "+-------------------------------------+--------------------------+--------------------------+\n",
      "|count(DISTINCT number_of_corrections)|min(number_of_corrections)|max(number_of_corrections)|\n",
      "+-------------------------------------+--------------------------+--------------------------+\n",
      "|                                   19|                       0.0|                      58.0|\n",
      "+-------------------------------------+--------------------------+--------------------------+\n",
      "\n",
      "+-------------------------------------+--------------------------+--------------------------+\n",
      "|count(DISTINCT browser_history_count)|min(browser_history_count)|max(browser_history_count)|\n",
      "+-------------------------------------+--------------------------+--------------------------+\n",
      "|                                   58|                       1.0|                     114.0|\n",
      "+-------------------------------------+--------------------------+--------------------------+\n",
      "\n",
      "+-------------------------------+--------------------+--------------------+\n",
      "|count(DISTINCT is_console_open)|min(is_console_open)|max(is_console_open)|\n",
      "+-------------------------------+--------------------+--------------------+\n",
      "|                              2|                 0.0|                 1.0|\n",
      "+-------------------------------+--------------------+--------------------+\n",
      "\n",
      "+--------------------------------+---------------------+---------------------+\n",
      "|count(DISTINCT ram_productivity)|min(ram_productivity)|max(ram_productivity)|\n",
      "+--------------------------------+---------------------+---------------------+\n",
      "|                             986|                 49.0|              74199.0|\n",
      "+--------------------------------+---------------------+---------------------+\n",
      "\n"
     ]
    },
    {
     "name": "stdout",
     "output_type": "stream",
     "text": [
      "+------------------------------------+-------------------------+-------------------------+\n",
      "|count(DISTINCT storage_productivity)|min(storage_productivity)|max(storage_productivity)|\n",
      "+------------------------------------+-------------------------+-------------------------+\n",
      "|                                 600|                      0.0|                   9430.0|\n",
      "+------------------------------------+-------------------------+-------------------------+\n",
      "\n",
      "+-------------------------------------+--------------------------+--------------------------+\n",
      "|count(DISTINCT pure_avg_typing_speed)|min(pure_avg_typing_speed)|max(pure_avg_typing_speed)|\n",
      "+-------------------------------------+--------------------------+--------------------------+\n",
      "|                                 1070|                       0.0|                   17304.0|\n",
      "+-------------------------------------+--------------------------+--------------------------+\n",
      "\n",
      "+--------------------------------+---------------------+---------------------+\n",
      "|count(DISTINCT avg_typing_speed)|min(avg_typing_speed)|max(avg_typing_speed)|\n",
      "+--------------------------------+---------------------+---------------------+\n",
      "|                            2014|                  0.0|              45953.0|\n",
      "+--------------------------------+---------------------+---------------------+\n",
      "\n",
      "+----------------------------+-----------------+-----------------+\n",
      "|count(DISTINCT single_click)|min(single_click)|max(single_click)|\n",
      "+----------------------------+-----------------+-----------------+\n",
      "|                          37|              1.0|             48.0|\n",
      "+----------------------------+-----------------+-----------------+\n",
      "\n",
      "+----------------------------+-----------------+-----------------+\n",
      "|count(DISTINCT double_click)|min(double_click)|max(double_click)|\n",
      "+----------------------------+-----------------+-----------------+\n",
      "|                           9|              1.0|             17.0|\n",
      "+----------------------------+-----------------+-----------------+\n",
      "\n",
      "+----------------------------+-----------------+-----------------+\n",
      "|count(DISTINCT context_menu)|min(context_menu)|max(context_menu)|\n",
      "+----------------------------+-----------------+-----------------+\n",
      "|                          10|              1.0|             13.0|\n",
      "+----------------------------+-----------------+-----------------+\n",
      "\n",
      "+--------------------------+---------------+---------------+\n",
      "|count(DISTINCT leave_page)|min(leave_page)|max(leave_page)|\n",
      "+--------------------------+---------------+---------------+\n",
      "|                        10|            1.0|           11.0|\n",
      "+--------------------------+---------------+---------------+\n",
      "\n",
      "+---------------------------------+----------------------+----------------------+\n",
      "|count(DISTINCT observed_quarters)|min(observed_quarters)|max(observed_quarters)|\n",
      "+---------------------------------+----------------------+----------------------+\n",
      "|                                4|                   1.0|                   4.0|\n",
      "+---------------------------------+----------------------+----------------------+\n",
      "\n",
      "+-------------------------+--------------+-----------------+\n",
      "|count(DISTINCT touch_dev)|min(touch_dev)|   max(touch_dev)|\n",
      "+-------------------------+--------------+-----------------+\n",
      "|                     2304|           0.0|69.12899999999999|\n",
      "+-------------------------+--------------+-----------------+\n",
      "\n",
      "+-----------------------+------------+------------+\n",
      "|count(DISTINCT acc_dev)|min(acc_dev)|max(acc_dev)|\n",
      "+-----------------------+------------+------------+\n",
      "|                   5266|         0.0|     159.533|\n",
      "+-----------------------+------------+------------+\n",
      "\n",
      "+--------------------------------------+---------------------------+---------------------------+\n",
      "|count(DISTINCT data_manipulation_risk)|min(data_manipulation_risk)|max(data_manipulation_risk)|\n",
      "+--------------------------------------+---------------------------+---------------------------+\n",
      "|                                     2|                        0.0|                        1.0|\n",
      "+--------------------------------------+---------------------------+---------------------------+\n",
      "\n",
      "+--------------------------------------+---------------------------+---------------------------+\n",
      "|count(DISTINCT loan_limit_utilization)|min(loan_limit_utilization)|max(loan_limit_utilization)|\n",
      "+--------------------------------------+---------------------------+---------------------------+\n",
      "|                                     1|                        0.0|                        0.0|\n",
      "+--------------------------------------+---------------------------+---------------------------+\n",
      "\n",
      "+-----------------------------------------------------+------------------------------------------+------------------------------------------+\n",
      "|count(DISTINCT number_of_secondary_antifraud_markers)|min(number_of_secondary_antifraud_markers)|max(number_of_secondary_antifraud_markers)|\n",
      "+-----------------------------------------------------+------------------------------------------+------------------------------------------+\n",
      "|                                                   33|                                       1.0|                                      46.0|\n",
      "+-----------------------------------------------------+------------------------------------------+------------------------------------------+\n",
      "\n",
      "+-------------------------------+--------------------+--------------------+\n",
      "|count(DISTINCT ip_country_code)|min(ip_country_code)|max(ip_country_code)|\n",
      "+-------------------------------+--------------------+--------------------+\n",
      "|                              2|                   0|                   1|\n",
      "+-------------------------------+--------------------+--------------------+\n",
      "\n",
      "+------------------------------+-------------------+-------------------+\n",
      "|count(DISTINCT ip_region_name)|min(ip_region_name)|max(ip_region_name)|\n",
      "+------------------------------+-------------------+-------------------+\n",
      "|                           111|                  -|       Zuid-Holland|\n",
      "+------------------------------+-------------------+-------------------+\n",
      "\n",
      "+-----------------------+------------+------------+\n",
      "|count(DISTINCT ip_city)|min(ip_city)|max(ip_city)|\n",
      "+-----------------------+------------+------------+\n",
      "|                   1246|           -|    Zyukayka|\n",
      "+-----------------------+------------+------------+\n",
      "\n",
      "+----------------------------+-------------------+------------------+\n",
      "|count(DISTINCT ip_longitude)|  min(ip_longitude)| max(ip_longitude)|\n",
      "+----------------------------+-------------------+------------------+\n",
      "|                        1717|-179.16666999999998|162.47799999999998|\n",
      "+----------------------------+-------------------+------------------+\n",
      "\n",
      "+---------------------------+----------------+----------------+\n",
      "|count(DISTINCT ip_latitude)|min(ip_latitude)|max(ip_latitude)|\n",
      "+---------------------------+----------------+----------------+\n",
      "|                       1677|          -6.215|          69.487|\n",
      "+---------------------------+----------------+----------------+\n",
      "\n",
      "+------------------------+--------------------+-------------+\n",
      "|count(DISTINCT ip_owner)|       min(ip_owner)|max(ip_owner)|\n",
      "+------------------------+--------------------+-------------+\n",
      "|                     987|24 Bolshaya Morsk...|     udmvt.ru|\n",
      "+------------------------+--------------------+-------------+\n",
      "\n",
      "+-------------------------+--------------+--------------+\n",
      "|count(DISTINCT ip_domain)|min(ip_domain)|max(ip_domain)|\n",
      "+-------------------------+--------------+--------------+\n",
      "|                      789|             -|     ztomy.com|\n",
      "+-------------------------+--------------+--------------+\n",
      "\n",
      "+-------------------------------+--------------------+--------------------+\n",
      "|count(DISTINCT ip_mobile_brand)|min(ip_mobile_brand)|max(ip_mobile_brand)|\n",
      "+-------------------------------+--------------------+--------------------+\n",
      "|                              8|                   -|          Win Mobile|\n",
      "+-------------------------------+--------------------+--------------------+\n",
      "\n",
      "+-----------------------------+------------------+------------------+\n",
      "|count(DISTINCT ip_usage_type)|min(ip_usage_type)|max(ip_usage_type)|\n",
      "+-----------------------------+------------------+------------------+\n",
      "|                            5|               COM|               MOB|\n",
      "+-----------------------------+------------------+------------------+\n",
      "\n"
     ]
    },
    {
     "name": "stdout",
     "output_type": "stream",
     "text": [
      "+----------------------------+-----------------+-----------------+\n",
      "|count(DISTINCT ip_net_speed)|min(ip_net_speed)|max(ip_net_speed)|\n",
      "+----------------------------+-----------------+-----------------+\n",
      "|                           4|             COMP|               T1|\n",
      "+----------------------------+-----------------+-----------------+\n",
      "\n",
      "+---------------------+----------+----------+\n",
      "|count(DISTINCT proxy)|min(proxy)|max(proxy)|\n",
      "+---------------------+----------+----------+\n",
      "|                    2|       0.0|       1.0|\n",
      "+---------------------+----------+----------+\n",
      "\n",
      "+-------------------+--------+--------+\n",
      "|count(DISTINCT tor)|min(tor)|max(tor)|\n",
      "+-------------------+--------+--------+\n",
      "|                  2|     0.0|     1.0|\n",
      "+-------------------+--------+--------+\n",
      "\n",
      "+--------------------------+---------------+---------------+\n",
      "|count(DISTINCT ipv6_usage)|min(ipv6_usage)|max(ipv6_usage)|\n",
      "+--------------------------+---------------+---------------+\n",
      "|                         2|            0.0|            1.0|\n",
      "+--------------------------+---------------+---------------+\n",
      "\n",
      "+---------------------------+----------------+----------------+\n",
      "|count(DISTINCT ip_mismatch)|min(ip_mismatch)|max(ip_mismatch)|\n",
      "+---------------------------+----------------+----------------+\n",
      "|                          2|             0.0|             1.0|\n",
      "+---------------------------+----------------+----------------+\n",
      "\n",
      "+-----------------------------------+------------------------+------------------------+\n",
      "|count(DISTINCT ip_ageing_in_months)|min(ip_ageing_in_months)|max(ip_ageing_in_months)|\n",
      "+-----------------------------------+------------------------+------------------------+\n",
      "|                                 51|                     1.0|                    51.0|\n",
      "+-----------------------------------+------------------------+------------------------+\n",
      "\n",
      "+------------------------+-------------+-------------+\n",
      "|count(DISTINCT dns_name)|min(dns_name)|max(dns_name)|\n",
      "+------------------------+-------------+-------------+\n",
      "|                     912|100megabit.ru|     zsttk.ru|\n",
      "+------------------------+-------------+-------------+\n",
      "\n",
      "+----------------------------+-----------------+-----------------+\n",
      "|count(DISTINCT is_dns_local)|min(is_dns_local)|max(is_dns_local)|\n",
      "+----------------------------+-----------------+-----------------+\n",
      "|                           2|              0.0|              1.0|\n",
      "+----------------------------+-----------------+-----------------+\n",
      "\n",
      "+---------------------------+----------------+----------------+\n",
      "|count(DISTINCT ip_zip_code)|min(ip_zip_code)|max(ip_zip_code)|\n",
      "+---------------------------+----------------+----------------+\n",
      "|                        882|               -|            WC2N|\n",
      "+---------------------------+----------------+----------------+\n",
      "\n",
      "+-------------------------------+--------------------+--------------------+\n",
      "|count(DISTINCT virtual_machine)|min(virtual_machine)|max(virtual_machine)|\n",
      "+-------------------------------+--------------------+--------------------+\n",
      "|                              2|                 0.0|                 1.0|\n",
      "+-------------------------------+--------------------+--------------------+\n",
      "\n",
      "+--------------------------------------------+---------------------------------+---------------------------------+\n",
      "|count(DISTINCT is_useragent_structure_issue)|min(is_useragent_structure_issue)|max(is_useragent_structure_issue)|\n",
      "+--------------------------------------------+---------------------------------+---------------------------------+\n",
      "|                                           2|                              0.0|                              1.0|\n",
      "+--------------------------------------------+---------------------------------+---------------------------------+\n",
      "\n",
      "+-----------------------------------+------------------------+------------------------+\n",
      "|count(DISTINCT is_randomizer_issue)|min(is_randomizer_issue)|max(is_randomizer_issue)|\n",
      "+-----------------------------------+------------------------+------------------------+\n",
      "|                                  2|                     0.0|                     1.0|\n",
      "+-----------------------------------+------------------------+------------------------+\n",
      "\n",
      "+---------------------------------+----------------------+----------------------+\n",
      "|count(DISTINCT is_canvas_blocker)|min(is_canvas_blocker)|max(is_canvas_blocker)|\n",
      "+---------------------------------+----------------------+----------------------+\n",
      "|                                3|                   1.0|                   6.0|\n",
      "+---------------------------------+----------------------+----------------------+\n",
      "\n",
      "+-------------------------------+--------------------+--------------------+\n",
      "|count(DISTINCT is_private_mode)|min(is_private_mode)|max(is_private_mode)|\n",
      "+-------------------------------+--------------------+--------------------+\n",
      "|                              2|                 0.0|                 1.0|\n",
      "+-------------------------------+--------------------+--------------------+\n",
      "\n",
      "+----------------------+-----------+-----------+\n",
      "|count(DISTINCT botnet)|min(botnet)|max(botnet)|\n",
      "+----------------------+-----------+-----------+\n",
      "|                     2|        0.0|        1.0|\n",
      "+----------------------+-----------+-----------+\n",
      "\n",
      "+--------------------------------------+---------------------------+---------------------------+\n",
      "|count(DISTINCT connection_via_browser)|min(connection_via_browser)|max(connection_via_browser)|\n",
      "+--------------------------------------+---------------------------+---------------------------+\n",
      "|                                     2|                        0.0|                        1.0|\n",
      "+--------------------------------------+---------------------------+---------------------------+\n",
      "\n",
      "+------------------------------------------+-------------------------------+-------------------------------+\n",
      "|count(DISTINCT connection_via_application)|min(connection_via_application)|max(connection_via_application)|\n",
      "+------------------------------------------+-------------------------------+-------------------------------+\n",
      "|                                         2|                            0.0|                            1.0|\n",
      "+------------------------------------------+-------------------------------+-------------------------------+\n",
      "\n",
      "+--------------------------------------------+---------------------------------+---------------------------------+\n",
      "|count(DISTINCT is_web_view_application_used)|min(is_web_view_application_used)|max(is_web_view_application_used)|\n",
      "+--------------------------------------------+---------------------------------+---------------------------------+\n",
      "|                                           2|                              0.0|                              1.0|\n",
      "+--------------------------------------------+---------------------------------+---------------------------------+\n",
      "\n",
      "+---------------------------------------+----------------------------+----------------------------+\n",
      "|count(DISTINCT masquerading_as_desktop)|min(masquerading_as_desktop)|max(masquerading_as_desktop)|\n",
      "+---------------------------------------+----------------------------+----------------------------+\n",
      "|                                      1|                         0.0|                         0.0|\n",
      "+---------------------------------------+----------------------------+----------------------------+\n",
      "\n",
      "+-----------------------------+------------------+------------------+\n",
      "|count(DISTINCT device_vendor)|min(device_vendor)|max(device_vendor)|\n",
      "+-----------------------------+------------------+------------------+\n",
      "|                          110|               AOL|               iNo|\n",
      "+-----------------------------+------------------+------------------+\n",
      "\n",
      "+-----------------------------+------------------+------------------+\n",
      "|count(DISTINCT mobile_device)|min(mobile_device)|max(mobile_device)|\n",
      "+-----------------------------+------------------+------------------+\n",
      "|                            2|               0.0|               1.0|\n",
      "+-----------------------------+------------------+------------------+\n",
      "\n",
      "+----------------------------+-----------------+-----------------+\n",
      "|count(DISTINCT touch_screen)|min(touch_screen)|max(touch_screen)|\n",
      "+----------------------------+-----------------+-----------------+\n",
      "|                           2|              0.0|              1.0|\n",
      "+----------------------------+-----------------+-----------------+\n",
      "\n"
     ]
    },
    {
     "name": "stdout",
     "output_type": "stream",
     "text": [
      "+---------------------------------------+----------------------------+----------------------------+\n",
      "|count(DISTINCT display_width_via_pixel)|min(display_width_via_pixel)|max(display_width_via_pixel)|\n",
      "+---------------------------------------+----------------------------+----------------------------+\n",
      "|                                    104|                         0.0|                      3840.0|\n",
      "+---------------------------------------+----------------------------+----------------------------+\n",
      "\n",
      "+----------------------------------------+-----------------------------+-----------------------------+\n",
      "|count(DISTINCT display_height_via_pixel)|min(display_height_via_pixel)|max(display_height_via_pixel)|\n",
      "+----------------------------------------+-----------------------------+-----------------------------+\n",
      "|                                     159|                          0.0|                       2160.0|\n",
      "+----------------------------------------+-----------------------------+-----------------------------+\n",
      "\n",
      "+-----------------------------------------------+------------------------------------+------------------------------------+\n",
      "|count(DISTINCT display_width_from_manufacturer)|min(display_width_from_manufacturer)|max(display_width_from_manufacturer)|\n",
      "+-----------------------------------------------+------------------------------------+------------------------------------+\n",
      "|                                             22|                               240.0|                              2560.0|\n",
      "+-----------------------------------------------+------------------------------------+------------------------------------+\n",
      "\n",
      "+------------------------------------------------+-------------------------------------+-------------------------------------+\n",
      "|count(DISTINCT display_height_from_manufacturer)|min(display_height_from_manufacturer)|max(display_height_from_manufacturer)|\n",
      "+------------------------------------------------+-------------------------------------+-------------------------------------+\n",
      "|                                              44|                                320.0|                               3840.0|\n",
      "+------------------------------------------------+-------------------------------------+-------------------------------------+\n",
      "\n",
      "+------------------------------------+-------------------------+-------------------------+\n",
      "|count(DISTINCT usable_display_width)|min(usable_display_width)|max(usable_display_width)|\n",
      "+------------------------------------+-------------------------+-------------------------+\n",
      "|                                  36|                    228.0|                   1280.0|\n",
      "+------------------------------------+-------------------------+-------------------------+\n",
      "\n",
      "+-------------------------------------+--------------------------+--------------------------+\n",
      "|count(DISTINCT usable_display_height)|min(usable_display_height)|max(usable_display_height)|\n",
      "+-------------------------------------+--------------------------+--------------------------+\n",
      "|                                   54|                     280.0|                    1920.0|\n",
      "+-------------------------------------+--------------------------+--------------------------+\n",
      "\n",
      "+----------------------------------------+-----------------------------+-----------------------------+\n",
      "|count(DISTINCT screen_geometry_mismatch)|min(screen_geometry_mismatch)|max(screen_geometry_mismatch)|\n",
      "+----------------------------------------+-----------------------------+-----------------------------+\n",
      "|                                       2|                          0.0|                          1.0|\n",
      "+----------------------------------------+-----------------------------+-----------------------------+\n",
      "\n",
      "+--------------------------------------------+---------------------------------+---------------------------------+\n",
      "|count(DISTINCT is_regular_screen_resolution)|min(is_regular_screen_resolution)|max(is_regular_screen_resolution)|\n",
      "+--------------------------------------------+---------------------------------+---------------------------------+\n",
      "|                                           2|                              0.0|                              1.0|\n",
      "+--------------------------------------------+---------------------------------+---------------------------------+\n",
      "\n",
      "+------------------------------------+-------------------------+-------------------------+\n",
      "|count(DISTINCT diagonal_screen_size)|min(diagonal_screen_size)|max(diagonal_screen_size)|\n",
      "+------------------------------------+-------------------------+-------------------------+\n",
      "|                                  74|                     2.63|                     10.8|\n",
      "+------------------------------------+-------------------------+-------------------------+\n",
      "\n",
      "+---------------------------+----------------+----------------+\n",
      "|count(DISTINCT display_ppi)|min(display_ppi)|max(display_ppi)|\n",
      "+---------------------------+----------------+----------------+\n",
      "|                        146|           104.0|           801.0|\n",
      "+---------------------------+----------------+----------------+\n",
      "\n",
      "+-----------------------------------+------------------------+------------------------+\n",
      "|count(DISTINCT display_pixel_ratio)|min(display_pixel_ratio)|max(display_pixel_ratio)|\n",
      "+-----------------------------------+------------------------+------------------------+\n",
      "|                                 65|                     0.0|                     4.5|\n",
      "+-----------------------------------+------------------------+------------------------+\n",
      "\n",
      "+-------------------------------------+--------------------------+--------------------------+\n",
      "|count(DISTINCT color_depth_via_pixel)|min(color_depth_via_pixel)|max(color_depth_via_pixel)|\n",
      "+-------------------------------------+--------------------------+--------------------------+\n",
      "|                                    2|                      24.0|                      32.0|\n",
      "+-------------------------------------+--------------------------+--------------------------+\n",
      "\n",
      "+---------------------------------------------+----------------------------------+----------------------------------+\n",
      "|count(DISTINCT color_depth_from_manufacturer)|min(color_depth_from_manufacturer)|max(color_depth_from_manufacturer)|\n",
      "+---------------------------------------------+----------------------------------+----------------------------------+\n",
      "|                                            4|                              16.0|                              32.0|\n",
      "+---------------------------------------------+----------------------------------+----------------------------------+\n",
      "\n",
      "+------------------------+-------------+-------------+\n",
      "|count(DISTINCT ram_size)|min(ram_size)|max(ram_size)|\n",
      "+------------------------+-------------+-------------+\n",
      "|                       6|          0.5|          8.0|\n",
      "+------------------------+-------------+-------------+\n",
      "\n",
      "+------------------------------------+-------------------------+-------------------------+\n",
      "|count(DISTINCT hardware_concurrency)|min(hardware_concurrency)|max(hardware_concurrency)|\n",
      "+------------------------------------+-------------------------+-------------------------+\n",
      "|                                  12|                      1.0|                     64.0|\n",
      "+------------------------------------+-------------------------+-------------------------+\n",
      "\n",
      "+-------------------+--------+--------+\n",
      "|count(DISTINCT nfc)|min(nfc)|max(nfc)|\n",
      "+-------------------+--------+--------+\n",
      "|                  2|     0.0|     1.0|\n",
      "+-------------------+--------+--------+\n",
      "\n",
      "+---------------------------------+----------------------+----------------------+\n",
      "|count(DISTINCT camera_resolution)|min(camera_resolution)|max(camera_resolution)|\n",
      "+---------------------------------+----------------------+----------------------+\n",
      "|                               47|                   0.3|                  64.0|\n",
      "+---------------------------------+----------------------+----------------------+\n",
      "\n",
      "+------------------------------+-------------------+-------------------+\n",
      "|count(DISTINCT pixel_language)|min(pixel_language)|max(pixel_language)|\n",
      "+------------------------------+-------------------+-------------------+\n",
      "|                             4|              en-US|              ru-Ru|\n",
      "+------------------------------+-------------------+-------------------+\n",
      "\n"
     ]
    },
    {
     "name": "stdout",
     "output_type": "stream",
     "text": [
      "+-----------------------+------------+------------+\n",
      "|count(DISTINCT os_name)|min(os_name)|max(os_name)|\n",
      "+-----------------------+------------+------------+\n",
      "|                      9|     Android|         iOS|\n",
      "+-----------------------+------------+------------+\n",
      "\n",
      "+----------------------------+-----------------+-----------------+\n",
      "|count(DISTINCT browser_name)|min(browser_name)|max(browser_name)|\n",
      "+----------------------------+-----------------+-----------------+\n",
      "|                          11|           Chrome|   Yandex.Browser|\n",
      "+----------------------------+-----------------+-----------------+\n",
      "\n",
      "+--------------------------------+---------------------+---------------------+\n",
      "|count(DISTINCT rendering_engine)|min(rendering_engine)|max(rendering_engine)|\n",
      "+--------------------------------+---------------------+---------------------+\n",
      "|                               5|                Blink|               WebKit|\n",
      "+--------------------------------+---------------------+---------------------+\n",
      "\n",
      "+----------------------+-----------+-----------+\n",
      "|count(DISTINCT budget)|min(budget)|max(budget)|\n",
      "+----------------------+-----------+-----------+\n",
      "|                     2|          0|          1|\n",
      "+----------------------+-----------+-----------+\n",
      "\n",
      "+------------------------+-------------+-------------+\n",
      "|count(DISTINCT metropol)|min(metropol)|max(metropol)|\n",
      "+------------------------+-------------+-------------+\n",
      "|                       2|            0|            1|\n",
      "+------------------------+-------------+-------------+\n",
      "\n",
      "+----------------------------+-----------------+-----------------+\n",
      "|count(DISTINCT completeness)|min(completeness)|max(completeness)|\n",
      "+----------------------------+-----------------+-----------------+\n",
      "|                           9|                0|                8|\n",
      "+----------------------------+-----------------+-----------------+\n",
      "\n",
      "+---------------------------+----------------+----------------+\n",
      "|count(DISTINCT income_null)|min(income_null)|max(income_null)|\n",
      "+---------------------------+----------------+----------------+\n",
      "|                          2|               0|               1|\n",
      "+---------------------------+----------------+----------------+\n",
      "\n",
      "+--------------------------+------------------+-----------------+\n",
      "|count(DISTINCT region_app)|   min(region_app)|  max(region_app)|\n",
      "+--------------------------+------------------+-----------------+\n",
      "|                        81|Adygeya Respublika|Zabaykalskiy kray|\n",
      "+--------------------------+------------------+-----------------+\n",
      "\n",
      "+--------------------------+---------------+---------------+\n",
      "|count(DISTINCT calculator)|min(calculator)|max(calculator)|\n",
      "+--------------------------+---------------+---------------+\n",
      "|                         4|         change|          right|\n",
      "+--------------------------+---------------+---------------+\n",
      "\n",
      "+------------------------+-------------+-------------+\n",
      "|count(DISTINCT interest)|min(interest)|max(interest)|\n",
      "+------------------------+-------------+-------------+\n",
      "|                     370|          1.0|        108.0|\n",
      "+------------------------+-------------+-------------+\n",
      "\n",
      "+---------------------------------+----------------------+----------------------+\n",
      "|count(DISTINCT province_mismatch)|min(province_mismatch)|max(province_mismatch)|\n",
      "+---------------------------------+----------------------+----------------------+\n",
      "|                                2|                     0|                     1|\n",
      "+---------------------------------+----------------------+----------------------+\n",
      "\n",
      "+----------------------------+-----------------+-----------------+\n",
      "|count(DISTINCT zip_mismatch)|min(zip_mismatch)|max(zip_mismatch)|\n",
      "+----------------------------+-----------------+-----------------+\n",
      "|                           2|                0|                1|\n",
      "+----------------------------+-----------------+-----------------+\n",
      "\n",
      "+----------------------+-----------+-----------+\n",
      "|count(DISTINCT tablet)|min(tablet)|max(tablet)|\n",
      "+----------------------+-----------+-----------+\n",
      "|                     2|          0|          1|\n",
      "+----------------------+-----------+-----------+\n",
      "\n",
      "+------------------------------+-------------------+-------------------+\n",
      "|count(DISTINCT pixel_mismatch)|min(pixel_mismatch)|max(pixel_mismatch)|\n",
      "+------------------------------+-------------------+-------------------+\n",
      "|                             2|                  0|                  1|\n",
      "+------------------------------+-------------------+-------------------+\n",
      "\n",
      "+-------------------------+--------------+--------------+\n",
      "|count(DISTINCT time_sine)|min(time_sine)|max(time_sine)|\n",
      "+-------------------------+--------------+--------------+\n",
      "|                     1255|          -1.0|           1.0|\n",
      "+-------------------------+--------------+--------------+\n",
      "\n",
      "+---------------------------+----------------+----------------+\n",
      "|count(DISTINCT time_cosine)|min(time_cosine)|max(time_cosine)|\n",
      "+---------------------------+----------------+----------------+\n",
      "|                       1252|            -1.0|             1.0|\n",
      "+---------------------------+----------------+----------------+\n",
      "\n",
      "+-----------------------+------------+------------+\n",
      "|count(DISTINCT ru_lang)|min(ru_lang)|max(ru_lang)|\n",
      "+-----------------------+------------+------------+\n",
      "|                      2|           0|           1|\n",
      "+-----------------------+------------+------------+\n",
      "\n",
      "+--------------------------+---------------+---------------+\n",
      "|count(DISTINCT other_lang)|min(other_lang)|max(other_lang)|\n",
      "+--------------------------+---------------+---------------+\n",
      "|                         2|              0|              1|\n",
      "+--------------------------+---------------+---------------+\n",
      "\n",
      "+--------------------------+---------------+---------------+\n",
      "|count(DISTINCT device_age)|min(device_age)|max(device_age)|\n",
      "+--------------------------+---------------+---------------+\n",
      "|                        14|            0.0|           13.0|\n",
      "+--------------------------+---------------+---------------+\n",
      "\n"
     ]
    }
   ],
   "source": [
    "for name in d.columns :\n",
    "    d.select( name ).agg( f.countDistinct( f.col( name ) ), f.min( f.col( name ) ), f.max( f.col( name ) ) ).show()"
   ]
  },
  {
   "cell_type": "code",
   "execution_count": 101,
   "metadata": {},
   "outputs": [],
   "source": [
    "numerics = [ 'amount_prep', 'term_prep', 'age', 'income', 'cl_education_type_id', 'antifraud_score', 'time', 'idx1_stop_markers', 'idx2_user_behaviour_markers', 'idx3_device_markers', 'idx4_connection_markers', 'idx5_device_quality', 'idx6_internet_infrastructure_quality', 'idx8_device_credentials_variability', 'total_applications_number', 'total_num_of_applications_with_browser_hash_in_1_day', 'total_num_of_applications_with_browser_hash_in_7_days', 'total_num_of_applications_with_browser_hash_in_30_days', 'logins_number', 'phones_number', 'devices_number', 'cities_number', 'zipcodes_number', 'cards_number', 'device_ageing_with_user', 'total_num_of_shortterm_credit_applications_in_1_day', 'total_num_of_shortterm_credit_applications_in_7_days', 'total_num_of_shortterm_credit_applications_in_30_days', 'total_num_of_shortterm_credit_applications_from_ip_in_1_day', 'total_num_of_shortterm_credit_applications_from_ip_in_7_days', 'total_num_of_shortterm_credit_applications_from_ip_in_30_days', 'total_num_of_banking_credit_applications_in_1_day', 'total_num_of_banking_credit_applications_in_7_days', 'total_num_of_banking_credit_applications_in_30_days', 'total_num_of_banking_credit_applications_from_ip_in_1_day', 'total_num_of_banking_credit_applications_from_ip_in_7_days', 'total_num_of_banking_credit_applications_from_ip_in_30_days', 'total_num_of_insurance_applications_from_ip_in_30_days', 'mail_login_length', 'time_on_page', 'number_of_hot_keys', 'number_of_corrections', 'browser_history_count', 'ram_productivity', 'storage_productivity', 'pure_avg_typing_speed', 'avg_typing_speed', 'single_click', 'double_click', 'context_menu', 'leave_page', 'observed_quarters', 'touch_dev', 'acc_dev', 'number_of_secondary_antifraud_markers', 'ip_longitude', 'ip_latitude', 'ip_ageing_in_months', 'is_canvas_blocker', 'display_width_via_pixel', 'display_height_via_pixel', 'display_width_from_manufacturer', 'display_height_from_manufacturer', 'usable_display_width', 'usable_display_height', 'diagonal_screen_size', 'display_ppi', 'display_pixel_ratio', 'color_depth_via_pixel', 'color_depth_from_manufacturer', 'ram_size', 'hardware_concurrency', 'camera_resolution', 'completeness', 'time_sine', 'time_cosine', 'device_age' ]"
   ]
  },
  {
   "cell_type": "markdown",
   "metadata": {},
   "source": [
    "Extreme values of some numeric variables are winsorized (limited at a particular threshold). This is done with the following algorithm:"
   ]
  },
  {
   "cell_type": "code",
   "execution_count": 102,
   "metadata": {},
   "outputs": [
    {
     "name": "stdout",
     "output_type": "stream",
     "text": [
      "('amount', -240.0, 720.0)\n",
      "('term', 0, 60.0)\n",
      "('age', 0, 73.14989733059548)\n",
      "('income', 0, 108000.0)\n",
      "('cl_education_type_id', 0, 24.0)\n",
      "('antifraud_score', 0, 0.7015)\n",
      "('time', 0, 5.094266)\n",
      "('idx1_stop_markers', 0, 1)\n",
      "('idx2_user_behaviour_markers', 0, 10.0)\n",
      "('idx3_device_markers', 0, 1)\n",
      "('idx4_connection_markers', 0, 2.0)\n",
      "('idx5_device_quality', -2.0, 6.0)\n",
      "('idx6_internet_infrastructure_quality', 0, 2.0)\n",
      "('idx8_device_credentials_variability', 0, 6.0)\n",
      "('total_applications_number', -3.0, 5.0)\n",
      "('total_num_of_applications_with_browser_hash_in_1_day', 0, 2.0)\n",
      "('total_num_of_applications_with_browser_hash_in_7_days', 0, 16.0)\n",
      "('total_num_of_applications_with_browser_hash_in_30_days', 0, 46.0)\n",
      "('logins_number', 0, 2.0)\n",
      "('phones_number', 0, 1)\n",
      "('devices_number', 0, 1)\n",
      "('cities_number', 0, 2.0)\n",
      "('zipcodes_number', 0, 2.0)\n",
      "('cards_number', 0, 1)\n",
      "('device_ageing_with_user', 0, 2.0)\n",
      "('total_num_of_shortterm_credit_applications_in_1_day', 0, 1)\n",
      "('total_num_of_shortterm_credit_applications_in_7_days', 0, 1)\n",
      "('total_num_of_shortterm_credit_applications_in_30_days', 0, 2.0)\n",
      "('total_num_of_shortterm_credit_applications_from_ip_in_1_day', 0, 1)\n",
      "('total_num_of_shortterm_credit_applications_from_ip_in_7_days', 0, 2.0)\n",
      "('total_num_of_shortterm_credit_applications_from_ip_in_30_days', 0, 8.0)\n",
      "('total_num_of_banking_credit_applications_in_1_day', 0, 1)\n",
      "('total_num_of_banking_credit_applications_in_7_days', 0, 1)\n",
      "('total_num_of_banking_credit_applications_in_30_days', 0, 1)\n",
      "('total_num_of_banking_credit_applications_from_ip_in_1_day', 0, 1)\n",
      "('total_num_of_banking_credit_applications_from_ip_in_7_days', 0, 1)\n",
      "('total_num_of_banking_credit_applications_from_ip_in_30_days', -3.0, 5.0)\n",
      "('total_num_of_insurance_applications_from_ip_in_30_days', 0, 1)\n",
      "('mail_login_length', 0, 1)\n",
      "('time_on_page', 0, 130.0)\n",
      "('number_of_hot_keys', 0, 1)\n",
      "('number_of_corrections', 0, 1)\n",
      "('browser_history_count', -10.0, 22.0)\n",
      "('ram_productivity', -10025.0, 25375.0)\n",
      "('storage_productivity', 0, 188.0)\n",
      "('pure_avg_typing_speed', 0, 952.0)\n",
      "('avg_typing_speed', 0, 2926.0)\n",
      "('single_click', 0, 18.0)\n",
      "('double_click', 0, 4.0)\n",
      "('context_menu', 0, 4.0)\n",
      "('leave_page', 0, 4.0)\n",
      "('observed_quarters', -1.0, 7.0)\n",
      "('touch_dev', 0, 3.932)\n",
      "('acc_dev', 0, 34.31)\n",
      "('number_of_secondary_antifraud_markers', -1.0, 7.0)\n",
      "('ip_longitude', 1.2560000000000002, 98.21600000000001)\n",
      "('ip_latitude', 47.84299999999998, 62.26700000000002)\n",
      "('ip_ageing_in_months', 0, 26.0)\n",
      "('is_canvas_blocker', 0, 2.0)\n",
      "('display_width_via_pixel', 0, 824.0)\n",
      "('display_height_via_pixel', 0, 1600.0)\n",
      "('display_width_from_manufacturer', -820.0, 2220.0)\n",
      "('display_height_from_manufacturer', -2130.0, 4830.0)\n",
      "('usable_display_width', 0, 720.0)\n",
      "('usable_display_height', 0, 1440.0)\n",
      "('diagonal_screen_size', 0, 12.0)\n",
      "('display_ppi', -199.5, 772.5)\n",
      "('display_pixel_ratio', 0, 6.0)\n",
      "('color_depth_via_pixel', 0, 64.0)\n",
      "('color_depth_from_manufacturer', 0, 48.0)\n",
      "('ram_size', 0, 8.0)\n",
      "('hardware_concurrency', 0, 16.0)\n",
      "('camera_resolution', 0, 32.0)\n",
      "('completeness', 0, 8.0)\n",
      "('time_sine', -2.2225474604747033, 1.3125851233706702)\n",
      "('time_cosine', -2.5895093696813696, 2.844016988636794)\n",
      "('device_age', 0, 8.0)\n"
     ]
    }
   ],
   "source": [
    "for name in numerics :\n",
    "    # Calculates the main percentiles\n",
    "    q1, q2, q3 = d.approxQuantile( name, [ 0.25, 0.5, 0.75 ], 0.001 )\n",
    "    # Checks if the distribution is not very dense\n",
    "    if ( q2 - q1 ) != 0 and ( q3 - q2 ) != 0 :\n",
    "        # Checks if the distribution is non-symmetrical\n",
    "        skewed = ( q3 - q2 ) / ( q2 - q1 ) >= 1.25 or ( q2 - q1 ) / ( q3 - q2 ) >= 1.25\n",
    "    else:\n",
    "        skewed = True\n",
    "    # Threshold values for a skewed distribution\n",
    "    if skewed and d.agg( f.min( f.col( name ) ) ).collect()[ 0 ][ 0 ] >= 0 : \n",
    "        lower = 0\n",
    "        if q3 > 0 :\n",
    "            upper = q3 * 2   \n",
    "        else :\n",
    "            upper = 1\n",
    "    # Threshold values for a symmetrical distribution\n",
    "    else :\n",
    "        iqr = q3 - q1\n",
    "        if iqr > 0 :\n",
    "            lower = q1 - 1.5 * iqr\n",
    "            upper = q3 + 1.5 * iqr\n",
    "        else :\n",
    "            lower = q1 - 1\n",
    "            upper = q3 + 1\n",
    "    # Prints the threshold values\n",
    "    print( ( name, lower, upper ) )\n",
    "    # Replaces extreme values with the threshold values\n",
    "    d = d.withColumn( name, f.when( f.col( name ) < lower, lower ).when( f.col( name ) > upper, upper ).\\\n",
    "                            otherwise( f.col( name ) ) )"
   ]
  },
  {
   "cell_type": "markdown",
   "metadata": {},
   "source": [
    "#### Train / Test Split"
   ]
  },
  {
   "cell_type": "code",
   "execution_count": 7,
   "metadata": {},
   "outputs": [],
   "source": [
    "border_positive = d.filter( 'label == 1' ).select( 'id' ).approxQuantile( 'id', [ 0.8 ], 0.001 )[ 0 ]"
   ]
  },
  {
   "cell_type": "code",
   "execution_count": 8,
   "metadata": {},
   "outputs": [],
   "source": [
    "border_negative = d.filter( 'label == 0' ).select( 'id' ).approxQuantile( 'id', [ 0.8 ], 0.001 )[ 0 ]"
   ]
  },
  {
   "cell_type": "code",
   "execution_count": 9,
   "metadata": {},
   "outputs": [],
   "source": [
    "d = d.withColumn( 'test_positive', f.when( d.id > border_positive, True ).otherwise( False ) )"
   ]
  },
  {
   "cell_type": "code",
   "execution_count": 10,
   "metadata": {},
   "outputs": [],
   "source": [
    "d = d.withColumn( 'test_negative', f.when( d.id > border_negative, True ).otherwise( False ) )"
   ]
  },
  {
   "cell_type": "code",
   "execution_count": 11,
   "metadata": {},
   "outputs": [],
   "source": [
    "d = d.withColumn( 'test', f.when( d.label == 1, d.test_positive ).otherwise( d.test_negative ) )"
   ]
  },
  {
   "cell_type": "code",
   "execution_count": 13,
   "metadata": {},
   "outputs": [
    {
     "name": "stdout",
     "output_type": "stream",
     "text": [
      "+-----+------------+-----------------+\n",
      "| test|count(label)|         avg(age)|\n",
      "+-----+------------+-----------------+\n",
      "| true|        3460|32.06346116564393|\n",
      "|false|       13944|32.49250487822022|\n",
      "+-----+------------+-----------------+\n",
      "\n"
     ]
    }
   ],
   "source": [
    "d.groupBy( 'test' ).agg( f.count( 'label' ), f.mean( 'label' ) ).show()"
   ]
  },
  {
   "cell_type": "code",
   "execution_count": 12,
   "metadata": {},
   "outputs": [],
   "source": [
    "d = d.drop( 'test_positive', 'test_negative' )"
   ]
  },
  {
   "cell_type": "markdown",
   "metadata": {},
   "source": [
    "#### Scaling"
   ]
  },
  {
   "cell_type": "markdown",
   "metadata": {},
   "source": [
    "Some of the variables degenerated into binary after the treatment of extreme values, so the list should be updated."
   ]
  },
  {
   "cell_type": "code",
   "execution_count": 104,
   "metadata": {},
   "outputs": [],
   "source": [
    "degenerated = [ 'total_num_of_shortterm_credit_applications_from_ip_in_1_day', 'total_num_of_banking_credit_applications_in_1_day', 'total_num_of_banking_credit_applications_in_7_days', 'total_num_of_banking_credit_applications_in_30_days', 'total_num_of_banking_credit_applications_from_ip_in_1_day', 'total_num_of_banking_credit_applications_from_ip_in_7_days', 'total_num_of_insurance_applications_from_ip_in_30_days', 'mail_login_length', 'number_of_hot_keys', 'number_of_corrections', 'total_num_of_shortterm_credit_applications_in_7_days', 'total_num_of_shortterm_credit_applications_in_1_day', 'cards_number', 'devices_number', 'phones_number', 'idx3_device_markers', 'idx1_stop_markers' ]"
   ]
  },
  {
   "cell_type": "code",
   "execution_count": 105,
   "metadata": {},
   "outputs": [],
   "source": [
    "numerics = [ x for x in numerics if x not in degenerated ]"
   ]
  },
  {
   "cell_type": "markdown",
   "metadata": {},
   "source": [
    "All numeric variables are scaled to the interval [0, 1] with sigmpoid function and standardizing. Estimation of means and standard deviations should be done only on the train sample to prevent overfit. "
   ]
  },
  {
   "cell_type": "code",
   "execution_count": 20,
   "metadata": {},
   "outputs": [],
   "source": [
    "for name in numerics :\n",
    "    m = d.filter( 'test = false' ).select( f.mean( f.col( name ) ) ).collect()[ 0 ][ 0 ]\n",
    "    sd = d.filter( 'test = false' ).select( f.stddev( f.col( name ) ) ).collect()[ 0 ][ 0 ]\n",
    "    d = d.withColumn( name, ( f.col( name ) - m ) / sd )\n",
    "    d = d.withColumn( name, 1 / ( 1 + f.exp( -f.col( name ) ) ) )"
   ]
  },
  {
   "cell_type": "markdown",
   "metadata": {},
   "source": [
    "#### Imputation of Missing Values"
   ]
  },
  {
   "cell_type": "markdown",
   "metadata": {},
   "source": [
    "Missing values in categorical and binary variables become a new category (\"N\"):"
   ]
  },
  {
   "cell_type": "code",
   "execution_count": 99,
   "metadata": {},
   "outputs": [],
   "source": [
    "categorical_or_binary = [ 'total_num_of_shortterm_credit_applications_from_ip_in_1_day', 'total_num_of_banking_credit_applications_in_1_day', 'total_num_of_banking_credit_applications_in_7_days', 'total_num_of_banking_credit_applications_in_30_days', 'total_num_of_banking_credit_applications_from_ip_in_1_day', 'total_num_of_banking_credit_applications_from_ip_in_7_days', 'total_num_of_insurance_applications_from_ip_in_30_days', 'mail_login_length', 'number_of_hot_keys', 'number_of_corrections', 'total_num_of_shortterm_credit_applications_in_7_days', 'total_num_of_shortterm_credit_applications_in_1_day', 'cards_number', 'devices_number', 'phones_number', 'idx3_device_markers', 'idx1_stop_markers', 'gender', 'cl_marital_status_id', 'cl_employment_type_id', 'cl_employment_area_id', 'zip', 'javascript_executable', 'ip_available', 'useragent_available', 'supporting_data_available', 'is_local_country', 'timezone_mismatch', 'ip_sim_regions_match', 'duplicating_device', 'duplicating_ip', 'duplicating_user', 'seen_before', 'same_phone', 'same_login', 'same_region', 'same_device', 'less_tenor_days', 'total_num_of_insurance_applications_in_1_day', 'total_num_of_insurance_applications_in_7_days', 'total_num_of_insurance_applications_in_30_days', 'total_num_of_insurance_applications_from_ip_in_1_day', 'total_num_of_insurance_applications_from_ip_in_7_days', 'foreign_language_used', 'frd', 'frd_from_diff_acc', 'npl90', 'npl90_from_diff_acc', 'is_ever_frd', 'is_mass_frd', 'global_ip_blacklist', 'global_isp_blacklist', 'user_defined_ip_blacklist', 'user_defined_deviceid_blacklist', 'user_defined_userid_blacklist', 'user_defined_isp_blacklist', 'user_defined_similar_deviceid_blacklist', 'suspicious_referral', 'suspicious_plugins', 'suspicious_fonts', 'cookie_clone', 'mail_login_marker', 'social_vector_length', 'is_console_open', 'data_manipulation_risk', 'loan_limit_utilization', 'ip_region_name', 'ip_city', 'ip_owner', 'ip_domain', 'ip_mobile_brand', 'ip_usage_type', 'ip_net_speed', 'proxy', 'tor', 'ipv6_usage', 'ip_mismatch', 'dns_name', 'is_dns_local', 'ip_zip_code', 'virtual_machine', 'is_useragent_structure_issue', 'is_randomizer_issue', 'is_private_mode', 'botnet', 'connection_via_browser', 'connection_via_application', 'is_web_view_application_used', 'masquerading_as_desktop', 'device_vendor', 'mobile_device', 'touch_screen', 'screen_geometry_mismatch', 'is_regular_screen_resolution', 'nfc', 'pixel_language', 'os_name', 'browser_name', 'rendering_engine', 'region_app' ] "
   ]
  },
  {
   "cell_type": "code",
   "execution_count": 100,
   "metadata": {},
   "outputs": [],
   "source": [
    "for name in categorical_or_binary :\n",
    "    d = d.withColumn( name, f.when( f.col( name ).isNull(), 'N' ).otherwise( f.col( name ) ) )"
   ]
  },
  {
   "cell_type": "markdown",
   "metadata": {},
   "source": [
    "Missing values in numeric variables are replaced by 0.5 (as they have already been scaled to the interval [0, 1]). If the portion of missing values is significant (equal or greater than 5%), a new binary variable is produced (indicator of a missing value)."
   ]
  },
  {
   "cell_type": "code",
   "execution_count": 106,
   "metadata": {},
   "outputs": [],
   "source": [
    "for name in numerics :\n",
    "    n = d.select( name ).agg( f.sum( f.when( f.col( name ).isNull(), 1 ).otherwise( 0 ) ) ).collect()[ 0 ][ 0 ]\n",
    "    if n / nrows >= 0.05 :\n",
    "        d = d.withColumn( name+'_null', f.when( f.col( name ).isNull(), 1 ).otherwise( 0 ) )\n",
    "        d = d.withColumn( name, f.when( f.col( name ).isNull(), 0.5 ).otherwise( f.col( name ) ) )\n",
    "    elif n > 0 :\n",
    "        d = d.withColumn( name, f.when( f.col( name ).isNull(), 0.5 ).otherwise( f.col( name ) ) )"
   ]
  },
  {
   "cell_type": "markdown",
   "metadata": {},
   "source": [
    "#### Categorical Variables with Large Number of Categories"
   ]
  },
  {
   "cell_type": "code",
   "execution_count": 98,
   "metadata": {},
   "outputs": [
    {
     "data": {
      "text/plain": [
       "0.07124798896805332"
      ]
     },
     "execution_count": 98,
     "metadata": {},
     "output_type": "execute_result"
    }
   ],
   "source": [
    "n/nrows"
   ]
  },
  {
   "cell_type": "markdown",
   "metadata": {},
   "source": [
    "#### One-Hot Encoding"
   ]
  },
  {
   "cell_type": "code",
   "execution_count": null,
   "metadata": {},
   "outputs": [],
   "source": []
  },
  {
   "cell_type": "code",
   "execution_count": 28,
   "metadata": {},
   "outputs": [],
   "source": []
  },
  {
   "cell_type": "code",
   "execution_count": null,
   "metadata": {},
   "outputs": [],
   "source": []
  },
  {
   "cell_type": "code",
   "execution_count": 26,
   "metadata": {},
   "outputs": [],
   "source": []
  },
  {
   "cell_type": "code",
   "execution_count": null,
   "metadata": {},
   "outputs": [],
   "source": [
    "[ 'zip', 'ip_zip_code', 'region_app', 'ip_region_name', 'ip_city', 'ip_owner', 'ip_domain', 'dns_name', 'device_vendor' ]"
   ]
  },
  {
   "cell_type": "code",
   "execution_count": 20,
   "metadata": {
    "scrolled": true
   },
   "outputs": [
    {
     "name": "stdout",
     "output_type": "stream",
     "text": [
      "+-------+-------------------+\n",
      "|summary|       zip_mismatch|\n",
      "+-------+-------------------+\n",
      "|  count|              17404|\n",
      "|   mean| 0.8787060445874512|\n",
      "| stddev|0.32647795656658496|\n",
      "|    min|                  0|\n",
      "|    max|                  1|\n",
      "+-------+-------------------+\n",
      "\n"
     ]
    }
   ],
   "source": [
    "d.describe( 'zip_mismatch' ).show()"
   ]
  },
  {
   "cell_type": "code",
   "execution_count": 98,
   "metadata": {
    "scrolled": true
   },
   "outputs": [
    {
     "data": {
      "text/plain": [
       "789"
      ]
     },
     "execution_count": 98,
     "metadata": {},
     "output_type": "execute_result"
    }
   ],
   "source": [
    "d.select( 'ip_domain' ).distinct().count()"
   ]
  },
  {
   "cell_type": "code",
   "execution_count": 9,
   "metadata": {},
   "outputs": [
    {
     "name": "stdout",
     "output_type": "stream",
     "text": [
      "+--------------------+-------------------+----------+\n",
      "|             created|device_year_release|device_age|\n",
      "+--------------------+-------------------+----------+\n",
      "|2019-11-27 17:49:...|             2017.0|       2.0|\n",
      "|2020-01-27 10:53:...|             2019.0|       1.0|\n",
      "|2019-11-05 10:36:...|             2016.0|       3.0|\n",
      "|2019-12-21 12:53:...|             2018.0|       1.0|\n",
      "|2019-12-07 06:02:...|             2012.0|       7.0|\n",
      "|2019-11-30 08:11:...|             2014.0|       5.0|\n",
      "|2019-12-01 14:23:...|             2016.0|       3.0|\n",
      "|2019-12-08 19:24:...|             2017.0|       2.0|\n",
      "|2020-01-29 19:33:...|             2017.0|       3.0|\n",
      "|2019-12-02 22:31:...|             2019.0|       0.0|\n",
      "|2019-11-15 22:31:...|             2018.0|       1.0|\n",
      "|2019-10-31 14:33:...|             2016.0|       3.0|\n",
      "|2019-11-21 09:38:...|             2018.0|       1.0|\n",
      "|2020-02-04 16:37:...|             2017.0|       3.0|\n",
      "|2019-11-22 16:16:...|               null|      null|\n",
      "|2019-11-22 12:23:...|             2018.0|       1.0|\n",
      "|2019-11-17 15:54:...|             2009.0|      10.0|\n",
      "|2019-11-27 16:03:...|             2014.0|       5.0|\n",
      "|2019-11-08 23:07:...|             2019.0|       0.0|\n",
      "|2019-11-09 00:53:...|             2016.0|       3.0|\n",
      "+--------------------+-------------------+----------+\n",
      "only showing top 20 rows\n",
      "\n"
     ]
    }
   ],
   "source": [
    "d.filter( 'amount = 230' ).select( 'created', 'device_year_release', 'device_age' ).show()"
   ]
  }
 ],
 "metadata": {
  "kernelspec": {
   "display_name": "Python 3",
   "language": "python",
   "name": "python3"
  },
  "language_info": {
   "codemirror_mode": {
    "name": "ipython",
    "version": 3
   },
   "file_extension": ".py",
   "mimetype": "text/x-python",
   "name": "python",
   "nbconvert_exporter": "python",
   "pygments_lexer": "ipython3",
   "version": "3.7.6"
  }
 },
 "nbformat": 4,
 "nbformat_minor": 4
}
