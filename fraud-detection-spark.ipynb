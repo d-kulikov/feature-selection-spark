{
 "cells": [
  {
   "cell_type": "markdown",
   "metadata": {},
   "source": [
    "#### Initialization"
   ]
  },
  {
   "cell_type": "code",
   "execution_count": 1,
   "metadata": {},
   "outputs": [],
   "source": [
    "import findspark\n",
    "findspark.init( '/usr/local/spark' )\n",
    "import pyspark\n",
    "import numpy as np\n",
    "import pandas as pd\n",
    "from pyspark.sql import SparkSession, DataFrame, functions as f\n",
    "from pyspark.ml import Pipeline\n",
    "from pyspark.ml.feature import StringIndexer, OneHotEncoderEstimator, VectorAssembler\n",
    "from pyspark.ml.classification import RandomForestClassifier, MultilayerPerceptronClassifier\n",
    "from pyspark.ml.evaluation import BinaryClassificationEvaluator\n",
    "from pyspark.sql.types import FloatType"
   ]
  },
  {
   "cell_type": "code",
   "execution_count": 2,
   "metadata": {},
   "outputs": [
    {
     "name": "stdout",
     "output_type": "stream",
     "text": [
      "2.4.0\n"
     ]
    }
   ],
   "source": [
    "sc = SparkSession.builder.master( 'local' ).appName( 'Fraud Detection' ).getOrCreate()\n",
    "print( sc.version )"
   ]
  },
  {
   "cell_type": "markdown",
   "metadata": {},
   "source": [
    "#### Reading the Dataset"
   ]
  },
  {
   "cell_type": "code",
   "execution_count": 8,
   "metadata": {},
   "outputs": [],
   "source": [
    "d = sc.read.csv( '/home/demetrius/Documents/Python/Fraud Detection/Data/fraud_dyninno.csv',\n",
    "                inferSchema=True, header=True, quote='' )"
   ]
  },
  {
   "cell_type": "code",
   "execution_count": 9,
   "metadata": {},
   "outputs": [],
   "source": [
    "d = d.withColumnRenamed( 'fraud', 'label' )\n",
    "d = d.withColumnRenamed( 'amount_oringinal', 'amount' )\n",
    "d = d.withColumnRenamed( 'term_oringinal', 'term' )\n",
    "d = d.withColumnRenamed( 'r_application_id', 'id' )\n",
    "d = d.withColumnRenamed( 'created', 'date' )\n",
    "d = d.withColumnRenamed( 'income_per_month', 'income' )\n",
    "d = d.withColumn( 'amount', d.amount / 91 * 2.2 )\n",
    "d = d.withColumn( 'amount', f.round( 'amount', -1 ) )"
   ]
  },
  {
   "cell_type": "code",
   "execution_count": 10,
   "metadata": {},
   "outputs": [],
   "source": [
    "p = sc.createDataFrame([( 'адыгея', 'Adygeya Respublika' ),\n",
    "                        ( 'алтай', 'Altay Respublika' ), \n",
    "                        ( 'алтайский', 'Altayskiy kray' ), \n",
    "                        ( 'амурская', 'Amurskaya oblast' ), \n",
    "                        ( 'архангельская', 'Arkhangelskaya oblast' ), \n",
    "                        ( 'астраханская', 'Astrakhanskaya oblast' ), \n",
    "                        ( 'башкортостан', 'Bashkortostan Respublika' ), \n",
    "                        ( 'белгородская', 'Belgorodskaya oblast' ), \n",
    "                        ( 'брянская', 'Bryanskaya oblast' ), \n",
    "                        ( 'бурятия', 'Buryatiya Respublika' ), \n",
    "                        ( 'владимирская', 'Vladimirskaya oblast' ), \n",
    "                        ( 'волгоградская', 'Volgogradskaya oblast' ), \n",
    "                        ( 'вологодская', 'Vologodskaya oblast' ), \n",
    "                        ( 'воронежская', 'Voronezhskaya oblast' ), \n",
    "                        ( 'дагестан', 'Dagestan Respublika' ), \n",
    "                        ( 'дальневосточный', 'Saha Respublika' ), \n",
    "                        ( 'еврейская', 'Yevreyskaya avtonomnaya oblast' ), \n",
    "                        ( 'забайкальский', 'Zabaykalskiy kray' ), \n",
    "                        ( 'ивановская', 'Ivanovskaya oblast' ), \n",
    "                        ( 'ингушетия', 'Ingushetiya Respublika' ), \n",
    "                        ( 'иркутская', 'Irkutskaya oblast' ), \n",
    "                        ( 'кабардино-балкарская', 'Kabardino-Balkarskaya Respublika' ), \n",
    "                        ( 'калининградская', 'Kaliningradskaya oblast' ), \n",
    "                        ( 'калмыкия', 'Kalmykiya Respublika' ), \n",
    "                        ( 'калужская', 'Kaluzhskaya oblast' ), \n",
    "                        ( 'камчатский', 'Kamchatskiy kray' ), \n",
    "                        ( 'карачаево-черкесская', 'Karachayevo-Cherkesskaya Respublika' ), \n",
    "                        ( 'карелия', 'Kareliya Respublika' ), \n",
    "                        ( 'кемеровская', 'Kemerovskaya oblast' ), \n",
    "                        ( 'кемеровская-кузбасс', 'Kemerovskaya oblast' ), \n",
    "                        ( 'кировская', 'Kirovskaya oblast' ), \n",
    "                        ( 'коми', 'Komi Respublika' ), \n",
    "                        ( 'костромская', 'Kostromskaya oblast' ), \n",
    "                        ( 'краснодарский', 'Krasnodarskiy kray' ), \n",
    "                        ( 'красноярский', 'Krasnoyarskiy kray' ), \n",
    "                        ( 'курганская', 'Kurganskaya oblast' ), \n",
    "                        ( 'курская', 'Kurskaya oblast' ), \n",
    "                        ( 'ленинградская', 'Leningradskaya oblast' ), \n",
    "                        ( 'липецкая', 'Lipetskaya oblast' ), \n",
    "                        ( 'магаданская', 'Magadanskaya oblast' ), \n",
    "                        ( 'марий эл', 'Mariy El Respublika' ), \n",
    "                        ( 'мордовия', 'Mordoviya Respublika' ), \n",
    "                        ( 'москва', 'Moskva' ), \n",
    "                        ( 'московская', 'Moskovskaya oblast' ), \n",
    "                        ( 'мурманская', 'Murmanskaya oblast' ), \n",
    "                        ( 'ненецкий', 'Nenetskiy avtonomnyy okrug' ), \n",
    "                        ( 'нижегородская', 'Nizhegorodskaya oblast' ), \n",
    "                        ( 'новгородская', 'Novgorodskaya oblast' ), \n",
    "                        ( 'новосибирская', 'Novosibirskaya oblast' ), \n",
    "                        ( 'омская', 'Omskaya oblast' ), \n",
    "                        ( 'оренбургская', 'Orenburgskaya oblast' ), \n",
    "                        ( 'орловская', 'Orlovskaya oblast' ), \n",
    "                        ( 'пензенская', 'Penzenskaya oblast' ), \n",
    "                        ( 'пермский', 'Permskiy kray' ), \n",
    "                        ( 'приморский', 'Primorskiy kray' ), \n",
    "                        ( 'псковская', 'Pskovskaya oblast' ), \n",
    "                        ( 'ростовская', 'Rostovskaya oblast' ), \n",
    "                        ( 'рязанская', 'Ryazanskaya oblast' ), \n",
    "                        ( 'самарская', 'Samarskaya oblast' ), \n",
    "                        ( 'санкт-петербург', 'Sankt-Peterburg' ), \n",
    "                        ( 'саратовская', 'Saratovskaya oblast' ), \n",
    "                        ( 'саха /якутия/', 'Saha Respublika' ), \n",
    "                        ( 'сахалинская', 'Sakhalinskaya oblast' ), \n",
    "                        ( 'свердловская', 'Sverdlovskaya oblast' ), \n",
    "                        ( 'смоленская', 'Smolenskaya oblast' ), \n",
    "                        ( 'ставропольский', 'Stavropolskiy kray' ), \n",
    "                        ( 'тамбовская', 'Tambovskaya oblast' ), \n",
    "                        ( 'татарстан', 'Tatarstan Respublika' ), \n",
    "                        ( 'тверская', 'Tverskaya oblast' ), \n",
    "                        ( 'томская', 'Tomskaya oblast' ), \n",
    "                        ( 'тульская', 'Tulskaya oblast' ), \n",
    "                        ( 'тыва', 'Tyva Respublika' ), \n",
    "                        ( 'тюменская', 'Tyumenskaya oblast' ), \n",
    "                        ( 'удмуртская', 'Udmurtskaya Respublika' ), \n",
    "                        ( 'ульяновская', 'Ulyanovskaya oblast' ), \n",
    "                        ( 'хабаровский', 'Khabarovskiy kray' ), \n",
    "                        ( 'ханты-мансийский', 'Khanty-Mansiyskiy avtonomnyy okrug' ), \n",
    "                        ( 'челябинская', 'Chelyabinskaya oblast' ), \n",
    "                        ( 'чеченская', 'Chechenskaya Respublika' ), \n",
    "                        ( 'чувашская', 'Chuvashskaya Respublika' ), \n",
    "                        ( 'чувашская чувашия', 'Chuvashskaya Respublika' ), \n",
    "                        ( 'чукотский', 'Chukotskiy avtonomnyy okrug' ), \n",
    "                        ( 'ямало-ненецкий', 'Yamalo-Nenetskiy avtonomnyy okrug' ), \n",
    "                        ( 'ярославская', 'Yaroslavskaya oblast' ) ],\n",
    "                         [ 'region_cleared', 'region_app' ] )\n",
    "d = d.join( p, on='region_cleared', how='left' )\n",
    "d = d.withColumn( 'calculator', f.when( d.cl_relationships_id == 2, 'right' ).\\\n",
    "    when( d.cl_relationships_id == 3, 'exact' ).when( d.cl_relationships_id.isNull(), 'default' ).otherwise( 'change' ) )\n",
    "d = d.drop( 'region_cleared', 'mobile', 'desktop', 'windows', 'apple', 'linux', 'google', \n",
    "            'cl_relationships_id', 'income_null' )"
   ]
  },
  {
   "cell_type": "markdown",
   "metadata": {},
   "source": [
    "#### Overview of the Dataset"
   ]
  },
  {
   "cell_type": "code",
   "execution_count": 11,
   "metadata": {},
   "outputs": [
    {
     "name": "stdout",
     "output_type": "stream",
     "text": [
      "17404\n"
     ]
    }
   ],
   "source": [
    "nrows = d.count()\n",
    "print( nrows )"
   ]
  },
  {
   "cell_type": "code",
   "execution_count": 12,
   "metadata": {},
   "outputs": [],
   "source": [
    "# len( d.columns )"
   ]
  },
  {
   "cell_type": "code",
   "execution_count": 13,
   "metadata": {},
   "outputs": [],
   "source": [
    "#d.show( 1, vertical=True )"
   ]
  },
  {
   "cell_type": "markdown",
   "metadata": {},
   "source": [
    "Let us count missing values by columns:"
   ]
  },
  {
   "cell_type": "code",
   "execution_count": 14,
   "metadata": {},
   "outputs": [],
   "source": [
    "#d.select( [ f.sum( f.when( f.col( name ).isNull(), 1 ) ).alias( name ) for name in d.columns \\\n",
    "#           if d.select( name ).dtypes[ 0 ][ 1 ] in [ 'double', 'float', 'int' ] ] ).show( vertical=True )"
   ]
  },
  {
   "cell_type": "markdown",
   "metadata": {},
   "source": [
    "#### Overview of the Target Variable (Label)"
   ]
  },
  {
   "cell_type": "code",
   "execution_count": 15,
   "metadata": {},
   "outputs": [],
   "source": [
    "#d.select( 'label' ).distinct().show()"
   ]
  },
  {
   "cell_type": "markdown",
   "metadata": {},
   "source": [
    "So the target variable is binary."
   ]
  },
  {
   "cell_type": "code",
   "execution_count": 16,
   "metadata": {},
   "outputs": [
    {
     "name": "stdout",
     "output_type": "stream",
     "text": [
      "+-------+-------------------+\n",
      "|summary|              label|\n",
      "+-------+-------------------+\n",
      "|   mean|0.04642610894047346|\n",
      "+-------+-------------------+\n",
      "\n"
     ]
    }
   ],
   "source": [
    "d.select( 'label' ).summary( 'mean' ).show()"
   ]
  },
  {
   "cell_type": "markdown",
   "metadata": {},
   "source": [
    "The class is positive (actual fraud) in 4.6% of the cases. The distribution is rather imbalanced."
   ]
  },
  {
   "cell_type": "markdown",
   "metadata": {},
   "source": [
    "#### Financial Variables"
   ]
  },
  {
   "cell_type": "markdown",
   "metadata": {},
   "source": [
    "\"amount\": amount of a loan (equivalent in euros)"
   ]
  },
  {
   "cell_type": "code",
   "execution_count": 17,
   "metadata": {},
   "outputs": [],
   "source": [
    "#d.describe( 'amount' ).show()"
   ]
  },
  {
   "cell_type": "markdown",
   "metadata": {},
   "source": [
    "\"term\" : term of a loan (in days)"
   ]
  },
  {
   "cell_type": "code",
   "execution_count": 18,
   "metadata": {},
   "outputs": [],
   "source": [
    "#d.describe( 'term' ).show()"
   ]
  },
  {
   "cell_type": "markdown",
   "metadata": {},
   "source": [
    "expected interest (given that the rate is 1% per day):"
   ]
  },
  {
   "cell_type": "code",
   "execution_count": 19,
   "metadata": {},
   "outputs": [],
   "source": [
    "d = d.withColumn( 'interest', d.amount * 0.01 * d.term )"
   ]
  },
  {
   "cell_type": "markdown",
   "metadata": {},
   "source": [
    "Additional versions of \"amount\" and \"term\" are created, which will be preprocessed:"
   ]
  },
  {
   "cell_type": "code",
   "execution_count": 20,
   "metadata": {},
   "outputs": [],
   "source": [
    "d = d.withColumn( 'amount_prep', d.amount )\n",
    "d = d.withColumn( 'term_prep', d.term )"
   ]
  },
  {
   "cell_type": "markdown",
   "metadata": {},
   "source": [
    "#### Transformations of Some Variables"
   ]
  },
  {
   "cell_type": "code",
   "execution_count": 21,
   "metadata": {},
   "outputs": [],
   "source": [
    "for name in [ 'cl_marital_status_id', 'cl_employment_type_id', 'cl_employment_area_id' ] :\n",
    "    d = d.withColumn( name, f.col( name ).cast( 'string' ) )"
   ]
  },
  {
   "cell_type": "code",
   "execution_count": 22,
   "metadata": {},
   "outputs": [],
   "source": [
    "#d.groupBy( 'ip_country_code' ).count().show()"
   ]
  },
  {
   "cell_type": "code",
   "execution_count": 23,
   "metadata": {},
   "outputs": [],
   "source": [
    "d = d.withColumn( 'ip_country_code', f.when( d.ip_country_code == 'RU', 0 ).otherwise( 1 ) )"
   ]
  },
  {
   "cell_type": "markdown",
   "metadata": {},
   "source": [
    "Provinces Mismatch:"
   ]
  },
  {
   "cell_type": "code",
   "execution_count": 24,
   "metadata": {},
   "outputs": [],
   "source": [
    "d = d.withColumn( 'province_mismatch', \n",
    " f.when( ( d.region_app != d.ip_region_name ) & d.region_app.isNotNull() & d.ip_region_name.isNotNull(), \n",
    "        1 ).otherwise( 0 ) )"
   ]
  },
  {
   "cell_type": "markdown",
   "metadata": {},
   "source": [
    "Zip code:"
   ]
  },
  {
   "cell_type": "code",
   "execution_count": 25,
   "metadata": {},
   "outputs": [],
   "source": [
    "d = d.withColumn( 'zip', f.substring( d.zip, 0, 3 ) )"
   ]
  },
  {
   "cell_type": "code",
   "execution_count": 26,
   "metadata": {},
   "outputs": [],
   "source": [
    "d = d.withColumn( 'ip_zip_code', f.substring( d.ip_zip_code, 0, 3 ) )"
   ]
  },
  {
   "cell_type": "code",
   "execution_count": 27,
   "metadata": {},
   "outputs": [],
   "source": [
    "d = d.withColumn( 'zip_mismatch', \n",
    "        f.when( ( d.zip != d.ip_zip_code ) & d.zip.isNotNull() & d.ip_zip_code.isNotNull(), 1 ).otherwise( 0 ) )"
   ]
  },
  {
   "cell_type": "code",
   "execution_count": 28,
   "metadata": {},
   "outputs": [],
   "source": [
    "d.createOrReplaceTempView( 'd' )"
   ]
  },
  {
   "cell_type": "code",
   "execution_count": 29,
   "metadata": {},
   "outputs": [],
   "source": [
    "q = \"\\\n",
    "SELECT ip_mobile_brand, COUNT( * ), AVG( label ) \\\n",
    "FROM d \\\n",
    "GROUP BY 1 \\\n",
    "ORDER BY 2 DESC \"\n",
    "#sc.sql( q ).show()"
   ]
  },
  {
   "cell_type": "markdown",
   "metadata": {},
   "source": [
    "Rare \"ip_mobile_brand\" are omitted in order not to introduce extra categories:"
   ]
  },
  {
   "cell_type": "code",
   "execution_count": 30,
   "metadata": {},
   "outputs": [],
   "source": [
    "d = d.withColumn( 'ip_mobile_brand', f.when( d.ip_mobile_brand.isin([ 'MTS', 'MegaFon', 'Tele2', 'Win Mobile', \n",
    "                        '-', 'Beeline', 'MOTIV', 'TTK' ]), d.ip_mobile_brand ) )"
   ]
  },
  {
   "cell_type": "code",
   "execution_count": 31,
   "metadata": {},
   "outputs": [],
   "source": [
    "q = \"\\\n",
    "SELECT ip_usage_type, COUNT( * ), AVG( label ) \\\n",
    "FROM d \\\n",
    "GROUP BY 1 \\\n",
    "ORDER BY 2 DESC \"\n",
    "#sc.sql( q ).show()"
   ]
  },
  {
   "cell_type": "markdown",
   "metadata": {},
   "source": [
    "Rare \"ip_usage_type\" are omitted in order not to introduce extra categories:"
   ]
  },
  {
   "cell_type": "code",
   "execution_count": 32,
   "metadata": {},
   "outputs": [],
   "source": [
    "d = d.withColumn( 'ip_usage_type', f.when( d.ip_usage_type.isin([ 'DCH', 'MOB', 'ISP/MOB', 'ISP', 'COM' ]),\n",
    "                                           d.ip_usage_type ) )"
   ]
  },
  {
   "cell_type": "code",
   "execution_count": 33,
   "metadata": {},
   "outputs": [],
   "source": [
    "q = \"\\\n",
    "SELECT ip_net_speed, COUNT( * ), AVG( label ) \\\n",
    "FROM d \\\n",
    "GROUP BY 1 \\\n",
    "ORDER BY 2 DESC \"\n",
    "#sc.sql( q ).show()"
   ]
  },
  {
   "cell_type": "markdown",
   "metadata": {},
   "source": [
    "\"-\" in \"ip_net_speed\" is omitted in order not to introduce an extra category:"
   ]
  },
  {
   "cell_type": "code",
   "execution_count": 34,
   "metadata": {},
   "outputs": [],
   "source": [
    "d = d.withColumn( 'ip_net_speed', f.when( d.ip_net_speed.isin([ 'T1', 'DSL', 'COMP', 'DIAL' ]), d.ip_net_speed ) )"
   ]
  },
  {
   "cell_type": "markdown",
   "metadata": {},
   "source": [
    "\"device_type\":"
   ]
  },
  {
   "cell_type": "code",
   "execution_count": 35,
   "metadata": {},
   "outputs": [],
   "source": [
    "q = \"\\\n",
    "SELECT device_type, COUNT( * ), AVG( label ) \\\n",
    "FROM d \\\n",
    "GROUP BY 1 \\\n",
    "ORDER BY 2 DESC \"\n",
    "#sc.sql( q ).show()"
   ]
  },
  {
   "cell_type": "markdown",
   "metadata": {},
   "source": [
    "A special variable for tablets:"
   ]
  },
  {
   "cell_type": "code",
   "execution_count": 36,
   "metadata": {},
   "outputs": [],
   "source": [
    "d = d.withColumn( 'tablet', f.when( d.device_type == 'Tablet', 1 ).otherwise( 0 ) )"
   ]
  },
  {
   "cell_type": "markdown",
   "metadata": {},
   "source": [
    "Timezone:"
   ]
  },
  {
   "cell_type": "code",
   "execution_count": 37,
   "metadata": {},
   "outputs": [],
   "source": [
    "d = d.withColumn( 'local_time', f.from_utc_timestamp( d.date, d.ip_timezone_name ) )"
   ]
  },
  {
   "cell_type": "code",
   "execution_count": 38,
   "metadata": {},
   "outputs": [],
   "source": [
    "d = d.withColumn( 'local_time', f.hour( d.local_time ) + f.minute( d.local_time ) / 60 )"
   ]
  },
  {
   "cell_type": "code",
   "execution_count": 39,
   "metadata": {},
   "outputs": [],
   "source": [
    "d = d.withColumn( 'pixel_mismatch', \n",
    "      f.when( ( d.ip_timezone != d.pixel_timezone ) & d.ip_timezone.isNotNull() & d.pixel_timezone.isNotNull(), \n",
    "        1 ).otherwise( 0 ) )"
   ]
  },
  {
   "cell_type": "markdown",
   "metadata": {},
   "source": [
    "Time is encoded as two variables with trigonometric functions:"
   ]
  },
  {
   "cell_type": "code",
   "execution_count": 40,
   "metadata": {},
   "outputs": [],
   "source": [
    "d = d.withColumn( 'time_radian', d.local_time / 3.819718634205488 )"
   ]
  },
  {
   "cell_type": "code",
   "execution_count": 41,
   "metadata": {},
   "outputs": [],
   "source": [
    "d = d.withColumn( 'time_sine', f.sin( d.time_radian ) )"
   ]
  },
  {
   "cell_type": "code",
   "execution_count": 42,
   "metadata": {},
   "outputs": [],
   "source": [
    "d = d.withColumn( 'time_cosine', f.cos( d.time_radian ) )"
   ]
  },
  {
   "cell_type": "markdown",
   "metadata": {},
   "source": [
    "Language:"
   ]
  },
  {
   "cell_type": "code",
   "execution_count": 43,
   "metadata": {},
   "outputs": [],
   "source": [
    "q = \"\\\n",
    "SELECT device_language, COUNT( * ), AVG( label ) \\\n",
    "FROM d \\\n",
    "GROUP BY 1 \\\n",
    "ORDER BY 2 DESC \"\n",
    "#sc.sql( q ).show()"
   ]
  },
  {
   "cell_type": "code",
   "execution_count": 44,
   "metadata": {},
   "outputs": [],
   "source": [
    "d = d.withColumn( 'ru_lang', f.when( d.device_language == 'ru-ru', 1 ).otherwise( 0 ) )"
   ]
  },
  {
   "cell_type": "code",
   "execution_count": 45,
   "metadata": {},
   "outputs": [],
   "source": [
    "d = d.withColumn( 'other_lang', f.when( d.device_language != 'ru-ru', 1 ).otherwise( 0 ) )"
   ]
  },
  {
   "cell_type": "markdown",
   "metadata": {},
   "source": [
    "\"pixel_language\":"
   ]
  },
  {
   "cell_type": "code",
   "execution_count": 46,
   "metadata": {},
   "outputs": [],
   "source": [
    "q = \"\\\n",
    "SELECT pixel_language, COUNT( * ), AVG( label ) \\\n",
    "FROM d \\\n",
    "GROUP BY 1 \\\n",
    "ORDER BY 2 DESC \"\n",
    "#sc.sql( q ).show()"
   ]
  },
  {
   "cell_type": "markdown",
   "metadata": {},
   "source": [
    "Rare \"pixel_language\" are omitted in order not to produce extra categories:"
   ]
  },
  {
   "cell_type": "code",
   "execution_count": 47,
   "metadata": {},
   "outputs": [],
   "source": [
    "d = d.withColumn( 'pixel_language', f.when( d.pixel_language.isin([ 'ru-RU', 'ru', 'en-US', 'ru_ru', 'ru-Ru' ]), \n",
    "                                            d.pixel_language ) )"
   ]
  },
  {
   "cell_type": "markdown",
   "metadata": {},
   "source": [
    "\"device_year_release\" is replaced by age of the device:"
   ]
  },
  {
   "cell_type": "code",
   "execution_count": 48,
   "metadata": {},
   "outputs": [],
   "source": [
    "d = d.withColumn( 'device_age', f.year( d.date ) - d.device_year_release )"
   ]
  },
  {
   "cell_type": "markdown",
   "metadata": {},
   "source": [
    "\"os_name\":"
   ]
  },
  {
   "cell_type": "code",
   "execution_count": 49,
   "metadata": {},
   "outputs": [],
   "source": [
    "q = \"\\\n",
    "SELECT os_name, COUNT( * ), AVG( label ) \\\n",
    "FROM d \\\n",
    "GROUP BY 1 \\\n",
    "ORDER BY 2 DESC \"\n",
    "#sc.sql( q ).show()"
   ]
  },
  {
   "cell_type": "markdown",
   "metadata": {},
   "source": [
    "Rare \"os_name\" are omitted in order not to produce extra categories:"
   ]
  },
  {
   "cell_type": "code",
   "execution_count": 50,
   "metadata": {},
   "outputs": [],
   "source": [
    "d = d.withColumn( 'os_name', f.when( d.os_name.isin([ 'Android', 'iOS', 'Windows 10', 'Windows 7', 'Linux', \n",
    "                                                      'Windows 8.1', 'OS X', 'Windows XP', 'Windows 8' ]), d.os_name ) )"
   ]
  },
  {
   "cell_type": "markdown",
   "metadata": {},
   "source": [
    "\"browser_name\":"
   ]
  },
  {
   "cell_type": "code",
   "execution_count": 51,
   "metadata": {},
   "outputs": [],
   "source": [
    "q = \"\\\n",
    "SELECT browser_name, COUNT( * ), AVG( label ) \\\n",
    "FROM d \\\n",
    "GROUP BY 1 \\\n",
    "ORDER BY 2 DESC \"\n",
    "#sc.sql( q ).show()"
   ]
  },
  {
   "cell_type": "markdown",
   "metadata": {},
   "source": [
    "Rare \"browser_name\" are omitted in order not to produce extra categories:"
   ]
  },
  {
   "cell_type": "code",
   "execution_count": 52,
   "metadata": {},
   "outputs": [],
   "source": [
    "d = d.withColumn( 'browser_name', f.when( d.browser_name.isin([ 'Chrome Mobile', 'Safari', 'Yandex.Browser',\n",
    "    'Chrome', 'Samsung Browser', 'MIUI Browser', 'Opera', 'Firefox', \n",
    "    'Opera Mobile', 'UC Browser', 'Edge' ]), d.browser_name ) )"
   ]
  },
  {
   "cell_type": "markdown",
   "metadata": {},
   "source": [
    "\"rendering_engine\":"
   ]
  },
  {
   "cell_type": "code",
   "execution_count": 53,
   "metadata": {},
   "outputs": [],
   "source": [
    "q = \"\\\n",
    "SELECT rendering_engine, COUNT( * ), AVG( label ) \\\n",
    "FROM d \\\n",
    "GROUP BY 1 \\\n",
    "ORDER BY 2 DESC \"\n",
    "#sc.sql( q ).show()"
   ]
  },
  {
   "cell_type": "markdown",
   "metadata": {},
   "source": [
    "\"Trident\" in \"rendering_engine\" is omitted in order not to introduce an extra category:"
   ]
  },
  {
   "cell_type": "code",
   "execution_count": 54,
   "metadata": {},
   "outputs": [],
   "source": [
    "d = d.withColumn( 'rendering_engine', f.when( d.rendering_engine.isin([ 'WebKit', 'Blink', 'Gecko', 'UCWeb', \n",
    "                                                                        'EdgeHTML' ]), d.rendering_engine ) )"
   ]
  },
  {
   "cell_type": "markdown",
   "metadata": {},
   "source": [
    "Variables with no or duplicate information are removed:"
   ]
  },
  {
   "cell_type": "code",
   "execution_count": 55,
   "metadata": {},
   "outputs": [],
   "source": [
    "d = d.drop( 'additional_info', 'device_id', 'exact_device_id', 'browser_hash', 'user_id', \n",
    "  'idx7_device_applications_quality', 'shopping_vector_length', 'microlending_vector_length', 'gambling_vector_length', \n",
    "  'proxy_vector_length', 'photos', 'hdd_utils', 'ip_country_name', 'real_ip', 'real_ipv6', 'ip_first_seen_date',\n",
    "  'dns_ip', 'ip_zip_code_distance', 'bot_name', 'device_model', 'device_marketing_name', 'device_manufacturer',\n",
    "  'device_type', 'ip_timezone', 'ip_timezone_name', 'pixel_timezone', 'pixel_timezone_name', 'local_time', 'time_radian',\n",
    "  'device_language', 'os_version', 'os_proprietary', 'development_platform', 'browser_version', 'device_year_release' )"
   ]
  },
  {
   "cell_type": "markdown",
   "metadata": {},
   "source": [
    "#### Treatment of Extreme Values"
   ]
  },
  {
   "cell_type": "code",
   "execution_count": 56,
   "metadata": {},
   "outputs": [],
   "source": [
    "#for name in d.columns :\n",
    "#    d.select( name ).agg( f.countDistinct( f.col( name ) ), f.min( f.col( name ) ), f.max( f.col( name ) ) ).show()"
   ]
  },
  {
   "cell_type": "code",
   "execution_count": 57,
   "metadata": {},
   "outputs": [],
   "source": [
    "numeric = [ 'amount_prep', 'term_prep', 'age', 'income', 'cl_education_type_id', 'antifraud_score', 'time', 'idx1_stop_markers', 'idx2_user_behaviour_markers', 'idx3_device_markers', 'idx4_connection_markers', 'idx5_device_quality', 'idx6_internet_infrastructure_quality', 'idx8_device_credentials_variability', 'total_applications_number', 'total_num_of_applications_with_browser_hash_in_1_day', 'total_num_of_applications_with_browser_hash_in_7_days', 'total_num_of_applications_with_browser_hash_in_30_days', 'logins_number', 'phones_number', 'devices_number', 'cities_number', 'zipcodes_number', 'cards_number', 'device_ageing_with_user', 'total_num_of_shortterm_credit_applications_in_1_day', 'total_num_of_shortterm_credit_applications_in_7_days', 'total_num_of_shortterm_credit_applications_in_30_days', 'total_num_of_shortterm_credit_applications_from_ip_in_1_day', 'total_num_of_shortterm_credit_applications_from_ip_in_7_days', 'total_num_of_shortterm_credit_applications_from_ip_in_30_days', 'total_num_of_banking_credit_applications_in_1_day', 'total_num_of_banking_credit_applications_in_7_days', 'total_num_of_banking_credit_applications_in_30_days', 'total_num_of_banking_credit_applications_from_ip_in_1_day', 'total_num_of_banking_credit_applications_from_ip_in_7_days', 'total_num_of_banking_credit_applications_from_ip_in_30_days', 'total_num_of_insurance_applications_from_ip_in_30_days', 'mail_login_length', 'time_on_page', 'number_of_hot_keys', 'number_of_corrections', 'browser_history_count', 'ram_productivity', 'storage_productivity', 'pure_avg_typing_speed', 'avg_typing_speed', 'single_click', 'double_click', 'context_menu', 'leave_page', 'observed_quarters', 'touch_dev', 'acc_dev', 'number_of_secondary_antifraud_markers', 'ip_longitude', 'ip_latitude', 'ip_ageing_in_months', 'is_canvas_blocker', 'display_width_via_pixel', 'display_height_via_pixel', 'display_width_from_manufacturer', 'display_height_from_manufacturer', 'usable_display_width', 'usable_display_height', 'diagonal_screen_size', 'display_ppi', 'display_pixel_ratio', 'color_depth_via_pixel', 'color_depth_from_manufacturer', 'ram_size', 'hardware_concurrency', 'camera_resolution', 'completeness', 'time_sine', 'time_cosine', 'device_age' ]"
   ]
  },
  {
   "cell_type": "code",
   "execution_count": null,
   "metadata": {},
   "outputs": [],
   "source": []
  },
  {
   "cell_type": "markdown",
   "metadata": {},
   "source": [
    "Extreme values of some numeric variables are winsorized (limited at a particular threshold). This is done with the following algorithm:"
   ]
  },
  {
   "cell_type": "code",
   "execution_count": 58,
   "metadata": {},
   "outputs": [
    {
     "name": "stdout",
     "output_type": "stream",
     "text": [
      "('amount_prep', -240.0, 720.0)\n",
      "('term_prep', 0, 60.0)\n",
      "('age', 0, 73.14989733059548)\n",
      "('income', 0, 108000.0)\n",
      "('cl_education_type_id', 0, 24.0)\n",
      "('antifraud_score', 0, 0.7015)\n",
      "('time', 0, 5.094266)\n",
      "('idx1_stop_markers', 0, 1)\n",
      "('idx2_user_behaviour_markers', 0, 10.0)\n",
      "('idx3_device_markers', 0, 1)\n",
      "('idx4_connection_markers', 0, 2.0)\n",
      "('idx5_device_quality', -2.0, 6.0)\n",
      "('idx6_internet_infrastructure_quality', 0, 2.0)\n",
      "('idx8_device_credentials_variability', 0, 6.0)\n",
      "('total_applications_number', -3.0, 5.0)\n",
      "('total_num_of_applications_with_browser_hash_in_1_day', 0, 2.0)\n",
      "('total_num_of_applications_with_browser_hash_in_7_days', 0, 16.0)\n",
      "('total_num_of_applications_with_browser_hash_in_30_days', 0, 46.0)\n",
      "('logins_number', 0, 2.0)\n",
      "('phones_number', 0, 1)\n",
      "('devices_number', 0, 1)\n",
      "('cities_number', 0, 2.0)\n",
      "('zipcodes_number', 0, 2.0)\n",
      "('cards_number', 0, 1)\n",
      "('device_ageing_with_user', 0, 2.0)\n",
      "('total_num_of_shortterm_credit_applications_in_1_day', 0, 1)\n",
      "('total_num_of_shortterm_credit_applications_in_7_days', 0, 1)\n",
      "('total_num_of_shortterm_credit_applications_in_30_days', 0, 2.0)\n",
      "('total_num_of_shortterm_credit_applications_from_ip_in_1_day', 0, 1)\n",
      "('total_num_of_shortterm_credit_applications_from_ip_in_7_days', 0, 2.0)\n",
      "('total_num_of_shortterm_credit_applications_from_ip_in_30_days', 0, 8.0)\n",
      "('total_num_of_banking_credit_applications_in_1_day', 0, 1)\n",
      "('total_num_of_banking_credit_applications_in_7_days', 0, 1)\n",
      "('total_num_of_banking_credit_applications_in_30_days', 0, 1)\n",
      "('total_num_of_banking_credit_applications_from_ip_in_1_day', 0, 1)\n",
      "('total_num_of_banking_credit_applications_from_ip_in_7_days', 0, 1)\n",
      "('total_num_of_banking_credit_applications_from_ip_in_30_days', -3.0, 5.0)\n",
      "('total_num_of_insurance_applications_from_ip_in_30_days', 0, 1)\n",
      "('mail_login_length', 0, 1)\n",
      "('time_on_page', 0, 130.0)\n",
      "('number_of_hot_keys', 0, 1)\n",
      "('number_of_corrections', 0, 1)\n",
      "('browser_history_count', -10.0, 22.0)\n",
      "('ram_productivity', -10025.0, 25375.0)\n",
      "('storage_productivity', 0, 188.0)\n",
      "('pure_avg_typing_speed', 0, 952.0)\n",
      "('avg_typing_speed', 0, 2926.0)\n",
      "('single_click', 0, 18.0)\n",
      "('double_click', 0, 4.0)\n",
      "('context_menu', 0, 4.0)\n",
      "('leave_page', 0, 4.0)\n",
      "('observed_quarters', -1.0, 7.0)\n",
      "('touch_dev', 0, 3.932)\n",
      "('acc_dev', 0, 34.31)\n",
      "('number_of_secondary_antifraud_markers', -1.0, 7.0)\n",
      "('ip_longitude', 1.2560000000000002, 98.21600000000001)\n",
      "('ip_latitude', 47.84299999999998, 62.26700000000002)\n",
      "('ip_ageing_in_months', 0, 26.0)\n",
      "('is_canvas_blocker', 0, 2.0)\n",
      "('display_width_via_pixel', 0, 824.0)\n",
      "('display_height_via_pixel', 0, 1600.0)\n",
      "('display_width_from_manufacturer', -820.0, 2220.0)\n",
      "('display_height_from_manufacturer', -2130.0, 4830.0)\n",
      "('usable_display_width', 0, 720.0)\n",
      "('usable_display_height', 0, 1440.0)\n",
      "('diagonal_screen_size', 0, 12.0)\n",
      "('display_ppi', -199.5, 772.5)\n",
      "('display_pixel_ratio', 0, 6.0)\n",
      "('color_depth_via_pixel', 0, 64.0)\n",
      "('color_depth_from_manufacturer', 0, 48.0)\n",
      "('ram_size', 0, 8.0)\n",
      "('hardware_concurrency', 0, 16.0)\n",
      "('camera_resolution', 0, 32.0)\n",
      "('completeness', 0, 8.0)\n",
      "('time_sine', -2.2225474604747033, 1.3125851233706702)\n",
      "('time_cosine', -2.5895093696813696, 2.844016988636794)\n",
      "('device_age', 0, 8.0)\n"
     ]
    }
   ],
   "source": [
    "for name in numeric :\n",
    "    # Calculates the main percentiles\n",
    "    q1, q2, q3 = d.approxQuantile( name, [ 0.25, 0.5, 0.75 ], 0.001 )\n",
    "    # Checks if the distribution is not very dense\n",
    "    if ( q2 - q1 ) != 0 and ( q3 - q2 ) != 0 :\n",
    "        # Checks if the distribution is non-symmetrical\n",
    "        skewed = ( q3 - q2 ) / ( q2 - q1 ) >= 1.25 or ( q2 - q1 ) / ( q3 - q2 ) >= 1.25\n",
    "    else:\n",
    "        skewed = True\n",
    "    # Threshold values for a skewed distribution\n",
    "    if skewed and d.agg( f.min( f.col( name ) ) ).collect()[ 0 ][ 0 ] >= 0 : \n",
    "        lower = 0\n",
    "        if q3 > 0 :\n",
    "            upper = q3 * 2   \n",
    "        else :\n",
    "            upper = 1\n",
    "    # Threshold values for a symmetrical distribution\n",
    "    else :\n",
    "        iqr = q3 - q1\n",
    "        if iqr > 0 :\n",
    "            lower = q1 - 1.5 * iqr\n",
    "            upper = q3 + 1.5 * iqr\n",
    "        else :\n",
    "            lower = q1 - 1\n",
    "            upper = q3 + 1\n",
    "    # Prints the threshold values\n",
    "    print( ( name, lower, upper ) )\n",
    "    # Replaces extreme values with the threshold values\n",
    "    d = d.withColumn( name, f.when( f.col( name ) < lower, lower ).when( f.col( name ) > upper, upper ).\\\n",
    "                            otherwise( f.col( name ) ) )"
   ]
  },
  {
   "cell_type": "code",
   "execution_count": null,
   "metadata": {},
   "outputs": [],
   "source": []
  },
  {
   "cell_type": "markdown",
   "metadata": {},
   "source": [
    "#### Train / Test Split"
   ]
  },
  {
   "cell_type": "code",
   "execution_count": 59,
   "metadata": {},
   "outputs": [],
   "source": [
    "border_positive = d.filter( 'label == 1' ).select( 'id' ).approxQuantile( 'id', [ 0.8 ], 0.001 )[ 0 ]"
   ]
  },
  {
   "cell_type": "code",
   "execution_count": 60,
   "metadata": {},
   "outputs": [],
   "source": [
    "border_negative = d.filter( 'label == 0' ).select( 'id' ).approxQuantile( 'id', [ 0.8 ], 0.001 )[ 0 ]"
   ]
  },
  {
   "cell_type": "code",
   "execution_count": 61,
   "metadata": {},
   "outputs": [],
   "source": [
    "d = d.withColumn( 'test_positive', f.when( d.id > border_positive, True ).otherwise( False ) )"
   ]
  },
  {
   "cell_type": "code",
   "execution_count": 62,
   "metadata": {},
   "outputs": [],
   "source": [
    "d = d.withColumn( 'test_negative', f.when( d.id > border_negative, True ).otherwise( False ) )"
   ]
  },
  {
   "cell_type": "code",
   "execution_count": 63,
   "metadata": {},
   "outputs": [],
   "source": [
    "d = d.withColumn( 'test', f.when( d.label == 1, d.test_positive ).otherwise( d.test_negative ) )"
   ]
  },
  {
   "cell_type": "code",
   "execution_count": 64,
   "metadata": {},
   "outputs": [],
   "source": [
    "#d.groupBy( 'test' ).agg( f.count( 'label' ), f.mean( 'label' ) ).show()"
   ]
  },
  {
   "cell_type": "code",
   "execution_count": 65,
   "metadata": {},
   "outputs": [],
   "source": [
    "d = d.drop( 'test_positive', 'test_negative' )"
   ]
  },
  {
   "cell_type": "markdown",
   "metadata": {},
   "source": [
    "#### Scaling"
   ]
  },
  {
   "cell_type": "markdown",
   "metadata": {},
   "source": [
    "Some of the variables degenerated into binary after the treatment of extreme values, so the list should be updated."
   ]
  },
  {
   "cell_type": "code",
   "execution_count": 66,
   "metadata": {},
   "outputs": [],
   "source": [
    "degenerated = [ 'total_num_of_shortterm_credit_applications_from_ip_in_1_day', 'total_num_of_banking_credit_applications_in_1_day', 'total_num_of_banking_credit_applications_in_7_days', 'total_num_of_banking_credit_applications_in_30_days', 'total_num_of_banking_credit_applications_from_ip_in_1_day', 'total_num_of_banking_credit_applications_from_ip_in_7_days', 'total_num_of_insurance_applications_from_ip_in_30_days', 'mail_login_length', 'number_of_hot_keys', 'number_of_corrections', 'total_num_of_shortterm_credit_applications_in_7_days', 'total_num_of_shortterm_credit_applications_in_1_day', 'cards_number', 'devices_number', 'phones_number', 'idx3_device_markers', 'idx1_stop_markers' ]"
   ]
  },
  {
   "cell_type": "code",
   "execution_count": 67,
   "metadata": {},
   "outputs": [],
   "source": [
    "numeric = [ x for x in numeric if x not in degenerated ]"
   ]
  },
  {
   "cell_type": "markdown",
   "metadata": {},
   "source": [
    "All numeric variables are scaled to the interval [0, 1] with sigmpoid function and standardizing. Estimation of means and standard deviations should be done only on the train sample to prevent overfit. "
   ]
  },
  {
   "cell_type": "code",
   "execution_count": 68,
   "metadata": {},
   "outputs": [],
   "source": [
    "for name in numeric :\n",
    "    m = d.filter( 'test = false' ).select( f.mean( f.col( name ) ) ).collect()[ 0 ][ 0 ]\n",
    "    sd = d.filter( 'test = false' ).select( f.stddev( f.col( name ) ) ).collect()[ 0 ][ 0 ]\n",
    "    d = d.withColumn( name, ( f.col( name ) - m ) / sd )\n",
    "    d = d.withColumn( name, 1 / ( 1 + f.exp( -f.col( name ) ) ) )"
   ]
  },
  {
   "cell_type": "code",
   "execution_count": null,
   "metadata": {},
   "outputs": [],
   "source": []
  },
  {
   "cell_type": "markdown",
   "metadata": {},
   "source": [
    "#### Imputation of Missing Values"
   ]
  },
  {
   "cell_type": "markdown",
   "metadata": {},
   "source": [
    "Missing values in categorical and binary variables become a new category (\"Unknown\"):"
   ]
  },
  {
   "cell_type": "code",
   "execution_count": 69,
   "metadata": {},
   "outputs": [],
   "source": [
    "categorical = [ 'total_num_of_shortterm_credit_applications_from_ip_in_1_day', 'total_num_of_banking_credit_applications_in_1_day', 'total_num_of_banking_credit_applications_in_7_days', 'total_num_of_banking_credit_applications_in_30_days', 'total_num_of_banking_credit_applications_from_ip_in_1_day', 'total_num_of_banking_credit_applications_from_ip_in_7_days', 'total_num_of_insurance_applications_from_ip_in_30_days', 'mail_login_length', 'number_of_hot_keys', 'number_of_corrections', 'total_num_of_shortterm_credit_applications_in_7_days', 'total_num_of_shortterm_credit_applications_in_1_day', 'cards_number', 'devices_number', 'phones_number', 'idx3_device_markers', 'idx1_stop_markers', 'gender', 'cl_marital_status_id', 'cl_employment_type_id', 'cl_employment_area_id', 'zip', 'javascript_executable', 'ip_available', 'useragent_available', 'supporting_data_available', 'is_local_country', 'timezone_mismatch', 'ip_sim_regions_match', 'duplicating_device', 'duplicating_ip', 'duplicating_user', 'seen_before', 'same_phone', 'same_login', 'same_region', 'same_device', 'less_tenor_days', 'total_num_of_insurance_applications_in_1_day', 'total_num_of_insurance_applications_in_7_days', 'total_num_of_insurance_applications_in_30_days', 'total_num_of_insurance_applications_from_ip_in_1_day', 'total_num_of_insurance_applications_from_ip_in_7_days', 'foreign_language_used', 'frd', 'frd_from_diff_acc', 'npl90', 'npl90_from_diff_acc', 'is_ever_frd', 'is_mass_frd', 'global_ip_blacklist', 'global_isp_blacklist', 'user_defined_ip_blacklist', 'user_defined_deviceid_blacklist', 'user_defined_userid_blacklist', 'user_defined_isp_blacklist', 'user_defined_similar_deviceid_blacklist', 'suspicious_referral', 'suspicious_plugins', 'suspicious_fonts', 'cookie_clone', 'mail_login_marker', 'social_vector_length', 'is_console_open', 'data_manipulation_risk', 'loan_limit_utilization', 'ip_region_name', 'ip_city', 'ip_owner', 'ip_domain', 'ip_mobile_brand', 'ip_usage_type', 'ip_net_speed', 'proxy', 'tor', 'ipv6_usage', 'ip_mismatch', 'dns_name', 'is_dns_local', 'ip_zip_code', 'virtual_machine', 'is_useragent_structure_issue', 'is_randomizer_issue', 'is_private_mode', 'botnet', 'connection_via_browser', 'connection_via_application', 'is_web_view_application_used', 'masquerading_as_desktop', 'device_vendor', 'mobile_device', 'touch_screen', 'screen_geometry_mismatch', 'is_regular_screen_resolution', 'nfc', 'pixel_language', 'os_name', 'browser_name', 'rendering_engine', 'region_app' ] "
   ]
  },
  {
   "cell_type": "code",
   "execution_count": null,
   "metadata": {},
   "outputs": [],
   "source": []
  },
  {
   "cell_type": "code",
   "execution_count": 70,
   "metadata": {},
   "outputs": [],
   "source": [
    "for name in categorical :\n",
    "    d = d.withColumn( name, f.when( f.col( name ).isNull(), 'Unknown' ).otherwise( f.col( name ) ) )"
   ]
  },
  {
   "cell_type": "markdown",
   "metadata": {},
   "source": [
    "Missing values in numeric variables are replaced by 0.5 (as they have already been scaled to the interval [0, 1]). If the portion of missing values is significant (equal or greater than 5%), a new binary variable is produced (indicator of a missing value)."
   ]
  },
  {
   "cell_type": "code",
   "execution_count": 71,
   "metadata": {},
   "outputs": [],
   "source": [
    "for name in numeric :\n",
    "    n = d.select( name ).agg( f.sum( f.when( f.col( name ).isNull(), 1 ).otherwise( 0 ) ) ).collect()[ 0 ][ 0 ]\n",
    "    if n / nrows >= 0.05 and n / nrows <= 0.95 :\n",
    "        d = d.withColumn( name+'_null', f.when( f.col( name ).isNull(), 1 ).otherwise( 0 ) )\n",
    "        d = d.withColumn( name, f.when( f.col( name ).isNull(), 0.5 ).otherwise( f.col( name ) ) )\n",
    "    elif n > 0 :\n",
    "        d = d.withColumn( name, f.when( f.col( name ).isNull(), 0.5 ).otherwise( f.col( name ) ) )"
   ]
  },
  {
   "cell_type": "code",
   "execution_count": null,
   "metadata": {},
   "outputs": [],
   "source": []
  },
  {
   "cell_type": "markdown",
   "metadata": {},
   "source": [
    "#### Categorical Variables with Large Number of Categories"
   ]
  },
  {
   "cell_type": "code",
   "execution_count": 72,
   "metadata": {},
   "outputs": [],
   "source": [
    "many_categories = [ 'zip', 'ip_zip_code', 'region_app', 'ip_city', 'ip_owner', 'ip_region_name', 'ip_domain', 'dns_name', 'device_vendor' ]"
   ]
  },
  {
   "cell_type": "code",
   "execution_count": 73,
   "metadata": {},
   "outputs": [
    {
     "name": "stdout",
     "output_type": "stream",
     "text": [
      "0.046399885255306944\n"
     ]
    }
   ],
   "source": [
    "share = d.filter( 'test = false' ).agg( f.mean( 'label' ) ).collect()[ 0 ][ 0 ]\n",
    "print( share )"
   ]
  },
  {
   "cell_type": "code",
   "execution_count": 74,
   "metadata": {},
   "outputs": [],
   "source": [
    "for name in many_categories :\n",
    "    nameenc = name+'_encoded'\n",
    "    cat = d.filter( 'test = false' ).groupBy( name ).agg( f.sum( 'label' ).alias( 'positive' ), \n",
    "                                                          f.count( 'label' ).alias( 'total' ) )\n",
    "    cat = cat.withColumn( nameenc, ( cat.positive + f.lit( 30 ) * f.lit( share ) ) / ( cat.total + f.lit( 30 ) ) )\n",
    "    cat = cat.withColumnRenamed( name, 'new' )\n",
    "    d = d.join( cat.select( 'new', nameenc ), f.col( name ) == cat.new, how='left' )\n",
    "    d = d.drop( 'new' )\n",
    "    d = d.withColumn( nameenc, f.when( f.col( nameenc ).isNull(), share ).otherwise( f.col( nameenc ) ) )"
   ]
  },
  {
   "cell_type": "markdown",
   "metadata": {},
   "source": [
    "Dummy features are added in order to be used later in the variable selection process:"
   ]
  },
  {
   "cell_type": "code",
   "execution_count": 75,
   "metadata": {},
   "outputs": [],
   "source": [
    "d = d.withColumn( 'DUMMY1', f.rand( seed=10000 ) ).\\\n",
    "      withColumn( 'DUMMY2', f.rand( seed=20000 ) ).\\\n",
    "      withColumn( 'DUMMY3', f.rand( seed=30000 ) )"
   ]
  },
  {
   "cell_type": "code",
   "execution_count": 76,
   "metadata": {},
   "outputs": [],
   "source": [
    "d.coalesce(1).write.csv( '/home/demetrius/Documents/Python/Fraud Detection/Data/processed', sep=';', header=True )"
   ]
  },
  {
   "cell_type": "code",
   "execution_count": 3,
   "metadata": {},
   "outputs": [],
   "source": [
    "d = sc.read.csv( '/home/demetrius/Documents/Python/Fraud Detection/Data/processed/part-00000-16f7e18f-f47e-4ff1-b42b-492aafe3d348-c000.csv',\n",
    "                inferSchema=True, header=True, sep=';' )\n",
    "numeric = [ 'amount_prep', 'term_prep', 'age', 'income', 'cl_education_type_id', 'antifraud_score', 'time', 'idx1_stop_markers', 'idx2_user_behaviour_markers', 'idx3_device_markers', 'idx4_connection_markers', 'idx5_device_quality', 'idx6_internet_infrastructure_quality', 'idx8_device_credentials_variability', 'total_applications_number', 'total_num_of_applications_with_browser_hash_in_1_day', 'total_num_of_applications_with_browser_hash_in_7_days', 'total_num_of_applications_with_browser_hash_in_30_days', 'logins_number', 'phones_number', 'devices_number', 'cities_number', 'zipcodes_number', 'cards_number', 'device_ageing_with_user', 'total_num_of_shortterm_credit_applications_in_1_day', 'total_num_of_shortterm_credit_applications_in_7_days', 'total_num_of_shortterm_credit_applications_in_30_days', 'total_num_of_shortterm_credit_applications_from_ip_in_1_day', 'total_num_of_shortterm_credit_applications_from_ip_in_7_days', 'total_num_of_shortterm_credit_applications_from_ip_in_30_days', 'total_num_of_banking_credit_applications_in_1_day', 'total_num_of_banking_credit_applications_in_7_days', 'total_num_of_banking_credit_applications_in_30_days', 'total_num_of_banking_credit_applications_from_ip_in_1_day', 'total_num_of_banking_credit_applications_from_ip_in_7_days', 'total_num_of_banking_credit_applications_from_ip_in_30_days', 'total_num_of_insurance_applications_from_ip_in_30_days', 'mail_login_length', 'time_on_page', 'number_of_hot_keys', 'number_of_corrections', 'browser_history_count', 'ram_productivity', 'storage_productivity', 'pure_avg_typing_speed', 'avg_typing_speed', 'single_click', 'double_click', 'context_menu', 'leave_page', 'observed_quarters', 'touch_dev', 'acc_dev', 'number_of_secondary_antifraud_markers', 'ip_longitude', 'ip_latitude', 'ip_ageing_in_months', 'is_canvas_blocker', 'display_width_via_pixel', 'display_height_via_pixel', 'display_width_from_manufacturer', 'display_height_from_manufacturer', 'usable_display_width', 'usable_display_height', 'diagonal_screen_size', 'display_ppi', 'display_pixel_ratio', 'color_depth_via_pixel', 'color_depth_from_manufacturer', 'ram_size', 'hardware_concurrency', 'camera_resolution', 'completeness', 'time_sine', 'time_cosine', 'device_age' ]\n",
    "degenerated = [ 'total_num_of_shortterm_credit_applications_from_ip_in_1_day', 'total_num_of_banking_credit_applications_in_1_day', 'total_num_of_banking_credit_applications_in_7_days', 'total_num_of_banking_credit_applications_in_30_days', 'total_num_of_banking_credit_applications_from_ip_in_1_day', 'total_num_of_banking_credit_applications_from_ip_in_7_days', 'total_num_of_insurance_applications_from_ip_in_30_days', 'mail_login_length', 'number_of_hot_keys', 'number_of_corrections', 'total_num_of_shortterm_credit_applications_in_7_days', 'total_num_of_shortterm_credit_applications_in_1_day', 'cards_number', 'devices_number', 'phones_number', 'idx3_device_markers', 'idx1_stop_markers' ]\n",
    "numeric = [ x for x in numeric if x not in degenerated ]\n",
    "categorical = [ 'total_num_of_shortterm_credit_applications_from_ip_in_1_day', 'total_num_of_banking_credit_applications_in_1_day', 'total_num_of_banking_credit_applications_in_7_days', 'total_num_of_banking_credit_applications_in_30_days', 'total_num_of_banking_credit_applications_from_ip_in_1_day', 'total_num_of_banking_credit_applications_from_ip_in_7_days', 'total_num_of_insurance_applications_from_ip_in_30_days', 'mail_login_length', 'number_of_hot_keys', 'number_of_corrections', 'total_num_of_shortterm_credit_applications_in_7_days', 'total_num_of_shortterm_credit_applications_in_1_day', 'cards_number', 'devices_number', 'phones_number', 'idx3_device_markers', 'idx1_stop_markers', 'gender', 'cl_marital_status_id', 'cl_employment_type_id', 'cl_employment_area_id', 'zip', 'javascript_executable', 'ip_available', 'useragent_available', 'supporting_data_available', 'is_local_country', 'timezone_mismatch', 'ip_sim_regions_match', 'duplicating_device', 'duplicating_ip', 'duplicating_user', 'seen_before', 'same_phone', 'same_login', 'same_region', 'same_device', 'less_tenor_days', 'total_num_of_insurance_applications_in_1_day', 'total_num_of_insurance_applications_in_7_days', 'total_num_of_insurance_applications_in_30_days', 'total_num_of_insurance_applications_from_ip_in_1_day', 'total_num_of_insurance_applications_from_ip_in_7_days', 'foreign_language_used', 'frd', 'frd_from_diff_acc', 'npl90', 'npl90_from_diff_acc', 'is_ever_frd', 'is_mass_frd', 'global_ip_blacklist', 'global_isp_blacklist', 'user_defined_ip_blacklist', 'user_defined_deviceid_blacklist', 'user_defined_userid_blacklist', 'user_defined_isp_blacklist', 'user_defined_similar_deviceid_blacklist', 'suspicious_referral', 'suspicious_plugins', 'suspicious_fonts', 'cookie_clone', 'mail_login_marker', 'social_vector_length', 'is_console_open', 'data_manipulation_risk', 'loan_limit_utilization', 'ip_region_name', 'ip_city', 'ip_owner', 'ip_domain', 'ip_mobile_brand', 'ip_usage_type', 'ip_net_speed', 'proxy', 'tor', 'ipv6_usage', 'ip_mismatch', 'dns_name', 'is_dns_local', 'ip_zip_code', 'virtual_machine', 'is_useragent_structure_issue', 'is_randomizer_issue', 'is_private_mode', 'botnet', 'connection_via_browser', 'connection_via_application', 'is_web_view_application_used', 'masquerading_as_desktop', 'device_vendor', 'mobile_device', 'touch_screen', 'screen_geometry_mismatch', 'is_regular_screen_resolution', 'nfc', 'pixel_language', 'os_name', 'browser_name', 'rendering_engine', 'region_app' ] \n",
    "many_categories = [ 'zip', 'ip_zip_code', 'region_app', 'ip_city', 'ip_owner', 'ip_region_name', 'ip_domain', 'dns_name', 'device_vendor' ]\n",
    "share = d.filter( 'test = false' ).agg( f.mean( 'label' ) ).collect()[ 0 ][ 0 ]"
   ]
  },
  {
   "cell_type": "markdown",
   "metadata": {},
   "source": [
    "#### One-Hot Encoding"
   ]
  },
  {
   "cell_type": "code",
   "execution_count": 4,
   "metadata": {},
   "outputs": [],
   "source": [
    "categorical = [ x for x in categorical if x not in many_categories ]"
   ]
  },
  {
   "cell_type": "code",
   "execution_count": 5,
   "metadata": {},
   "outputs": [],
   "source": [
    "produced = [ 'income_null', 'idx8_device_credentials_variability_null', 'pure_avg_typing_speed_null', 'avg_typing_speed_null', 'single_click_null', 'leave_page_null', 'touch_dev_null', 'acc_dev_null', 'display_width_from_manufacturer_null', 'display_height_from_manufacturer_null', 'usable_display_width_null', 'usable_display_height_null', 'diagonal_screen_size_null', 'display_ppi_null', 'color_depth_from_manufacturer_null', 'ram_size_null', 'hardware_concurrency_null', 'camera_resolution_null', 'device_age_null', 'zip_encoded', 'ip_zip_code_encoded', 'region_app_encoded', 'ip_city_encoded', 'ip_owner_encoded', 'ip_region_name_encoded', 'ip_domain_encoded', 'dns_name_encoded', 'device_vendor_encoded', 'DUMMY1', 'DUMMY2', 'DUMMY3' ]"
   ]
  },
  {
   "cell_type": "code",
   "execution_count": 6,
   "metadata": {},
   "outputs": [],
   "source": [
    "indexers = [ StringIndexer( stringOrderType='alphabetAsc', inputCol=name, \n",
    "                            outputCol=name+'_ind' ) for name in categorical ]"
   ]
  },
  {
   "cell_type": "code",
   "execution_count": 7,
   "metadata": {},
   "outputs": [],
   "source": [
    "names_index = [ name + '_ind' for name in categorical ]\n",
    "names_one_hot = [ name + '_oh' for name in categorical ]"
   ]
  },
  {
   "cell_type": "code",
   "execution_count": 8,
   "metadata": {},
   "outputs": [],
   "source": [
    "encoder = OneHotEncoderEstimator( inputCols=names_index, outputCols=names_one_hot, dropLast=False )"
   ]
  },
  {
   "cell_type": "code",
   "execution_count": 9,
   "metadata": {},
   "outputs": [],
   "source": [
    "vectorizer = VectorAssembler( inputCols=numeric+produced+names_one_hot, outputCol='features' )"
   ]
  },
  {
   "cell_type": "code",
   "execution_count": 10,
   "metadata": {},
   "outputs": [],
   "source": [
    "pipe = Pipeline( stages=indexers+[ encoder, vectorizer ] )"
   ]
  },
  {
   "cell_type": "code",
   "execution_count": 11,
   "metadata": {},
   "outputs": [],
   "source": [
    "oh = pipe.fit( d ).transform( d ).select( 'label', 'test', 'features' )"
   ]
  },
  {
   "cell_type": "code",
   "execution_count": 12,
   "metadata": {},
   "outputs": [],
   "source": [
    "categorical_names = []\n",
    "for name in categorical :\n",
    "    for i in range( d.select( name ).distinct().count() ) :\n",
    "        categorical_names.append( name+str( i ) )"
   ]
  },
  {
   "cell_type": "code",
   "execution_count": 13,
   "metadata": {},
   "outputs": [],
   "source": [
    "variable_names = numeric+produced+categorical_names"
   ]
  },
  {
   "cell_type": "markdown",
   "metadata": {},
   "source": [
    "#### Balancing Classes"
   ]
  },
  {
   "cell_type": "code",
   "execution_count": 14,
   "metadata": {},
   "outputs": [
    {
     "name": "stdout",
     "output_type": "stream",
     "text": [
      "21\n"
     ]
    }
   ],
   "source": [
    "balance = round( ( 1 - share ) / share )\n",
    "print( balance )"
   ]
  },
  {
   "cell_type": "code",
   "execution_count": 15,
   "metadata": {},
   "outputs": [
    {
     "data": {
      "text/plain": [
       "16968"
      ]
     },
     "execution_count": 15,
     "metadata": {},
     "output_type": "execute_result"
    }
   ],
   "source": [
    "oversampled_positive = oh.filter( 'label = 1' )\n",
    "for i in range( 1, balance ) :\n",
    "    oversampled_positive = oversampled_positive.union( oh.filter( 'label = 1' ) )\n",
    "oversampled_positive.count()"
   ]
  },
  {
   "cell_type": "code",
   "execution_count": 16,
   "metadata": {},
   "outputs": [
    {
     "name": "stdout",
     "output_type": "stream",
     "text": [
      "+-------+------------------+\n",
      "|summary|             label|\n",
      "+-------+------------------+\n",
      "|   mean|0.5055416517697533|\n",
      "+-------+------------------+\n",
      "\n"
     ]
    }
   ],
   "source": [
    "balanced = oh.filter( 'label = 0' ).union( oversampled_positive )\n",
    "del oversampled_positive\n",
    "balanced.select( 'label' ).summary( 'mean' ).show()"
   ]
  },
  {
   "cell_type": "markdown",
   "metadata": {},
   "source": [
    "#### Variable Selection"
   ]
  },
  {
   "cell_type": "markdown",
   "metadata": {},
   "source": [
    "Summary dataframe for various trees:"
   ]
  },
  {
   "cell_type": "code",
   "execution_count": 17,
   "metadata": {},
   "outputs": [
    {
     "data": {
      "text/html": [
       "<div>\n",
       "<style scoped>\n",
       "    .dataframe tbody tr th:only-of-type {\n",
       "        vertical-align: middle;\n",
       "    }\n",
       "\n",
       "    .dataframe tbody tr th {\n",
       "        vertical-align: top;\n",
       "    }\n",
       "\n",
       "    .dataframe thead th {\n",
       "        text-align: right;\n",
       "    }\n",
       "</style>\n",
       "<table border=\"1\" class=\"dataframe\">\n",
       "  <thead>\n",
       "    <tr style=\"text-align: right;\">\n",
       "      <th></th>\n",
       "      <th>leaf</th>\n",
       "      <th>seed</th>\n",
       "      <th>pr_auc</th>\n",
       "      <th>nvars</th>\n",
       "      <th>vars</th>\n",
       "    </tr>\n",
       "  </thead>\n",
       "  <tbody>\n",
       "    <tr>\n",
       "      <th>0</th>\n",
       "      <td>1245</td>\n",
       "      <td>716207235</td>\n",
       "      <td>0</td>\n",
       "      <td>0</td>\n",
       "      <td></td>\n",
       "    </tr>\n",
       "    <tr>\n",
       "      <th>1</th>\n",
       "      <td>1393</td>\n",
       "      <td>3714637870</td>\n",
       "      <td>0</td>\n",
       "      <td>0</td>\n",
       "      <td></td>\n",
       "    </tr>\n",
       "    <tr>\n",
       "      <th>2</th>\n",
       "      <td>743</td>\n",
       "      <td>719291602</td>\n",
       "      <td>0</td>\n",
       "      <td>0</td>\n",
       "      <td></td>\n",
       "    </tr>\n",
       "    <tr>\n",
       "      <th>3</th>\n",
       "      <td>1001</td>\n",
       "      <td>2629284994</td>\n",
       "      <td>0</td>\n",
       "      <td>0</td>\n",
       "      <td></td>\n",
       "    </tr>\n",
       "    <tr>\n",
       "      <th>4</th>\n",
       "      <td>944</td>\n",
       "      <td>1642891591</td>\n",
       "      <td>0</td>\n",
       "      <td>0</td>\n",
       "      <td></td>\n",
       "    </tr>\n",
       "  </tbody>\n",
       "</table>\n",
       "</div>"
      ],
      "text/plain": [
       "   leaf        seed  pr_auc  nvars vars\n",
       "0  1245   716207235       0      0     \n",
       "1  1393  3714637870       0      0     \n",
       "2   743   719291602       0      0     \n",
       "3  1001  2629284994       0      0     \n",
       "4   944  1642891591       0      0     "
      ]
     },
     "execution_count": 17,
     "metadata": {},
     "output_type": "execute_result"
    }
   ],
   "source": [
    "trials = 40\n",
    "t = pd.DataFrame({ 'leaf' : np.random.randint( 616, 2000, size=trials ),\n",
    "                   'seed' : np.random.randint( 0, 4e9, size=trials ) })\n",
    "t[ 'pr_auc' ] = 0\n",
    "t[ 'nvars' ] = 0\n",
    "t[ 'vars' ] = ''\n",
    "t.head()"
   ]
  },
  {
   "cell_type": "code",
   "execution_count": 43,
   "metadata": {},
   "outputs": [],
   "source": [
    "evaluator = BinaryClassificationEvaluator( metricName='areaUnderPR' )"
   ]
  },
  {
   "cell_type": "code",
   "execution_count": null,
   "metadata": {},
   "outputs": [
    {
     "name": "stdout",
     "output_type": "stream",
     "text": [
      "1\n"
     ]
    }
   ],
   "source": [
    "for i in t.index :\n",
    "    print( i )\n",
    "    tree = RandomForestClassifier( numTrees=1, maxDepth=10, maxBins=100, subsamplingRate=0.5, \n",
    "        featureSubsetStrategy='onethird', minInstancesPerNode=t.loc[ i, 'leaf' ], seed=t.loc[ i, 'seed' ] )\n",
    "    model = tree.fit( balanced )\n",
    "    t.loc[ i, 'pr_auc' ] = evaluator.evaluate( model.transform( oh ) )\n",
    "    selected = [ variable_names[ j ] for j in model.featureImportances.indices ]\n",
    "    t.loc[ i, 'nvars' ] = len( selected )\n",
    "    t.loc[ i, 'vars' ] = ', '.join( selected )\n",
    "    del( [ tree, model, selected ] )"
   ]
  },
  {
   "cell_type": "code",
   "execution_count": null,
   "metadata": {},
   "outputs": [],
   "source": [
    "t.to_csv( '/home/dkulikov/Documents/Python/trees.csv' )"
   ]
  },
  {
   "cell_type": "code",
   "execution_count": 17,
   "metadata": {},
   "outputs": [],
   "source": [
    "indexers = [ StringIndexer( stringOrderType='alphabetAsc', inputCol=name,\n",
    "                            outputCol=name+'_ind' ) for name in [ 'calculator' ] ]"
   ]
  },
  {
   "cell_type": "code",
   "execution_count": 18,
   "metadata": {},
   "outputs": [],
   "source": [
    "names_index = [ name + '_ind' for name in [ 'calculator' ] ]\n",
    "names_one_hot = [ name + '_oh' for name in [ 'calculator' ] ]"
   ]
  },
  {
   "cell_type": "code",
   "execution_count": 19,
   "metadata": {},
   "outputs": [],
   "source": [
    "encoder = OneHotEncoderEstimator( inputCols=names_index, outputCols=names_one_hot, dropLast=False )\n",
    "vectorizer = VectorAssembler( inputCols=[ 'time_on_page', 'single_click_null', 'zip_encoded' ]+names_one_hot, \n",
    "                             outputCol='features' )\n",
    "pipe = Pipeline( stages=indexers+[ encoder, vectorizer ] )\n",
    "oh = pipe.fit( d ).transform( d ).select( 'id', 'amount', 'interest', 'label', 'test', 'features' )\n",
    "oversampled_positive = oh.filter( 'label = 1' )\n",
    "for i in range( 1, balance ) :\n",
    "    oversampled_positive = oversampled_positive.union( oh.filter( 'label = 1' ) )\n",
    "balanced = oh.filter( 'label = 0' ).union( oversampled_positive )\n",
    "del oversampled_positive"
   ]
  },
  {
   "cell_type": "code",
   "execution_count": null,
   "metadata": {},
   "outputs": [],
   "source": []
  },
  {
   "cell_type": "code",
   "execution_count": null,
   "metadata": {},
   "outputs": [],
   "source": []
  },
  {
   "cell_type": "markdown",
   "metadata": {},
   "source": [
    "#### Search of the Optimal Configuration of Neural Network "
   ]
  },
  {
   "cell_type": "code",
   "execution_count": 97,
   "metadata": {},
   "outputs": [
    {
     "data": {
      "text/html": [
       "<div>\n",
       "<style scoped>\n",
       "    .dataframe tbody tr th:only-of-type {\n",
       "        vertical-align: middle;\n",
       "    }\n",
       "\n",
       "    .dataframe tbody tr th {\n",
       "        vertical-align: top;\n",
       "    }\n",
       "\n",
       "    .dataframe thead th {\n",
       "        text-align: right;\n",
       "    }\n",
       "</style>\n",
       "<table border=\"1\" class=\"dataframe\">\n",
       "  <thead>\n",
       "    <tr style=\"text-align: right;\">\n",
       "      <th></th>\n",
       "      <th>maxiter</th>\n",
       "      <th>stepsize</th>\n",
       "      <th>seed</th>\n",
       "      <th>pr_auc</th>\n",
       "    </tr>\n",
       "  </thead>\n",
       "  <tbody>\n",
       "    <tr>\n",
       "      <th>0</th>\n",
       "      <td>1000</td>\n",
       "      <td>0.04</td>\n",
       "      <td>604230286</td>\n",
       "      <td>0</td>\n",
       "    </tr>\n",
       "    <tr>\n",
       "      <th>1</th>\n",
       "      <td>3000</td>\n",
       "      <td>0.01</td>\n",
       "      <td>1194179510</td>\n",
       "      <td>0</td>\n",
       "    </tr>\n",
       "  </tbody>\n",
       "</table>\n",
       "</div>"
      ],
      "text/plain": [
       "   maxiter  stepsize        seed  pr_auc\n",
       "0     1000      0.04   604230286       0\n",
       "1     3000      0.01  1194179510       0"
      ]
     },
     "execution_count": 97,
     "metadata": {},
     "output_type": "execute_result"
    }
   ],
   "source": [
    "trials = 2\n",
    "t = pd.DataFrame({ 'maxiter' : np.random.choice( [ 100, 500, 1000, 2000, 3000 ], size=trials, replace=True ),\n",
    "                   'stepsize' : np.random.choice( [ 0.01, 0.02, 0.03, 0.04, 0.05 ], size=trials, replace=True ),\n",
    "                   'seed' : np.random.randint( 0, 4e9, size=trials ) })\n",
    "t[ 'pr_auc' ] = 0\n",
    "t.head()"
   ]
  },
  {
   "cell_type": "code",
   "execution_count": 83,
   "metadata": {},
   "outputs": [],
   "source": [
    "take_prob = f.udf( lambda v : float( v[ 1 ] ), FloatType() )"
   ]
  },
  {
   "cell_type": "code",
   "execution_count": 105,
   "metadata": {},
   "outputs": [
    {
     "name": "stdout",
     "output_type": "stream",
     "text": [
      "1\n"
     ]
    }
   ],
   "source": [
    "for i in t.index :\n",
    "    print( i )\n",
    "    nnet = MultilayerPerceptronClassifier( layers=[ , 4, 2, 2 ], blockSize=1000, solver='l-bfgs', \n",
    "               maxIter=t.loc[ i, 'maxiter' ], stepSize=t.loc[ i, 'stepsize' ],  seed=t.loc[ i, 'seed' ] )\n",
    "    model = nnet.fit( balanced.filter( 'test = false' ) )\n",
    "    predicted = model.transform( oh.filter( 'test = true' ) )\n",
    "    if i == 0 :\n",
    "        predictions = predicted.withColumn( 'prob_1', take_prob( 'probability' ) ).\\\n",
    "                                withColumnRenamed( 'prob_1', 'i0' ).select( 'id', 'i0' ) \n",
    "    else :\n",
    "        predictions = predicted.withColumn( 'prob_1', take_prob( 'probability' ) ).\\\n",
    "                                withColumnRenamed( 'prob_1', 'i'+str( i ) ).select( 'id', 'i'+str( i ) ).\\\n",
    "                                join( predictions, on='id', how='inner' )\n",
    "    t.loc[ i, 'pr_auc' ] = evaluator.evaluate( predicted )\n",
    "    del( [ nnet, model, predicted ] )"
   ]
  },
  {
   "cell_type": "markdown",
   "metadata": {},
   "source": [
    "#### Evaluation of Impact of the Model"
   ]
  },
  {
   "cell_type": "code",
   "execution_count": 110,
   "metadata": {},
   "outputs": [],
   "source": [
    "e = predictions.select( 'id', 'i2' ).join( oh, on='id', how='inner' ).withColumnRenamed( 'i2', 'prob' )"
   ]
  },
  {
   "cell_type": "markdown",
   "metadata": {},
   "source": [
    "| Stretch/Untouched | ProbDistribution | Accuracy |\n",
    "| :- | :-: | :-: |\n",
    "| <b>Stretched | Gaussian | .843 |"
   ]
  },
  {
   "cell_type": "code",
   "execution_count": null,
   "metadata": {},
   "outputs": [],
   "source": []
  },
  {
   "cell_type": "code",
   "execution_count": null,
   "metadata": {},
   "outputs": [],
   "source": []
  },
  {
   "cell_type": "code",
   "execution_count": 111,
   "metadata": {},
   "outputs": [
    {
     "name": "stdout",
     "output_type": "stream",
     "text": [
      "+-------+----------+------+------------------+-----+----+--------------------+\n",
      "|     id|      prob|amount|          interest|label|test|            features|\n",
      "+-------+----------+------+------------------+-----+----+--------------------+\n",
      "|8597257| 0.5905551| 170.0|              51.0|    0|true|[0.25621030977513...|\n",
      "|8735162|0.27867174| 360.0|              54.0|    0|true|[0.25621030977513...|\n",
      "|8661524|0.41102436|  50.0|              15.0|    0|true|(7,[0,2,5],[0.482...|\n",
      "|8784764| 0.5127556|  40.0|              12.0|    0|true|(7,[0,2,5],[0.604...|\n",
      "|8532156|0.36814708| 120.0|              18.0|    0|true|(7,[0,2,5],[0.488...|\n",
      "|8670872|0.48777193| 360.0|             108.0|    0|true|(7,[0,2,4],[0.604...|\n",
      "|8816556| 0.7479879| 120.0|              26.4|    0|true|(7,[0,2,6],[0.361...|\n",
      "|8661153|0.35349476| 130.0|              28.6|    0|true|(7,[0,2,5],[0.482...|\n",
      "|8533925| 0.3696772|  20.0|               5.4|    0|true|(7,[0,2,3],[0.604...|\n",
      "|8217899| 0.1859771|  60.0|              18.0|    1|true|(7,[0,2,3],[0.871...|\n",
      "|8495506|0.64204884|  50.0|               7.5|    0|true|(7,[0,2,4],[0.350...|\n",
      "|8536849|0.20325872| 170.0|35.699999999999996|    0|true|(7,[0,2,5],[0.715...|\n",
      "|8732382|0.46209446| 170.0|              25.5|    0|true|(7,[0,2,5],[0.265...|\n",
      "|8763272| 0.6600779| 120.0|              18.0|    0|true|[0.25621030977513...|\n",
      "|8757303|0.28396577| 290.0|              58.0|    0|true|(7,[0,2,6],[0.871...|\n",
      "|8811079| 0.3586166|  20.0|               2.0|    0|true|(7,[0,2,5],[0.482...|\n",
      "|8747002|0.45117956| 360.0|             108.0|    0|true|(7,[0,2,6],[0.604...|\n",
      "|8715184| 0.3627789| 360.0|              54.0|    0|true|[0.25621030977513...|\n",
      "|8741869| 0.3131061| 120.0|21.599999999999998|    0|true|(7,[0,2,3],[0.604...|\n",
      "|8432824|0.97074986| 360.0|              54.0|    1|true|(7,[0,2,6],[0.256...|\n",
      "+-------+----------+------+------------------+-----+----+--------------------+\n",
      "only showing top 20 rows\n",
      "\n"
     ]
    }
   ],
   "source": [
    "a.show()"
   ]
  },
  {
   "cell_type": "code",
   "execution_count": 108,
   "metadata": {},
   "outputs": [
    {
     "name": "stdout",
     "output_type": "stream",
     "text": [
      "+-------+----------+----------+----------+\n",
      "|     id|        i2|        i1|        i0|\n",
      "+-------+----------+----------+----------+\n",
      "|8597257| 0.5905551| 0.5719692| 0.5719691|\n",
      "|8735162|0.27867174| 0.3086225|0.30862233|\n",
      "|8661524|0.41102436|0.42394298|0.42394271|\n",
      "|8784764| 0.5127556| 0.5163836|0.51638293|\n",
      "|8532156|0.36814708|0.38830087|0.38830066|\n",
      "|8670872|0.48777193| 0.4983167|0.49831694|\n",
      "|8816556| 0.7479879|0.70302516| 0.7030256|\n",
      "|8661153|0.35349476| 0.3754968|0.37549666|\n",
      "|8533925| 0.3696772|0.39808446|0.39808476|\n",
      "|8217899| 0.1859771|0.24508938|0.24508962|\n",
      "|8495506|0.64204884| 0.6110017|  0.611002|\n",
      "|8536849|0.20325872| 0.2536071|0.25360695|\n",
      "|8732382|0.46209446|0.45246074|0.45246074|\n",
      "|8763272| 0.6600779|0.63215256|0.63215244|\n",
      "|8757303|0.28396577|0.33786002|0.33786055|\n",
      "|8811079| 0.3586166|0.37984592|0.37984577|\n",
      "|8747002|0.45117956|0.46545094|0.46545163|\n",
      "|8715184| 0.3627789|0.38222328|0.38222358|\n",
      "|8741869| 0.3131061|0.34927565|0.34927607|\n",
      "|8432824|0.97074986| 0.9444955|0.94449544|\n",
      "+-------+----------+----------+----------+\n",
      "only showing top 20 rows\n",
      "\n"
     ]
    }
   ],
   "source": [
    "predictions.show()"
   ]
  },
  {
   "cell_type": "code",
   "execution_count": 103,
   "metadata": {},
   "outputs": [
    {
     "data": {
      "text/plain": [
       "DenseVector([1.3181, -1.1299, 0.6661, -0.2485, -5.9002, 6.4373, 0.0332, -0.1943, 0.2323, 0.5482, 0.3189, -0.1023, 0.1903, 0.5176, -0.6478, 0.0681])"
      ]
     },
     "execution_count": 103,
     "metadata": {},
     "output_type": "execute_result"
    }
   ],
   "source": [
    "model.weights\n",
    "# 'time_on_page', 'single_click_null', 'zip_encoded', 'change', 'default', 'exact', 'right'"
   ]
  },
  {
   "cell_type": "code",
   "execution_count": 107,
   "metadata": {},
   "outputs": [
    {
     "data": {
      "text/plain": [
       "DenseVector([1.7287, -1.5405, 0.7902, -0.3727, -7.1786, 7.7157, 0.0268, -0.1879, 0.1728, 0.6077, 0.3294, -0.1128, 0.1237, 0.5843, -0.7698, 0.1901])"
      ]
     },
     "execution_count": 107,
     "metadata": {},
     "output_type": "execute_result"
    }
   ],
   "source": [
    "model.weights"
   ]
  },
  {
   "cell_type": "code",
   "execution_count": 63,
   "metadata": {},
   "outputs": [
    {
     "name": "stdout",
     "output_type": "stream",
     "text": [
      "+---+----------+------+-----------+\n",
      "| id|calculator|amount|income_null|\n",
      "+---+----------+------+-----------+\n",
      "|  1|   default|   200|          0|\n",
      "|  2|     exact|   200|          0|\n",
      "|  3|     right|   300|          1|\n",
      "|  4|   default|   100|          0|\n",
      "+---+----------+------+-----------+\n",
      "\n"
     ]
    }
   ],
   "source": [
    "s = sc.createDataFrame( [ ( 1, 'default', 200, 0 ),\n",
    "                          ( 2, 'exact', 200, 0 ),\n",
    "                          ( 3, 'right', 300, 1 ),\n",
    "                          ( 4, 'default', 100, 0 ) ],\n",
    "                          [ 'id', 'calculator', 'amount', 'income_null' ] )\n",
    "s.show()"
   ]
  },
  {
   "cell_type": "code",
   "execution_count": 18,
   "metadata": {},
   "outputs": [
    {
     "name": "stdout",
     "output_type": "stream",
     "text": [
      "+-------------------+--------------------+--------------------+\n",
      "|             DUMMY1|              DUMMY2|              DUMMY3|\n",
      "+-------------------+--------------------+--------------------+\n",
      "| 0.9101417418112615|  0.8702175563203732|  0.5976111546866278|\n",
      "| 0.5133452710932718|  0.9236611454788727|  0.9880197032482291|\n",
      "| 0.5684106677034393| 0.08735706117007125|   0.610442828365377|\n",
      "| 0.6373286000654003|  0.9992155172779373| 0.28154566586246166|\n",
      "| 0.4549122148212914|  0.5502734341874344| 0.42600482777192306|\n",
      "| 0.9357786322462535|  0.5528826321355369|  0.2614839594381747|\n",
      "| 0.9385201811416523|0.008991653987770909|  0.6519034659964507|\n",
      "| 0.7582740076462351| 0.17789923672516306| 0.23379678889855182|\n",
      "|0.26089303563584465| 0.10963337991619893|  0.7054024879087801|\n",
      "|  0.502200813872946| 0.12492122419067886|  0.9001188838061123|\n",
      "| 0.6766159758031817|  0.7675256905637611|  0.4028668954032355|\n",
      "| 0.5993694543340292|  0.9471668555786584|   0.987575207855827|\n",
      "| 0.8989815988679949|  0.9436588326830352|  0.6376745103504742|\n",
      "| 0.5946120300672245|  0.9196386657204184|   0.175885610546758|\n",
      "| 0.8861709374596747|  0.4870522280577184|  0.4923002051443631|\n",
      "|  0.937285814563984|  0.8570758378371796|   0.484320117355466|\n",
      "| 0.9327708453919525|  0.7895321546271155|  0.9958719524205584|\n",
      "| 0.4600283641412912|  0.8973151801237081|0.001353835584599783|\n",
      "| 0.5748521637762702| 0.08322489923051046|  0.5313311183873536|\n",
      "|  0.347424188646519| 0.37525791299309186|  0.1388039347100204|\n",
      "+-------------------+--------------------+--------------------+\n",
      "only showing top 20 rows\n",
      "\n"
     ]
    }
   ],
   "source": [
    "d.filter( 'amount = 230' ).select( 'DUMMY1', 'DUMMY2', 'DUMMY3' ).show()"
   ]
  }
 ],
 "metadata": {
  "kernelspec": {
   "display_name": "Python 3",
   "language": "python",
   "name": "python3"
  },
  "language_info": {
   "codemirror_mode": {
    "name": "ipython",
    "version": 3
   },
   "file_extension": ".py",
   "mimetype": "text/x-python",
   "name": "python",
   "nbconvert_exporter": "python",
   "pygments_lexer": "ipython3",
   "version": "3.7.6"
  }
 },
 "nbformat": 4,
 "nbformat_minor": 4
}
