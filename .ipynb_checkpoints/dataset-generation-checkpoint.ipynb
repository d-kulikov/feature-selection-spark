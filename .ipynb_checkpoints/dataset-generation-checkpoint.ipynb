{
 "cells": [
  {
   "cell_type": "code",
   "execution_count": 1,
   "metadata": {},
   "outputs": [],
   "source": [
    "import numpy as np\n",
    "import pandas as pd\n",
    "from scipy.stats import pearsonr\n",
    "np.random.seed( 333 )"
   ]
  },
  {
   "cell_type": "markdown",
   "metadata": {},
   "source": [
    "##### a1 is a binary variable"
   ]
  },
  {
   "cell_type": "code",
   "execution_count": 2,
   "metadata": {},
   "outputs": [],
   "source": [
    "DATA = pd.DataFrame( { 'a1' : np.random.binomial( 1, 0.5, 10000 ) } )"
   ]
  },
  {
   "cell_type": "markdown",
   "metadata": {},
   "source": [
    "##### \"label\" is a continuous target variable"
   ]
  },
  {
   "cell_type": "code",
   "execution_count": 3,
   "metadata": {},
   "outputs": [],
   "source": [
    "DATA[ 'label' ] = np.random.normal( 0, 1, 10000 )"
   ]
  },
  {
   "cell_type": "markdown",
   "metadata": {},
   "source": [
    "##### b1 is closely related with a1 in a way similar to the logical XOR relationship. When a1 and b1 are equal (0 and 0, 1 and 1), the target (label) takes low values. When they are different (0 and 1, 1 and 0), label takes high values. This kind of relationship is usually hard to capture with simple model techniques without knowing it explicitly."
   ]
  },
  {
   "cell_type": "code",
   "execution_count": 4,
   "metadata": {},
   "outputs": [],
   "source": [
    "DATA[ 'b1' ] = np.where( DATA.label < 0, DATA.a1, 1 - DATA.a1 )"
   ]
  },
  {
   "cell_type": "code",
   "execution_count": 5,
   "metadata": {},
   "outputs": [
    {
     "data": {
      "text/html": [
       "<div>\n",
       "<style scoped>\n",
       "    .dataframe tbody tr th:only-of-type {\n",
       "        vertical-align: middle;\n",
       "    }\n",
       "\n",
       "    .dataframe tbody tr th {\n",
       "        vertical-align: top;\n",
       "    }\n",
       "\n",
       "    .dataframe thead th {\n",
       "        text-align: right;\n",
       "    }\n",
       "</style>\n",
       "<table border=\"1\" class=\"dataframe\">\n",
       "  <thead>\n",
       "    <tr style=\"text-align: right;\">\n",
       "      <th></th>\n",
       "      <th>a1</th>\n",
       "      <th>b1</th>\n",
       "      <th>label</th>\n",
       "    </tr>\n",
       "  </thead>\n",
       "  <tbody>\n",
       "    <tr>\n",
       "      <td>6357</td>\n",
       "      <td>1</td>\n",
       "      <td>0</td>\n",
       "      <td>0.903201</td>\n",
       "    </tr>\n",
       "    <tr>\n",
       "      <td>2150</td>\n",
       "      <td>1</td>\n",
       "      <td>0</td>\n",
       "      <td>1.643511</td>\n",
       "    </tr>\n",
       "    <tr>\n",
       "      <td>1609</td>\n",
       "      <td>1</td>\n",
       "      <td>1</td>\n",
       "      <td>-0.897972</td>\n",
       "    </tr>\n",
       "    <tr>\n",
       "      <td>9972</td>\n",
       "      <td>0</td>\n",
       "      <td>1</td>\n",
       "      <td>1.051045</td>\n",
       "    </tr>\n",
       "    <tr>\n",
       "      <td>1582</td>\n",
       "      <td>0</td>\n",
       "      <td>0</td>\n",
       "      <td>-0.912961</td>\n",
       "    </tr>\n",
       "  </tbody>\n",
       "</table>\n",
       "</div>"
      ],
      "text/plain": [
       "      a1  b1     label\n",
       "6357   1   0  0.903201\n",
       "2150   1   0  1.643511\n",
       "1609   1   1 -0.897972\n",
       "9972   0   1  1.051045\n",
       "1582   0   0 -0.912961"
      ]
     },
     "execution_count": 5,
     "metadata": {},
     "output_type": "execute_result"
    }
   ],
   "source": [
    "DATA[[ 'a1', 'b1', 'label' ]].sample( 5 )"
   ]
  },
  {
   "cell_type": "markdown",
   "metadata": {},
   "source": [
    "##### Separately, a1 and b1 have no linear correlation with label"
   ]
  },
  {
   "cell_type": "code",
   "execution_count": 6,
   "metadata": {},
   "outputs": [
    {
     "data": {
      "text/html": [
       "<div>\n",
       "<style scoped>\n",
       "    .dataframe tbody tr th:only-of-type {\n",
       "        vertical-align: middle;\n",
       "    }\n",
       "\n",
       "    .dataframe tbody tr th {\n",
       "        vertical-align: top;\n",
       "    }\n",
       "\n",
       "    .dataframe thead th {\n",
       "        text-align: right;\n",
       "    }\n",
       "</style>\n",
       "<table border=\"1\" class=\"dataframe\">\n",
       "  <thead>\n",
       "    <tr style=\"text-align: right;\">\n",
       "      <th></th>\n",
       "      <th>a1</th>\n",
       "      <th>b1</th>\n",
       "      <th>label</th>\n",
       "    </tr>\n",
       "  </thead>\n",
       "  <tbody>\n",
       "    <tr>\n",
       "      <td>a1</td>\n",
       "      <td>1.000000</td>\n",
       "      <td>-0.018989</td>\n",
       "      <td>0.006929</td>\n",
       "    </tr>\n",
       "    <tr>\n",
       "      <td>b1</td>\n",
       "      <td>-0.018989</td>\n",
       "      <td>1.000000</td>\n",
       "      <td>0.002214</td>\n",
       "    </tr>\n",
       "    <tr>\n",
       "      <td>label</td>\n",
       "      <td>0.006929</td>\n",
       "      <td>0.002214</td>\n",
       "      <td>1.000000</td>\n",
       "    </tr>\n",
       "  </tbody>\n",
       "</table>\n",
       "</div>"
      ],
      "text/plain": [
       "             a1        b1     label\n",
       "a1     1.000000 -0.018989  0.006929\n",
       "b1    -0.018989  1.000000  0.002214\n",
       "label  0.006929  0.002214  1.000000"
      ]
     },
     "execution_count": 6,
     "metadata": {},
     "output_type": "execute_result"
    }
   ],
   "source": [
    "DATA[[ 'a1', 'b1', 'label' ]].corr()"
   ]
  },
  {
   "cell_type": "markdown",
   "metadata": {},
   "source": [
    "##### But their imaginary right combination has high correlation"
   ]
  },
  {
   "cell_type": "code",
   "execution_count": 7,
   "metadata": {},
   "outputs": [
    {
     "data": {
      "text/plain": [
       "-0.7998492144038691"
      ]
     },
     "execution_count": 7,
     "metadata": {},
     "output_type": "execute_result"
    }
   ],
   "source": [
    "pearsonr( np.where( DATA.a1 == DATA.b1, 1, 0 ), \n",
    "          DATA.label )[ 0 ]"
   ]
  },
  {
   "cell_type": "markdown",
   "metadata": {},
   "source": [
    "##### a2 and b2 are weaker versions of a1 and b1. They would be redundant in the final set."
   ]
  },
  {
   "cell_type": "code",
   "execution_count": 8,
   "metadata": {},
   "outputs": [],
   "source": [
    "DATA[ 'a2' ] = DATA.a1 + np.random.normal( 0, 1, 10000 )\n",
    "DATA[ 'b2' ] = DATA.b1 + np.random.normal( 0, 1, 10000 )"
   ]
  },
  {
   "cell_type": "code",
   "execution_count": 9,
   "metadata": {},
   "outputs": [
    {
     "data": {
      "text/html": [
       "<div>\n",
       "<style scoped>\n",
       "    .dataframe tbody tr th:only-of-type {\n",
       "        vertical-align: middle;\n",
       "    }\n",
       "\n",
       "    .dataframe tbody tr th {\n",
       "        vertical-align: top;\n",
       "    }\n",
       "\n",
       "    .dataframe thead th {\n",
       "        text-align: right;\n",
       "    }\n",
       "</style>\n",
       "<table border=\"1\" class=\"dataframe\">\n",
       "  <thead>\n",
       "    <tr style=\"text-align: right;\">\n",
       "      <th></th>\n",
       "      <th>a1</th>\n",
       "      <th>a2</th>\n",
       "      <th>b1</th>\n",
       "      <th>b2</th>\n",
       "    </tr>\n",
       "  </thead>\n",
       "  <tbody>\n",
       "    <tr>\n",
       "      <td>5733</td>\n",
       "      <td>0</td>\n",
       "      <td>-0.225544</td>\n",
       "      <td>0</td>\n",
       "      <td>1.478414</td>\n",
       "    </tr>\n",
       "    <tr>\n",
       "      <td>2626</td>\n",
       "      <td>1</td>\n",
       "      <td>0.631186</td>\n",
       "      <td>1</td>\n",
       "      <td>1.657820</td>\n",
       "    </tr>\n",
       "    <tr>\n",
       "      <td>7522</td>\n",
       "      <td>1</td>\n",
       "      <td>-0.429607</td>\n",
       "      <td>0</td>\n",
       "      <td>0.028050</td>\n",
       "    </tr>\n",
       "    <tr>\n",
       "      <td>4768</td>\n",
       "      <td>0</td>\n",
       "      <td>-1.145667</td>\n",
       "      <td>1</td>\n",
       "      <td>1.259590</td>\n",
       "    </tr>\n",
       "    <tr>\n",
       "      <td>5927</td>\n",
       "      <td>1</td>\n",
       "      <td>2.292783</td>\n",
       "      <td>0</td>\n",
       "      <td>-0.955425</td>\n",
       "    </tr>\n",
       "  </tbody>\n",
       "</table>\n",
       "</div>"
      ],
      "text/plain": [
       "      a1        a2  b1        b2\n",
       "5733   0 -0.225544   0  1.478414\n",
       "2626   1  0.631186   1  1.657820\n",
       "7522   1 -0.429607   0  0.028050\n",
       "4768   0 -1.145667   1  1.259590\n",
       "5927   1  2.292783   0 -0.955425"
      ]
     },
     "execution_count": 9,
     "metadata": {},
     "output_type": "execute_result"
    }
   ],
   "source": [
    "DATA[[ 'a1', 'a2', 'b1', 'b2' ]].sample( 5 )"
   ]
  },
  {
   "cell_type": "markdown",
   "metadata": {},
   "source": [
    "##### c1 is in a simple linear but weak relationship with label"
   ]
  },
  {
   "cell_type": "code",
   "execution_count": 10,
   "metadata": {},
   "outputs": [],
   "source": [
    "DATA[ 'c1' ] = DATA.label + np.random.normal( 0, 2, 10000 )"
   ]
  },
  {
   "cell_type": "markdown",
   "metadata": {},
   "source": [
    "##### c2 and c3 are weaker duplicates of c1. They are also not welcomed in the final set."
   ]
  },
  {
   "cell_type": "code",
   "execution_count": 11,
   "metadata": {},
   "outputs": [],
   "source": [
    "DATA[ 'c2' ] = DATA.c1 + np.random.normal( 0, 2, 10000 )\n",
    "DATA[ 'c3' ] = DATA.c1 + np.random.normal( 0, 2, 10000 )"
   ]
  },
  {
   "cell_type": "code",
   "execution_count": 12,
   "metadata": {},
   "outputs": [
    {
     "data": {
      "text/html": [
       "<div>\n",
       "<style scoped>\n",
       "    .dataframe tbody tr th:only-of-type {\n",
       "        vertical-align: middle;\n",
       "    }\n",
       "\n",
       "    .dataframe tbody tr th {\n",
       "        vertical-align: top;\n",
       "    }\n",
       "\n",
       "    .dataframe thead th {\n",
       "        text-align: right;\n",
       "    }\n",
       "</style>\n",
       "<table border=\"1\" class=\"dataframe\">\n",
       "  <thead>\n",
       "    <tr style=\"text-align: right;\">\n",
       "      <th></th>\n",
       "      <th>c1</th>\n",
       "      <th>c2</th>\n",
       "      <th>c3</th>\n",
       "      <th>label</th>\n",
       "    </tr>\n",
       "  </thead>\n",
       "  <tbody>\n",
       "    <tr>\n",
       "      <td>c1</td>\n",
       "      <td>1.000000</td>\n",
       "      <td>0.74716</td>\n",
       "      <td>0.740863</td>\n",
       "      <td>0.43951</td>\n",
       "    </tr>\n",
       "    <tr>\n",
       "      <td>c2</td>\n",
       "      <td>0.747160</td>\n",
       "      <td>1.00000</td>\n",
       "      <td>0.557410</td>\n",
       "      <td>0.32982</td>\n",
       "    </tr>\n",
       "    <tr>\n",
       "      <td>c3</td>\n",
       "      <td>0.740863</td>\n",
       "      <td>0.55741</td>\n",
       "      <td>1.000000</td>\n",
       "      <td>0.32316</td>\n",
       "    </tr>\n",
       "    <tr>\n",
       "      <td>label</td>\n",
       "      <td>0.439510</td>\n",
       "      <td>0.32982</td>\n",
       "      <td>0.323160</td>\n",
       "      <td>1.00000</td>\n",
       "    </tr>\n",
       "  </tbody>\n",
       "</table>\n",
       "</div>"
      ],
      "text/plain": [
       "             c1       c2        c3    label\n",
       "c1     1.000000  0.74716  0.740863  0.43951\n",
       "c2     0.747160  1.00000  0.557410  0.32982\n",
       "c3     0.740863  0.55741  1.000000  0.32316\n",
       "label  0.439510  0.32982  0.323160  1.00000"
      ]
     },
     "execution_count": 12,
     "metadata": {},
     "output_type": "execute_result"
    }
   ],
   "source": [
    "DATA[[ 'c1', 'c2', 'c3', 'label' ]].corr()"
   ]
  },
  {
   "cell_type": "markdown",
   "metadata": {},
   "source": [
    "##### d1, d2 and d3 are absolute garbage. We definetaly do not want to select them."
   ]
  },
  {
   "cell_type": "code",
   "execution_count": 13,
   "metadata": {},
   "outputs": [],
   "source": [
    "DATA[ 'd1' ] = np.random.normal( 1, 1, 10000 )\n",
    "DATA[ 'd2' ] = np.random.normal( 2, 1, 10000 )\n",
    "DATA[ 'd3' ] = np.random.normal( 3, 1, 10000 )"
   ]
  },
  {
   "cell_type": "markdown",
   "metadata": {},
   "source": [
    "##### Thus, the most important variables are a1 and b1. c1 brings some added value, too. So, ideally, we would like to select a1, b1 and c1 for fitting a model. We would like to skip the duplicate and garbage variables because they do not provide additional information and only make the model more complicated and harder to compute and optimize."
   ]
  },
  {
   "cell_type": "code",
   "execution_count": 14,
   "metadata": {},
   "outputs": [],
   "source": [
    "DATA[[ 'label', 'a1', 'a2', 'b1', 'b2', 'c1', 'c2', 'c3', \n",
    "      'd1', 'd2', 'd3' ]].to_csv( '~/Documents/GitHub/feature-selection-spark/data.csv', index=False )"
   ]
  }
 ],
 "metadata": {
  "kernelspec": {
   "display_name": "Python 3",
   "language": "python",
   "name": "python3"
  },
  "language_info": {
   "codemirror_mode": {
    "name": "ipython",
    "version": 3
   },
   "file_extension": ".py",
   "mimetype": "text/x-python",
   "name": "python",
   "nbconvert_exporter": "python",
   "pygments_lexer": "ipython3",
   "version": "3.7.4"
  }
 },
 "nbformat": 4,
 "nbformat_minor": 2
}
