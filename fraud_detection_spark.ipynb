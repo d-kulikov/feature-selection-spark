{
 "cells": [
  {
   "cell_type": "markdown",
   "metadata": {},
   "source": [
    "#### Initialization"
   ]
  },
  {
   "cell_type": "code",
   "execution_count": 1,
   "metadata": {},
   "outputs": [],
   "source": [
    "import findspark\n",
    "findspark.init( '/usr/local/spark' )\n",
    "import pyspark\n",
    "import numpy as np\n",
    "import pandas as pd\n",
    "from pyspark.sql import SparkSession, DataFrame, functions as f\n",
    "from pyspark.ml import Pipeline\n",
    "from pyspark.ml.feature import StringIndexer, OneHotEncoderEstimator, VectorAssembler\n",
    "from pyspark.ml.classification import RandomForestClassifier, MultilayerPerceptronClassifier\n",
    "from pyspark.ml.evaluation import BinaryClassificationEvaluator\n",
    "from pyspark.sql.types import FloatType"
   ]
  },
  {
   "cell_type": "code",
   "execution_count": 2,
   "metadata": {},
   "outputs": [
    {
     "name": "stdout",
     "output_type": "stream",
     "text": [
      "2.4.0\n"
     ]
    }
   ],
   "source": [
    "sc = SparkSession.builder.master( 'local' ).appName( 'Fraud Detection' ).getOrCreate()\n",
    "print( sc.version )"
   ]
  },
  {
   "cell_type": "markdown",
   "metadata": {},
   "source": [
    "#### Overview of the Dataset"
   ]
  },
  {
   "cell_type": "code",
   "execution_count": 3,
   "metadata": {},
   "outputs": [],
   "source": [
    "d = sc.read.csv( 'fraud_dyninno.csv', inferSchema=True, header=True, quote='' )"
   ]
  },
  {
   "cell_type": "markdown",
   "metadata": {},
   "source": [
    "Number of rows:"
   ]
  },
  {
   "cell_type": "code",
   "execution_count": 4,
   "metadata": {},
   "outputs": [
    {
     "name": "stdout",
     "output_type": "stream",
     "text": [
      "17404\n"
     ]
    }
   ],
   "source": [
    "nrows = d.count()\n",
    "print( nrows )"
   ]
  },
  {
   "cell_type": "markdown",
   "metadata": {},
   "source": [
    "Number of columns:"
   ]
  },
  {
   "cell_type": "code",
   "execution_count": 5,
   "metadata": {},
   "outputs": [
    {
     "data": {
      "text/plain": [
       "205"
      ]
     },
     "execution_count": 5,
     "metadata": {},
     "output_type": "execute_result"
    }
   ],
   "source": [
    "len( d.columns )"
   ]
  },
  {
   "cell_type": "markdown",
   "metadata": {},
   "source": [
    "Some of the columns:"
   ]
  },
  {
   "cell_type": "code",
   "execution_count": 6,
   "metadata": {},
   "outputs": [
    {
     "name": "stdout",
     "output_type": "stream",
     "text": [
      "+-------+--------------------+------+----+------------------+------+---------+-----+\n",
      "|     id|                date|amount|term|               age|gender|  os_name|label|\n",
      "+-------+--------------------+------+----+------------------+------+---------+-----+\n",
      "|7935509|2019-10-31 18:51:...| 360.0|  30| 25.82340862422998|Female|Windows 7|    0|\n",
      "|8393870|2019-12-22 13:18:...| 100.0|  30|22.754277891854894|  Male|      iOS|    0|\n",
      "|7936416|2019-10-31 21:57:...| 360.0|  30| 30.68309377138946|Female|      iOS|    0|\n",
      "|8038056|2019-11-16 09:46:...| 360.0|  30| 50.38193018480493|Female|Windows 7|    0|\n",
      "|8065609|2019-11-19 14:25:...| 250.0|  21| 37.23203285420944|Female|  Android|    0|\n",
      "+-------+--------------------+------+----+------------------+------+---------+-----+\n",
      "only showing top 5 rows\n",
      "\n"
     ]
    }
   ],
   "source": [
    "d.select( 'id', 'date', 'amount', 'term', 'age', 'gender', 'os_name', 'label' ).show( 5 )"
   ]
  },
  {
   "cell_type": "markdown",
   "metadata": {},
   "source": [
    "Quick overview of all the columns:"
   ]
  },
  {
   "cell_type": "code",
   "execution_count": 7,
   "metadata": {},
   "outputs": [],
   "source": [
    "d.show( 1, vertical=True )"
   ]
  },
  {
   "cell_type": "markdown",
   "metadata": {},
   "source": [
    "Number of missing values by columns:"
   ]
  },
  {
   "cell_type": "code",
   "execution_count": 8,
   "metadata": {},
   "outputs": [],
   "source": [
    "d.select( [ f.sum( f.when( f.col( name ).isNull(), 1 ) ).alias( name ) for name in d.columns ] ).show( vertical=True )"
   ]
  },
  {
   "cell_type": "markdown",
   "metadata": {},
   "source": [
    "Overview of the target variable (label):"
   ]
  },
  {
   "cell_type": "code",
   "execution_count": 9,
   "metadata": {},
   "outputs": [
    {
     "name": "stdout",
     "output_type": "stream",
     "text": [
      "+-----+\n",
      "|label|\n",
      "+-----+\n",
      "|    1|\n",
      "|    0|\n",
      "+-----+\n",
      "\n"
     ]
    }
   ],
   "source": [
    "d.select( 'label' ).distinct().show()"
   ]
  },
  {
   "cell_type": "markdown",
   "metadata": {},
   "source": [
    "So the target variable is binary."
   ]
  },
  {
   "cell_type": "code",
   "execution_count": 10,
   "metadata": {},
   "outputs": [
    {
     "name": "stdout",
     "output_type": "stream",
     "text": [
      "+-------+-------------------+\n",
      "|summary|              label|\n",
      "+-------+-------------------+\n",
      "|   mean|0.04642610894047346|\n",
      "+-------+-------------------+\n",
      "\n"
     ]
    }
   ],
   "source": [
    "d.select( 'label' ).summary( 'mean' ).show()"
   ]
  },
  {
   "cell_type": "markdown",
   "metadata": {},
   "source": [
    "The class is positive (actual fraud) in 4.6% of the cases. The distribution is rather imbalanced."
   ]
  },
  {
   "cell_type": "markdown",
   "metadata": {},
   "source": [
    "Financial variables:"
   ]
  },
  {
   "cell_type": "markdown",
   "metadata": {},
   "source": [
    "\"amount\": amount of a loan (equivalent in euros)"
   ]
  },
  {
   "cell_type": "code",
   "execution_count": 11,
   "metadata": {},
   "outputs": [
    {
     "name": "stdout",
     "output_type": "stream",
     "text": [
      "+-------+-----------------+\n",
      "|summary|           amount|\n",
      "+-------+-----------------+\n",
      "|  count|            17404|\n",
      "|   mean|236.4410480349345|\n",
      "| stddev|123.9265367191604|\n",
      "|    min|             20.0|\n",
      "|    max|            360.0|\n",
      "+-------+-----------------+\n",
      "\n"
     ]
    }
   ],
   "source": [
    "d.describe( 'amount' ).show()"
   ]
  },
  {
   "cell_type": "markdown",
   "metadata": {},
   "source": [
    "\"term\" : term of a loan (in days)"
   ]
  },
  {
   "cell_type": "code",
   "execution_count": 12,
   "metadata": {},
   "outputs": [
    {
     "name": "stdout",
     "output_type": "stream",
     "text": [
      "+-------+------------------+\n",
      "|summary|              term|\n",
      "+-------+------------------+\n",
      "|  count|             17404|\n",
      "|   mean|23.023385428637095|\n",
      "| stddev| 7.937400466031997|\n",
      "|    min|                 5|\n",
      "|    max|                30|\n",
      "+-------+------------------+\n",
      "\n"
     ]
    }
   ],
   "source": [
    "d.describe( 'term' ).show()"
   ]
  },
  {
   "cell_type": "markdown",
   "metadata": {},
   "source": [
    "expected interest (given that the rate is 0.2% per day):"
   ]
  },
  {
   "cell_type": "code",
   "execution_count": 13,
   "metadata": {},
   "outputs": [],
   "source": [
    "d = d.withColumn( 'interest', d.amount * 0.002 * d.term )"
   ]
  },
  {
   "cell_type": "markdown",
   "metadata": {},
   "source": [
    "Additional versions of \"amount\" and \"term\" are created, which will be preprocessed and participate in variable selection:"
   ]
  },
  {
   "cell_type": "code",
   "execution_count": 14,
   "metadata": {},
   "outputs": [],
   "source": [
    "d = d.withColumn( 'amount_prep', d.amount )\n",
    "d = d.withColumn( 'term_prep', d.term )"
   ]
  },
  {
   "cell_type": "markdown",
   "metadata": {},
   "source": [
    "#### Transformations of Some Variables"
   ]
  },
  {
   "cell_type": "markdown",
   "metadata": {},
   "source": [
    "Some numeric application fields should be converted to categorical as they do not imply a natural order:"
   ]
  },
  {
   "cell_type": "code",
   "execution_count": 15,
   "metadata": {},
   "outputs": [],
   "source": [
    "for name in [ 'cl_marital_status_id', 'cl_employment_type_id', 'cl_employment_area_id' ] :\n",
    "    d = d.withColumn( name, f.col( name ).cast( 'string' ) )"
   ]
  },
  {
   "cell_type": "markdown",
   "metadata": {},
   "source": [
    "\"ip_country_code\":"
   ]
  },
  {
   "cell_type": "code",
   "execution_count": 16,
   "metadata": {},
   "outputs": [
    {
     "name": "stdout",
     "output_type": "stream",
     "text": [
      "+---------------+-----+\n",
      "|ip_country_code|count|\n",
      "+---------------+-----+\n",
      "|             LT|    3|\n",
      "|             FI|    1|\n",
      "|             UA|    1|\n",
      "|             NL|    3|\n",
      "|             RU|17367|\n",
      "|             HK|    1|\n",
      "|             ID|    1|\n",
      "|             GB|    2|\n",
      "|             KZ|    2|\n",
      "|             BY|    1|\n",
      "|             MD|    1|\n",
      "|             DE|    6|\n",
      "|             ES|    2|\n",
      "|             IL|    1|\n",
      "|             US|    4|\n",
      "|              -|    1|\n",
      "|             IT|    1|\n",
      "|             SE|    4|\n",
      "|             JP|    1|\n",
      "|             IE|    1|\n",
      "+---------------+-----+\n",
      "\n"
     ]
    }
   ],
   "source": [
    "d.groupBy( 'ip_country_code' ).count().show()"
   ]
  },
  {
   "cell_type": "code",
   "execution_count": 17,
   "metadata": {},
   "outputs": [],
   "source": [
    "d = d.withColumn( 'ip_country_code', f.when( d.ip_country_code == 'RU', 0 ).otherwise( 1 ) )"
   ]
  },
  {
   "cell_type": "markdown",
   "metadata": {},
   "source": [
    "Province:"
   ]
  },
  {
   "cell_type": "code",
   "execution_count": 18,
   "metadata": {},
   "outputs": [],
   "source": [
    "d = d.withColumn( 'province_mismatch', \n",
    "                f.when( ( d.region_app != d.ip_region_name ) & d.region_app.isNotNull() & d.ip_region_name.isNotNull(), \n",
    "                1 ).otherwise( 0 ) )"
   ]
  },
  {
   "cell_type": "markdown",
   "metadata": {},
   "source": [
    "Zip code:"
   ]
  },
  {
   "cell_type": "code",
   "execution_count": 19,
   "metadata": {},
   "outputs": [],
   "source": [
    "d = d.withColumn( 'zip', f.substring( d.zip, 0, 3 ) )\n",
    "d = d.withColumn( 'ip_zip_code', f.substring( d.ip_zip_code, 0, 3 ) )"
   ]
  },
  {
   "cell_type": "code",
   "execution_count": 20,
   "metadata": {},
   "outputs": [],
   "source": [
    "d = d.withColumn( 'zip_mismatch', \n",
    "        f.when( ( d.zip != d.ip_zip_code ) & d.zip.isNotNull() & d.ip_zip_code.isNotNull(), 1 ).otherwise( 0 ) )"
   ]
  },
  {
   "cell_type": "code",
   "execution_count": 21,
   "metadata": {},
   "outputs": [],
   "source": [
    "d.createOrReplaceTempView( 'd' )"
   ]
  },
  {
   "cell_type": "markdown",
   "metadata": {},
   "source": [
    "\"ip_mobile_brand\":"
   ]
  },
  {
   "cell_type": "code",
   "execution_count": 22,
   "metadata": {},
   "outputs": [
    {
     "name": "stdout",
     "output_type": "stream",
     "text": [
      "+---------------+--------+--------------------+\n",
      "|ip_mobile_brand|count(1)|          avg(label)|\n",
      "+---------------+--------+--------------------+\n",
      "|              -|    6414| 0.03445587776738385|\n",
      "|            MTS|    3323| 0.07132109539572676|\n",
      "|        MegaFon|    2574| 0.05710955710955711|\n",
      "|          Tele2|    2310| 0.04632034632034632|\n",
      "|        Beeline|    2109| 0.03319108582266477|\n",
      "|     Win Mobile|     442|0.042986425339366516|\n",
      "|            TTK|     132|0.022727272727272728|\n",
      "|          MOTIV|      75| 0.02666666666666667|\n",
      "|        Vainakh|      11|                 0.0|\n",
      "|     Tambov GSM|       5|                 0.0|\n",
      "|           Utel|       2|                 0.0|\n",
      "|            ONO|       1|                 0.0|\n",
      "|          Kcell|       1|                 0.0|\n",
      "|           Wind|       1|                 0.0|\n",
      "|  Golan Telecom|       1|                 0.0|\n",
      "|   Volna mobile|       1|                 0.0|\n",
      "|       Vodafone|       1|                 1.0|\n",
      "|      Telkomsel|       1|                 1.0|\n",
      "+---------------+--------+--------------------+\n",
      "\n"
     ]
    }
   ],
   "source": [
    "q = \"\\\n",
    "SELECT ip_mobile_brand, COUNT( * ), AVG( label ) \\\n",
    "FROM d \\\n",
    "GROUP BY 1 \\\n",
    "ORDER BY 2 DESC \"\n",
    "sc.sql( q ).show()"
   ]
  },
  {
   "cell_type": "markdown",
   "metadata": {},
   "source": [
    "Rare \"ip_mobile_brand\" are omitted in order not to introduce extra categories:"
   ]
  },
  {
   "cell_type": "code",
   "execution_count": 23,
   "metadata": {},
   "outputs": [],
   "source": [
    "d = d.withColumn( 'ip_mobile_brand', f.when( d.ip_mobile_brand.isin([ 'MTS', 'MegaFon', 'Tele2', 'Win Mobile', \n",
    "                        '-', 'Beeline', 'MOTIV', 'TTK' ]), d.ip_mobile_brand ) )"
   ]
  },
  {
   "cell_type": "markdown",
   "metadata": {},
   "source": [
    "\"ip_usage_type\":"
   ]
  },
  {
   "cell_type": "code",
   "execution_count": 24,
   "metadata": {},
   "outputs": [
    {
     "name": "stdout",
     "output_type": "stream",
     "text": [
      "+-------------+--------+--------------------+\n",
      "|ip_usage_type|count(1)|          avg(label)|\n",
      "+-------------+--------+--------------------+\n",
      "|          MOB|    6433| 0.05596144877972952|\n",
      "|          ISP|    5593|0.030931521544788128|\n",
      "|      ISP/MOB|    4261|0.048814832199014314|\n",
      "|          DCH|     687| 0.08442503639010189|\n",
      "|          COM|     405|0.022222222222222223|\n",
      "|          EDU|      10|                 0.0|\n",
      "|          ORG|       7|                 0.0|\n",
      "|          CDN|       3|                 0.0|\n",
      "|          GOV|       3|                 0.0|\n",
      "|          RSV|       1|                 0.0|\n",
      "|          MIL|       1|                 0.0|\n",
      "+-------------+--------+--------------------+\n",
      "\n"
     ]
    }
   ],
   "source": [
    "q = \"\\\n",
    "SELECT ip_usage_type, COUNT( * ), AVG( label ) \\\n",
    "FROM d \\\n",
    "GROUP BY 1 \\\n",
    "ORDER BY 2 DESC \"\n",
    "sc.sql( q ).show()"
   ]
  },
  {
   "cell_type": "markdown",
   "metadata": {},
   "source": [
    "Rare \"ip_usage_type\" are omitted in order not to introduce extra categories:"
   ]
  },
  {
   "cell_type": "code",
   "execution_count": 25,
   "metadata": {},
   "outputs": [],
   "source": [
    "d = d.withColumn( 'ip_usage_type', f.when( d.ip_usage_type.isin([ 'DCH', 'MOB', 'ISP/MOB', 'ISP', 'COM' ]),\n",
    "                                           d.ip_usage_type ) )"
   ]
  },
  {
   "cell_type": "markdown",
   "metadata": {},
   "source": [
    "\"ip_net_speed\":"
   ]
  },
  {
   "cell_type": "code",
   "execution_count": 26,
   "metadata": {},
   "outputs": [
    {
     "name": "stdout",
     "output_type": "stream",
     "text": [
      "+------------+--------+-------------------+\n",
      "|ip_net_speed|count(1)|         avg(label)|\n",
      "+------------+--------+-------------------+\n",
      "|         DSL|   16597|0.04518888955835392|\n",
      "|          T1|     716|0.08100558659217877|\n",
      "|        COMP|      65|                0.0|\n",
      "|        DIAL|      25|                0.0|\n",
      "|           -|       1|                0.0|\n",
      "+------------+--------+-------------------+\n",
      "\n"
     ]
    }
   ],
   "source": [
    "q = \"\\\n",
    "SELECT ip_net_speed, COUNT( * ), AVG( label ) \\\n",
    "FROM d \\\n",
    "GROUP BY 1 \\\n",
    "ORDER BY 2 DESC \"\n",
    "sc.sql( q ).show()"
   ]
  },
  {
   "cell_type": "markdown",
   "metadata": {},
   "source": [
    "\"-\" in \"ip_net_speed\" is omitted in order not to introduce an extra category:"
   ]
  },
  {
   "cell_type": "code",
   "execution_count": 27,
   "metadata": {},
   "outputs": [],
   "source": [
    "d = d.withColumn( 'ip_net_speed', f.when( d.ip_net_speed.isin([ 'T1', 'DSL', 'COMP', 'DIAL' ]), d.ip_net_speed ) )"
   ]
  },
  {
   "cell_type": "markdown",
   "metadata": {},
   "source": [
    "\"device_type\":"
   ]
  },
  {
   "cell_type": "code",
   "execution_count": 28,
   "metadata": {},
   "outputs": [
    {
     "name": "stdout",
     "output_type": "stream",
     "text": [
      "+------------+--------+-------------------+\n",
      "| device_type|count(1)|         avg(label)|\n",
      "+------------+--------+-------------------+\n",
      "|Mobile Phone|   14442| 0.0437612519041684|\n",
      "|     Desktop|    2721|0.05990444689452407|\n",
      "|      Tablet|     142|0.06338028169014084|\n",
      "|        null|      98|0.04081632653061224|\n",
      "| Set Top Box|       1|                0.0|\n",
      "+------------+--------+-------------------+\n",
      "\n"
     ]
    }
   ],
   "source": [
    "q = \"\\\n",
    "SELECT device_type, COUNT( * ), AVG( label ) \\\n",
    "FROM d \\\n",
    "GROUP BY 1 \\\n",
    "ORDER BY 2 DESC \"\n",
    "sc.sql( q ).show()"
   ]
  },
  {
   "cell_type": "markdown",
   "metadata": {},
   "source": [
    "A special variable for tablets is created:"
   ]
  },
  {
   "cell_type": "code",
   "execution_count": 29,
   "metadata": {},
   "outputs": [],
   "source": [
    "d = d.withColumn( 'tablet', f.when( d.device_type == 'Tablet', 1 ).otherwise( 0 ) )"
   ]
  },
  {
   "cell_type": "markdown",
   "metadata": {},
   "source": [
    "Local time:"
   ]
  },
  {
   "cell_type": "code",
   "execution_count": 30,
   "metadata": {},
   "outputs": [],
   "source": [
    "d = d.withColumn( 'local_time', f.from_utc_timestamp( d.date, d.ip_timezone_name ) )\n",
    "d = d.withColumn( 'local_time', f.hour( d.local_time ) + f.minute( d.local_time ) / 60 )"
   ]
  },
  {
   "cell_type": "code",
   "execution_count": 31,
   "metadata": {},
   "outputs": [],
   "source": [
    "d = d.withColumn( 'pixel_mismatch', \n",
    "      f.when( ( d.ip_timezone != d.pixel_timezone ) & d.ip_timezone.isNotNull() & d.pixel_timezone.isNotNull(), 1 ).\\\n",
    "        otherwise( 0 ) )"
   ]
  },
  {
   "cell_type": "markdown",
   "metadata": {},
   "source": [
    "Time is encoded as two variables with trigonometric functions:"
   ]
  },
  {
   "cell_type": "code",
   "execution_count": 32,
   "metadata": {},
   "outputs": [],
   "source": [
    "d = d.withColumn( 'time_radian', d.local_time / 3.819718634205488 )\n",
    "d = d.withColumn( 'time_sine', f.sin( d.time_radian ) )\n",
    "d = d.withColumn( 'time_cosine', f.cos( d.time_radian ) )"
   ]
  },
  {
   "cell_type": "markdown",
   "metadata": {},
   "source": [
    "Language:"
   ]
  },
  {
   "cell_type": "code",
   "execution_count": 33,
   "metadata": {},
   "outputs": [
    {
     "name": "stdout",
     "output_type": "stream",
     "text": [
      "+---------------+--------+--------------------+\n",
      "|device_language|count(1)|          avg(label)|\n",
      "+---------------+--------+--------------------+\n",
      "|           null|   16804|0.046000952154248986|\n",
      "|          ru-ru|     429| 0.03263403263403263|\n",
      "|          en-us|     133| 0.11278195488721804|\n",
      "|          zh-cn|      33| 0.06060606060606061|\n",
      "|          en-nz|       2|                 1.0|\n",
      "|           sm-g|       1|                 1.0|\n",
      "|           x-eu|       1|                 0.0|\n",
      "|          en-mt|       1|                 1.0|\n",
      "+---------------+--------+--------------------+\n",
      "\n"
     ]
    }
   ],
   "source": [
    "q = \"\\\n",
    "SELECT device_language, COUNT( * ), AVG( label ) \\\n",
    "FROM d \\\n",
    "GROUP BY 1 \\\n",
    "ORDER BY 2 DESC \"\n",
    "sc.sql( q ).show()"
   ]
  },
  {
   "cell_type": "code",
   "execution_count": 34,
   "metadata": {},
   "outputs": [],
   "source": [
    "d = d.withColumn( 'ru_lang', f.when( d.device_language == 'ru-ru', 1 ).otherwise( 0 ) )\n",
    "d = d.withColumn( 'other_lang', f.when( d.device_language != 'ru-ru', 1 ).otherwise( 0 ) )"
   ]
  },
  {
   "cell_type": "markdown",
   "metadata": {},
   "source": [
    "\"pixel_language\":"
   ]
  },
  {
   "cell_type": "code",
   "execution_count": 35,
   "metadata": {},
   "outputs": [
    {
     "name": "stdout",
     "output_type": "stream",
     "text": [
      "+--------------+--------+-------------------+\n",
      "|pixel_language|count(1)|         avg(label)|\n",
      "+--------------+--------+-------------------+\n",
      "|         ru-RU|   13733|0.04412728464283114|\n",
      "|            ru|    3398|0.03001765744555621|\n",
      "|         en-US|     157|0.46496815286624205|\n",
      "|         ru-ru|      36|                0.0|\n",
      "|         ru-Ru|      26| 0.9230769230769231|\n",
      "|         ru-BY|      12|                0.0|\n",
      "|         en-GB|       9|                0.0|\n",
      "|          null|       5|                0.0|\n",
      "|            uk|       5|                0.4|\n",
      "|         de-DE|       3|                0.0|\n",
      "|         ru-AI|       2|                0.0|\n",
      "|         en-AU|       2|                0.0|\n",
      "|            en|       2|                0.0|\n",
      "|         ru-KZ|       2|                0.0|\n",
      "|         ja-JP|       1|                0.0|\n",
      "|         bm-ML|       1|                0.0|\n",
      "|         ru-GB|       1|                0.0|\n",
      "|         uk-UA|       1|                0.0|\n",
      "|         mk-MK|       1|                1.0|\n",
      "|            es|       1|                0.0|\n",
      "+--------------+--------+-------------------+\n",
      "only showing top 20 rows\n",
      "\n"
     ]
    }
   ],
   "source": [
    "q = \"\\\n",
    "SELECT pixel_language, COUNT( * ), AVG( label ) \\\n",
    "FROM d \\\n",
    "GROUP BY 1 \\\n",
    "ORDER BY 2 DESC \"\n",
    "sc.sql( q ).show()"
   ]
  },
  {
   "cell_type": "markdown",
   "metadata": {},
   "source": [
    "Rare \"pixel_language\" are omitted in order not to produce extra categories:"
   ]
  },
  {
   "cell_type": "code",
   "execution_count": 36,
   "metadata": {},
   "outputs": [],
   "source": [
    "d = d.withColumn( 'pixel_language', f.when( d.pixel_language.isin([ 'ru-RU', 'ru', 'en-US', 'ru_ru', 'ru-Ru' ]), \n",
    "                                            d.pixel_language ) )"
   ]
  },
  {
   "cell_type": "markdown",
   "metadata": {},
   "source": [
    "\"device_year_release\" is replaced by age of the device:"
   ]
  },
  {
   "cell_type": "code",
   "execution_count": 37,
   "metadata": {},
   "outputs": [],
   "source": [
    "d = d.withColumn( 'device_age', f.year( d.date ) - d.device_year_release )"
   ]
  },
  {
   "cell_type": "markdown",
   "metadata": {},
   "source": [
    "\"os_name\":"
   ]
  },
  {
   "cell_type": "code",
   "execution_count": 38,
   "metadata": {},
   "outputs": [
    {
     "name": "stdout",
     "output_type": "stream",
     "text": [
      "+--------------+--------+--------------------+\n",
      "|       os_name|count(1)|          avg(label)|\n",
      "+--------------+--------+--------------------+\n",
      "|       Android|   10458|  0.0526869382291069|\n",
      "|           iOS|    3654|0.016967706622879036|\n",
      "|    Windows 10|    1193|0.026823134953897737|\n",
      "|     Windows 7|    1049|0.032411820781696854|\n",
      "|         Linux|     594| 0.06734006734006734|\n",
      "|   Windows 8.1|     261|  0.2950191570881226|\n",
      "|          OS X|      84|0.047619047619047616|\n",
      "|    Windows XP|      48|                 0.0|\n",
      "|     Windows 8|      47|  0.1702127659574468|\n",
      "|Linux - Ubuntu|       8|                 0.0|\n",
      "| Windows Phone|       5|                 0.0|\n",
      "| Windows Vista|       2|                 0.0|\n",
      "|          null|       1|                 0.0|\n",
      "+--------------+--------+--------------------+\n",
      "\n"
     ]
    }
   ],
   "source": [
    "q = \"\\\n",
    "SELECT os_name, COUNT( * ), AVG( label ) \\\n",
    "FROM d \\\n",
    "GROUP BY 1 \\\n",
    "ORDER BY 2 DESC \"\n",
    "sc.sql( q ).show()"
   ]
  },
  {
   "cell_type": "markdown",
   "metadata": {},
   "source": [
    "Rare \"os_name\" are omitted in order not to produce extra categories:"
   ]
  },
  {
   "cell_type": "code",
   "execution_count": 39,
   "metadata": {},
   "outputs": [],
   "source": [
    "d = d.withColumn( 'os_name', f.when( d.os_name.isin([ 'Android', 'iOS', 'Windows 10', 'Windows 7', 'Linux', \n",
    "                                                      'Windows 8.1', 'OS X', 'Windows XP', 'Windows 8' ]), d.os_name ) )"
   ]
  },
  {
   "cell_type": "markdown",
   "metadata": {},
   "source": [
    "\"browser_name\":"
   ]
  },
  {
   "cell_type": "code",
   "execution_count": 40,
   "metadata": {},
   "outputs": [
    {
     "name": "stdout",
     "output_type": "stream",
     "text": [
      "+---------------+--------+--------------------+\n",
      "|   browser_name|count(1)|          avg(label)|\n",
      "+---------------+--------+--------------------+\n",
      "|  Chrome Mobile|    7798| 0.04488330341113106|\n",
      "|         Safari|    3216|0.018034825870646767|\n",
      "| Yandex.Browser|    2899|0.040013797861331496|\n",
      "|         Chrome|    1311| 0.10068649885583524|\n",
      "|Samsung Browser|     904|0.023230088495575223|\n",
      "|   MIUI Browser|     420|0.023809523809523808|\n",
      "|          Opera|     248|0.020161290322580645|\n",
      "|        Firefox|     201| 0.05472636815920398|\n",
      "|   Opera Mobile|     165|  0.4121212121212121|\n",
      "|     UC Browser|     124| 0.12096774193548387|\n",
      "|           Edge|      81|  0.1111111111111111|\n",
      "|    Opera Touch|      11|  0.5454545454545454|\n",
      "|           null|       7|                 0.0|\n",
      "|         Puffin|       5|                 0.2|\n",
      "|        Vivaldi|       4|                 1.0|\n",
      "|Android Browser|       3|                 0.0|\n",
      "|    AOL Browser|       3|                 0.0|\n",
      "|           Cake|       2|                 1.0|\n",
      "|           Iron|       1|                 0.0|\n",
      "|       Chromium|       1|                 0.0|\n",
      "+---------------+--------+--------------------+\n",
      "\n"
     ]
    }
   ],
   "source": [
    "q = \"\\\n",
    "SELECT browser_name, COUNT( * ), AVG( label ) \\\n",
    "FROM d \\\n",
    "GROUP BY 1 \\\n",
    "ORDER BY 2 DESC \"\n",
    "sc.sql( q ).show()"
   ]
  },
  {
   "cell_type": "markdown",
   "metadata": {},
   "source": [
    "Rare \"browser_name\" are omitted in order not to produce extra categories:"
   ]
  },
  {
   "cell_type": "code",
   "execution_count": 41,
   "metadata": {},
   "outputs": [],
   "source": [
    "d = d.withColumn( 'browser_name', f.when( d.browser_name.isin([ 'Chrome Mobile', 'Safari', 'Yandex.Browser',\n",
    "    'Chrome', 'Samsung Browser', 'MIUI Browser', 'Opera', 'Firefox', \n",
    "    'Opera Mobile', 'UC Browser', 'Edge' ]), d.browser_name ) )"
   ]
  },
  {
   "cell_type": "markdown",
   "metadata": {},
   "source": [
    "\"rendering_engine\":"
   ]
  },
  {
   "cell_type": "code",
   "execution_count": 42,
   "metadata": {},
   "outputs": [
    {
     "name": "stdout",
     "output_type": "stream",
     "text": [
      "+----------------+--------+--------------------+\n",
      "|rendering_engine|count(1)|          avg(label)|\n",
      "+----------------+--------+--------------------+\n",
      "|          WebKit|   15716|0.043522524815474674|\n",
      "|           Blink|    1282|  0.0748829953198128|\n",
      "|           Gecko|     199| 0.05527638190954774|\n",
      "|           UCWeb|     124| 0.12096774193548387|\n",
      "|        EdgeHTML|      73|  0.0273972602739726|\n",
      "|            null|       7|                 0.0|\n",
      "|         Trident|       3|                 0.0|\n",
      "+----------------+--------+--------------------+\n",
      "\n"
     ]
    }
   ],
   "source": [
    "q = \"\\\n",
    "SELECT rendering_engine, COUNT( * ), AVG( label ) \\\n",
    "FROM d \\\n",
    "GROUP BY 1 \\\n",
    "ORDER BY 2 DESC \"\n",
    "sc.sql( q ).show()"
   ]
  },
  {
   "cell_type": "markdown",
   "metadata": {},
   "source": [
    "\"Trident\" in \"rendering_engine\" is omitted in order not to introduce an extra category:"
   ]
  },
  {
   "cell_type": "code",
   "execution_count": 43,
   "metadata": {},
   "outputs": [],
   "source": [
    "d = d.withColumn( 'rendering_engine', f.when( d.rendering_engine.isin([ 'WebKit', 'Blink', 'Gecko', 'UCWeb', \n",
    "                                                                        'EdgeHTML' ]), d.rendering_engine ) )"
   ]
  },
  {
   "cell_type": "markdown",
   "metadata": {},
   "source": [
    "Variables with no or duplicate information are removed to save memory:"
   ]
  },
  {
   "cell_type": "code",
   "execution_count": 44,
   "metadata": {},
   "outputs": [],
   "source": [
    "d = d.drop( to_delete_list_as_string )"
   ]
  },
  {
   "cell_type": "markdown",
   "metadata": {},
   "source": [
    "#### Treatment of Extreme Values"
   ]
  },
  {
   "cell_type": "markdown",
   "metadata": {},
   "source": [
    "Essence and ranges of all the variables are examined:"
   ]
  },
  {
   "cell_type": "code",
   "execution_count": 45,
   "metadata": {},
   "outputs": [],
   "source": [
    "for name in d.columns :\n",
    "    d.select( name ).agg( f.countDistinct( f.col( name ) ), f.min( f.col( name ) ), f.max( f.col( name ) ) ).show()"
   ]
  },
  {
   "cell_type": "markdown",
   "metadata": {},
   "source": [
    "List of numeric variables:"
   ]
  },
  {
   "cell_type": "code",
   "execution_count": 46,
   "metadata": {},
   "outputs": [],
   "source": [
    "numeric = [ ... ]"
   ]
  },
  {
   "cell_type": "markdown",
   "metadata": {},
   "source": [
    "An example of a variable before extreme values treatment:"
   ]
  },
  {
   "cell_type": "code",
   "execution_count": 47,
   "metadata": {},
   "outputs": [
    {
     "name": "stdout",
     "output_type": "stream",
     "text": [
      "+-------+------------------+\n",
      "|summary|        device_age|\n",
      "+-------+------------------+\n",
      "|  count|             14168|\n",
      "|   mean|2.7160502540937324|\n",
      "| stddev|2.3432231187082415|\n",
      "|    min|               0.0|\n",
      "|    max|              13.0|\n",
      "+-------+------------------+\n",
      "\n"
     ]
    }
   ],
   "source": [
    "d.describe( 'device_age' ).show()"
   ]
  },
  {
   "cell_type": "markdown",
   "metadata": {},
   "source": [
    "Extreme values of those variables are winsorized (limited at a particular threshold). This is done with the following algorithm:"
   ]
  },
  {
   "cell_type": "code",
   "execution_count": null,
   "metadata": {},
   "outputs": [],
   "source": [
    "for name in numeric :\n",
    "    # Calculates the main percentiles\n",
    "    q1, q2, q3 = d.approxQuantile( name, [ 0.25, 0.5, 0.75 ], 0.001 )\n",
    "    # Checks if the distribution is not very dense\n",
    "    if ( q2 - q1 ) != 0 and ( q3 - q2 ) != 0 :\n",
    "        # Checks if the distribution is non-symmetrical\n",
    "        skewed = ( q3 - q2 ) / ( q2 - q1 ) >= 1.25 or ( q2 - q1 ) / ( q3 - q2 ) >= 1.25\n",
    "    else:\n",
    "        skewed = True\n",
    "    # Threshold values for a skewed distribution\n",
    "    if skewed and d.agg( f.min( f.col( name ) ) ).collect()[ 0 ][ 0 ] >= 0 : \n",
    "        lower = 0\n",
    "        if q3 > 0 :\n",
    "            upper = q3 * 2   \n",
    "        else :\n",
    "            upper = 1\n",
    "    # Threshold values for a symmetrical distribution\n",
    "    else :\n",
    "        iqr = q3 - q1\n",
    "        if iqr > 0 :\n",
    "            lower = q1 - 1.5 * iqr\n",
    "            upper = q3 + 1.5 * iqr\n",
    "        else :\n",
    "            lower = q1 - 1\n",
    "            upper = q3 + 1\n",
    "    # Prints the threshold values\n",
    "    print( ( name, lower, upper ) )\n",
    "    # Replaces extreme values with the threshold values\n",
    "    d = d.withColumn( name, f.when( f.col( name ) < lower, lower ).when( f.col( name ) > upper, upper ).\\\n",
    "                              otherwise( f.col( name ) ) )"
   ]
  },
  {
   "cell_type": "markdown",
   "metadata": {},
   "source": [
    "An example of a variable after extreme values treatment:"
   ]
  },
  {
   "cell_type": "code",
   "execution_count": 49,
   "metadata": {},
   "outputs": [
    {
     "name": "stdout",
     "output_type": "stream",
     "text": [
      "+-------+------------------+\n",
      "|summary|        device_age|\n",
      "+-------+------------------+\n",
      "|  count|             14168|\n",
      "|   mean|2.6253529079616036|\n",
      "| stddev|2.0780522634268457|\n",
      "|    min|               0.0|\n",
      "|    max|               8.0|\n",
      "+-------+------------------+\n",
      "\n"
     ]
    }
   ],
   "source": [
    "d.describe( 'device_age' ).show()"
   ]
  },
  {
   "cell_type": "markdown",
   "metadata": {},
   "source": [
    "Some of the variables degenerated into binary after the treatment of extreme values, so the lists should be updated:"
   ]
  },
  {
   "cell_type": "code",
   "execution_count": 50,
   "metadata": {},
   "outputs": [],
   "source": [
    "degenerated = [ ... ]\n",
    "numeric = [ x for x in numeric if x not in degenerated ]"
   ]
  },
  {
   "cell_type": "markdown",
   "metadata": {},
   "source": [
    "#### Train / Test Split"
   ]
  },
  {
   "cell_type": "markdown",
   "metadata": {},
   "source": [
    "With big data it is usually non-affordable to do cross validation, so here a single test set is used. The train set is made of 80% of the data, and 20% is left out for the test set.<br>\n",
    "The split is done chronologically, so the test set includes the most recent data, but proportion of the classes (frequency of the positive class) is kept the same in the train and test sets."
   ]
  },
  {
   "cell_type": "code",
   "execution_count": 51,
   "metadata": {},
   "outputs": [],
   "source": [
    "border_positive = d.filter( 'label == 1' ).select( 'id' ).approxQuantile( 'id', [ 0.8 ], 0.001 )[ 0 ]\n",
    "border_negative = d.filter( 'label == 0' ).select( 'id' ).approxQuantile( 'id', [ 0.8 ], 0.001 )[ 0 ]\n",
    "d = d.withColumn( 'test_positive', f.when( d.id > border_positive, True ).otherwise( False ) )\n",
    "d = d.withColumn( 'test_negative', f.when( d.id > border_negative, True ).otherwise( False ) )\n",
    "d = d.withColumn( 'test', f.when( d.label == 1, d.test_positive ).otherwise( d.test_negative ) )"
   ]
  },
  {
   "cell_type": "markdown",
   "metadata": {},
   "source": [
    "It can be seen that the distributions of the train and test sets are as desired:"
   ]
  },
  {
   "cell_type": "code",
   "execution_count": 52,
   "metadata": {},
   "outputs": [
    {
     "name": "stdout",
     "output_type": "stream",
     "text": [
      "+-----+------------+--------------------+\n",
      "| test|count(label)|          avg(label)|\n",
      "+-----+------------+--------------------+\n",
      "| true|        3460| 0.04653179190751445|\n",
      "|false|       13944|0.046399885255306944|\n",
      "+-----+------------+--------------------+\n",
      "\n"
     ]
    }
   ],
   "source": [
    "d.groupBy( 'test' ).agg( f.count( 'label' ), f.mean( 'label' ) ).show()"
   ]
  },
  {
   "cell_type": "markdown",
   "metadata": {},
   "source": [
    "Intermediate data is removed:"
   ]
  },
  {
   "cell_type": "code",
   "execution_count": 53,
   "metadata": {},
   "outputs": [],
   "source": [
    "d = d.drop( 'test_positive', 'test_negative' )"
   ]
  },
  {
   "cell_type": "markdown",
   "metadata": {},
   "source": [
    "#### Scaling"
   ]
  },
  {
   "cell_type": "markdown",
   "metadata": {},
   "source": [
    "All numeric variables are scaled to the interval [0, 1] with sigmpoid function and standardizing. Estimation of means and standard deviations should be done on the train set only to prevent data leakage."
   ]
  },
  {
   "cell_type": "code",
   "execution_count": 55,
   "metadata": {},
   "outputs": [],
   "source": [
    "for name in numeric :\n",
    "    m = d.filter( 'test = false' ).agg( f.mean( f.col( name ) ) ).collect()[ 0 ][ 0 ]\n",
    "    sd = d.filter( 'test = false' ).agg( f.stddev( f.col( name ) ) ).collect()[ 0 ][ 0 ]\n",
    "    d = d.withColumn( name, ( f.col( name ) - m ) / sd )\n",
    "    d = d.withColumn( name, 1 / ( 1 + f.exp( -f.col( name ) ) ) )"
   ]
  },
  {
   "cell_type": "markdown",
   "metadata": {},
   "source": [
    "An example of a variable after scaling:"
   ]
  },
  {
   "cell_type": "code",
   "execution_count": 56,
   "metadata": {},
   "outputs": [
    {
     "name": "stdout",
     "output_type": "stream",
     "text": [
      "+-------+-------------------+\n",
      "|summary|         device_age|\n",
      "+-------+-------------------+\n",
      "|  count|              14168|\n",
      "|   mean| 0.4997520592134728|\n",
      "| stddev| 0.2034462014737209|\n",
      "|    min|0.23379525708263785|\n",
      "|    max| 0.9302766624808934|\n",
      "+-------+-------------------+\n",
      "\n"
     ]
    }
   ],
   "source": [
    "d.describe( 'device_age' ).show()"
   ]
  },
  {
   "cell_type": "markdown",
   "metadata": {},
   "source": [
    "#### Imputation of Missing Values"
   ]
  },
  {
   "cell_type": "markdown",
   "metadata": {},
   "source": [
    "Missing values in categorical and binary variables become a new category (\"Unknown\"):"
   ]
  },
  {
   "cell_type": "code",
   "execution_count": 57,
   "metadata": {},
   "outputs": [],
   "source": [
    "categorical = [ ... ]\n",
    "for name in categorical :\n",
    "    d = d.withColumn( name, f.when( f.col( name ).isNull(), 'Unknown' ).otherwise( f.col( name ) ) )"
   ]
  },
  {
   "cell_type": "markdown",
   "metadata": {},
   "source": [
    "An example of a variable before imputation:"
   ]
  },
  {
   "cell_type": "code",
   "execution_count": 58,
   "metadata": {},
   "outputs": [
    {
     "name": "stdout",
     "output_type": "stream",
     "text": [
      "+------------------+\n",
      "|        device_age|\n",
      "+------------------+\n",
      "|              null|\n",
      "|0.7639061352767125|\n",
      "|0.7639061352767125|\n",
      "|              null|\n",
      "|0.3285479449966034|\n",
      "+------------------+\n",
      "only showing top 5 rows\n",
      "\n"
     ]
    }
   ],
   "source": [
    "d.select( 'device_age' ).show( 5 )"
   ]
  },
  {
   "cell_type": "markdown",
   "metadata": {},
   "source": [
    "Missing values in numeric variables are filled with 0.5 (as they have already been scaled to the interval [0, 1]). If the portion of missing values is significant (equal or greater than 5%), a new binary variable is produced (indicator of a missing value)."
   ]
  },
  {
   "cell_type": "code",
   "execution_count": 59,
   "metadata": {},
   "outputs": [],
   "source": [
    "for name in numeric :\n",
    "    n = d.select( name ).agg( f.sum( f.when( f.col( name ).isNull(), 1 ).otherwise( 0 ) ) ).collect()[ 0 ][ 0 ]\n",
    "    if n / nrows >= 0.05 and n / nrows <= 0.95 :\n",
    "        d = d.withColumn( name+'_null', f.when( f.col( name ).isNull(), 1 ).otherwise( 0 ) )\n",
    "        d = d.withColumn( name, f.when( f.col( name ).isNull(), 0.5 ).otherwise( f.col( name ) ) )\n",
    "    elif n > 0 :\n",
    "        d = d.withColumn( name, f.when( f.col( name ).isNull(), 0.5 ).otherwise( f.col( name ) ) )"
   ]
  },
  {
   "cell_type": "markdown",
   "metadata": {},
   "source": [
    "An example of a variable after imputation:"
   ]
  },
  {
   "cell_type": "code",
   "execution_count": 60,
   "metadata": {},
   "outputs": [
    {
     "name": "stdout",
     "output_type": "stream",
     "text": [
      "+------------------+---------------+\n",
      "|        device_age|device_age_null|\n",
      "+------------------+---------------+\n",
      "|               0.5|              1|\n",
      "|0.7639061352767125|              0|\n",
      "|0.7639061352767125|              0|\n",
      "|               0.5|              1|\n",
      "|0.3285479449966034|              0|\n",
      "+------------------+---------------+\n",
      "only showing top 5 rows\n",
      "\n"
     ]
    }
   ],
   "source": [
    "d.select( 'device_age', 'device_age_null' ).show( 5 )"
   ]
  },
  {
   "cell_type": "markdown",
   "metadata": {},
   "source": [
    "#### Categorical Variables with Large Number of Categories"
   ]
  },
  {
   "cell_type": "markdown",
   "metadata": {},
   "source": [
    "An example of a variable with large number of categories:"
   ]
  },
  {
   "cell_type": "code",
   "execution_count": 60,
   "metadata": {},
   "outputs": [
    {
     "data": {
      "text/plain": [
       "220"
      ]
     },
     "execution_count": 60,
     "metadata": {},
     "output_type": "execute_result"
    }
   ],
   "source": [
    "d.select( 'zip' ).distinct().count()"
   ]
  },
  {
   "cell_type": "markdown",
   "metadata": {},
   "source": [
    "There are several categorical variables with large number of categories. One-hot encoding of such variables is problematic, however, they often contain precious information. So here target encoding is applied.<br> \n",
    "<br>The estimation must be done on the train set only again. Otherwise, this would be a pure overfit. Besides, a certain number (30) of average data points are added to mitigate the effect of small groups (rare categories)."
   ]
  },
  {
   "cell_type": "code",
   "execution_count": 61,
   "metadata": {},
   "outputs": [],
   "source": [
    "many_categories = [ ... ]\n",
    "share = d.filter( 'test = false' ).agg( f.mean( 'label' ) ).collect()[ 0 ][ 0 ]\n",
    "for name in many_categories :\n",
    "    nameenc = name+'_encoded'\n",
    "    cat = d.filter( 'test = false' ).groupBy( name ).agg( f.sum( 'label' ).alias( 'positive' ), \n",
    "                                                          f.count( 'label' ).alias( 'total' ) )\n",
    "    cat = cat.withColumn( nameenc, ( cat.positive + 30 * share ) / ( cat.total + 30 ) )\n",
    "    cat = cat.withColumnRenamed( name, 'new' )\n",
    "    d = d.join( cat.select( 'new', nameenc ), f.col( name ) == cat.new, how='left' )\n",
    "    d = d.drop( 'new' )\n",
    "    d = d.withColumn( nameenc, f.when( f.col( nameenc ).isNull(), share ).otherwise( f.col( nameenc ) ) )"
   ]
  },
  {
   "cell_type": "markdown",
   "metadata": {},
   "source": [
    "An example of a variable with large number of categories after target encoding:"
   ]
  },
  {
   "cell_type": "code",
   "execution_count": 62,
   "metadata": {},
   "outputs": [
    {
     "name": "stdout",
     "output_type": "stream",
     "text": [
      "+---+--------------------+\n",
      "|zip|         zip_encoded|\n",
      "+---+--------------------+\n",
      "|198| 0.14711947520540383|\n",
      "|662| 0.07361400489174744|\n",
      "|119|  0.1088780207939773|\n",
      "|140|0.012929711122482207|\n",
      "|392| 0.03570144115909266|\n",
      "|628| 0.04693938090022427|\n",
      "|141|0.024805357576037614|\n",
      "|636| 0.05228567330546677|\n",
      "|199| 0.10146026281998743|\n",
      "|184| 0.03083633234235644|\n",
      "+---+--------------------+\n",
      "only showing top 10 rows\n",
      "\n"
     ]
    }
   ],
   "source": [
    "d.select( 'zip', 'zip_encoded' ).show( 10 )"
   ]
  },
  {
   "cell_type": "markdown",
   "metadata": {},
   "source": [
    "   "
   ]
  },
  {
   "cell_type": "markdown",
   "metadata": {},
   "source": [
    "   "
   ]
  },
  {
   "cell_type": "markdown",
   "metadata": {},
   "source": [
    "Dummy (random) features are added in order to be used as a filter later in the variable selection process:"
   ]
  },
  {
   "cell_type": "code",
   "execution_count": 63,
   "metadata": {},
   "outputs": [],
   "source": [
    "d = d.withColumn( 'DUMMY1', f.rand( seed=10000 ) ).\\\n",
    "      withColumn( 'DUMMY2', f.rand( seed=20000 ) ).\\\n",
    "      withColumn( 'DUMMY3', f.rand( seed=30000 ) )"
   ]
  },
  {
   "cell_type": "markdown",
   "metadata": {},
   "source": [
    "#### One-Hot Encoding"
   ]
  },
  {
   "cell_type": "markdown",
   "metadata": {},
   "source": [
    "The variables with large numbers of categories will be replaced by encoded (numeric) versions, so they are not needed as categorical ones:"
   ]
  },
  {
   "cell_type": "code",
   "execution_count": 64,
   "metadata": {},
   "outputs": [],
   "source": [
    "categorical = [ x for x in categorical if x not in many_categories ]"
   ]
  },
  {
   "cell_type": "markdown",
   "metadata": {},
   "source": [
    "At the same time, some new variables are produced during imputation of missing values, target encoding and creation of random variables."
   ]
  },
  {
   "cell_type": "code",
   "execution_count": 65,
   "metadata": {},
   "outputs": [],
   "source": [
    "produced = [ ... ]"
   ]
  },
  {
   "cell_type": "markdown",
   "metadata": {},
   "source": [
    "Indexing is required before one-hot encoding:"
   ]
  },
  {
   "cell_type": "code",
   "execution_count": 66,
   "metadata": {},
   "outputs": [],
   "source": [
    "indexers = [ StringIndexer( stringOrderType='alphabetAsc', inputCol=name, \n",
    "                            outputCol=name+'_ind' ) for name in categorical ]\n",
    "names_index = [ name + '_ind' for name in categorical ]\n",
    "names_one_hot = [ name + '_oh' for name in categorical ]"
   ]
  },
  {
   "cell_type": "markdown",
   "metadata": {},
   "source": [
    "Actual one-hot encoding:"
   ]
  },
  {
   "cell_type": "code",
   "execution_count": 67,
   "metadata": {},
   "outputs": [],
   "source": [
    "encoder = OneHotEncoderEstimator( inputCols=names_index, outputCols=names_one_hot, dropLast=False )"
   ]
  },
  {
   "cell_type": "markdown",
   "metadata": {},
   "source": [
    "The steps are combined in a pipeline, and the variables are assembled into a feature vector:"
   ]
  },
  {
   "cell_type": "code",
   "execution_count": 68,
   "metadata": {},
   "outputs": [],
   "source": [
    "vectorizer = VectorAssembler( inputCols=numeric+produced+names_one_hot, outputCol='features' )\n",
    "pipe = Pipeline( stages=indexers+[ encoder, vectorizer ] )\n",
    "oh = pipe.fit( d ).transform( d ).select( 'label', 'test', 'features' )"
   ]
  },
  {
   "cell_type": "markdown",
   "metadata": {},
   "source": [
    "Meaningful variable names are obtained and stored in lists:"
   ]
  },
  {
   "cell_type": "code",
   "execution_count": 71,
   "metadata": {},
   "outputs": [],
   "source": [
    "categorical_names = []\n",
    "for name in categorical :\n",
    "    for i in range( d.select( name ).distinct().count() ) :\n",
    "        categorical_names.append( name+str( i ) )"
   ]
  },
  {
   "cell_type": "code",
   "execution_count": 72,
   "metadata": {},
   "outputs": [],
   "source": [
    "variable_names = numeric+produced+categorical_names"
   ]
  },
  {
   "cell_type": "markdown",
   "metadata": {},
   "source": [
    "#### Balancing Classes"
   ]
  },
  {
   "cell_type": "markdown",
   "metadata": {},
   "source": [
    "Spark's machine learning library currently does not have built-in support for weights of classes, so balancing should be done manually in advance."
   ]
  },
  {
   "cell_type": "code",
   "execution_count": 73,
   "metadata": {},
   "outputs": [
    {
     "name": "stdout",
     "output_type": "stream",
     "text": [
      "21\n"
     ]
    }
   ],
   "source": [
    "balance = round( ( 1 - share ) / share )\n",
    "print( balance )"
   ]
  },
  {
   "cell_type": "markdown",
   "metadata": {},
   "source": [
    "This means that the negative class is 21 times more frequent than the positive class."
   ]
  },
  {
   "cell_type": "markdown",
   "metadata": {},
   "source": [
    "In this case oversampling of the minority class is applied:"
   ]
  },
  {
   "cell_type": "code",
   "execution_count": 74,
   "metadata": {},
   "outputs": [
    {
     "data": {
      "text/plain": [
       "16968"
      ]
     },
     "execution_count": 74,
     "metadata": {},
     "output_type": "execute_result"
    }
   ],
   "source": [
    "oversampled_positive = oh.filter( 'label = 1' )\n",
    "for i in range( 1, balance ) :\n",
    "    oversampled_positive = oversampled_positive.union( oh.filter( 'label = 1' ) )\n",
    "oversampled_positive.count()"
   ]
  },
  {
   "cell_type": "code",
   "execution_count": 75,
   "metadata": {},
   "outputs": [
    {
     "name": "stdout",
     "output_type": "stream",
     "text": [
      "+-------+------------------+\n",
      "|summary|             label|\n",
      "+-------+------------------+\n",
      "|   mean|0.5055416517697533|\n",
      "+-------+------------------+\n",
      "\n"
     ]
    }
   ],
   "source": [
    "balanced = oh.filter( 'label = 0' ).union( oversampled_positive )\n",
    "del oversampled_positive\n",
    "balanced.select( 'label' ).summary( 'mean' ).show()"
   ]
  },
  {
   "cell_type": "markdown",
   "metadata": {},
   "source": [
    "It can be observed that the distribution of the classes is almost equal now."
   ]
  },
  {
   "cell_type": "markdown",
   "metadata": {},
   "source": [
    "#### Variable Selection"
   ]
  },
  {
   "cell_type": "markdown",
   "metadata": {},
   "source": [
    "In this project it was decided to use a neural network (multi-layer perceptron) as the modeling technique with preliminary variable selection via decision trees. A number of various trees are built to find an optimal set of variables."
   ]
  },
  {
   "cell_type": "markdown",
   "metadata": {},
   "source": [
    "Summary dataframe for various trees:"
   ]
  },
  {
   "cell_type": "code",
   "execution_count": 76,
   "metadata": {},
   "outputs": [],
   "source": [
    "trials = 300\n",
    "t = pd.DataFrame({ 'leaf' : np.random.randint( 616, 2000, size=trials ),\n",
    "                   'seed' : np.random.randint( 0, 4e9, size=trials ) })\n",
    "t[ 'pr_auc' ] = 0\n",
    "t[ 'nvars' ] = 0\n",
    "t[ 'vars' ] = ''"
   ]
  },
  {
   "cell_type": "markdown",
   "metadata": {},
   "source": [
    "Since the intention is to select a narrow subset of variables (due to complexity and implementation restrictions), we are not much concerned about overfit. So variable selection is performed on the entire data (without train/test split). Criterion for ranking is Area under Precision-Recall curve."
   ]
  },
  {
   "cell_type": "code",
   "execution_count": 77,
   "metadata": {},
   "outputs": [],
   "source": [
    "evaluator = BinaryClassificationEvaluator( metricName='areaUnderPR' )"
   ]
  },
  {
   "cell_type": "code",
   "execution_count": null,
   "metadata": {},
   "outputs": [],
   "source": [
    "for i in t.index :\n",
    "    print( i )\n",
    "    tree = RandomForestClassifier( numTrees=1, maxDepth=10, maxBins=100, subsamplingRate=0.5, \n",
    "        featureSubsetStrategy='onethird', minInstancesPerNode=t.loc[ i, 'leaf' ], seed=t.loc[ i, 'seed' ] )\n",
    "    model = tree.fit( balanced )\n",
    "    t.loc[ i, 'pr_auc' ] = evaluator.evaluate( model.transform( oh ) )\n",
    "    selected = [ variable_names[ j ] for j in model.featureImportances.indices ]\n",
    "    t.loc[ i, 'nvars' ] = len( selected )\n",
    "    t.loc[ i, 'vars' ] = ', '.join( selected )\n",
    "    del( [ tree, model, selected ] )"
   ]
  },
  {
   "cell_type": "markdown",
   "metadata": {},
   "source": [
    "The dummy variables introduced above serve as an additional conservative filter. Trees that contain them are considered compromised (overfitted), and they are excluded from the ranking."
   ]
  },
  {
   "cell_type": "code",
   "execution_count": 79,
   "metadata": {},
   "outputs": [],
   "source": [
    "t = t.loc[ ~t.vars.str.contains( 'DUMMY' ) ]"
   ]
  },
  {
   "cell_type": "markdown",
   "metadata": {},
   "source": [
    "The best candidate trees:"
   ]
  },
  {
   "cell_type": "code",
   "execution_count": null,
   "metadata": {},
   "outputs": [],
   "source": [
    "t.sort_values( by='pr_auc', ascending=False ).head()"
   ]
  },
  {
   "cell_type": "markdown",
   "metadata": {},
   "source": [
    "The tree which describes relationships in the data in the best way (the highest PR AUC) contains only 7 variables. This is very convenient for implementation and interpretation. The names of these variables are stored in the vector \"chosen_variables\"."
   ]
  },
  {
   "cell_type": "markdown",
   "metadata": {},
   "source": [
    "The datasets are reassembled to keep only selected variables:"
   ]
  },
  {
   "cell_type": "code",
   "execution_count": 86,
   "metadata": {},
   "outputs": [],
   "source": [
    "vectorizer = VectorAssembler( inputCols=chosen_variables, outputCol='features' )\n",
    "oh = vectorizer.transform( d ).select( 'id', 'amount', 'interest', 'label', 'test', 'features' )\n",
    "oversampled_positive = oh.filter( 'label = 1' )\n",
    "for i in range( 1, balance ) :\n",
    "    oversampled_positive = oversampled_positive.union( oh.filter( 'label = 1' ) )\n",
    "balanced = oh.filter( 'label = 0' ).union( oversampled_positive )\n",
    "del oversampled_positive"
   ]
  },
  {
   "cell_type": "markdown",
   "metadata": {},
   "source": [
    "#### Search of the Optimal Configuration of Neural Network "
   ]
  },
  {
   "cell_type": "markdown",
   "metadata": {},
   "source": [
    "The general configuration is chosen to be with an input layer, a hidden layer with 4 nodes, another hidden layer with 2 nodes and an output layer. However, number of iterations, step size and weights initialization should be well tuned. "
   ]
  },
  {
   "cell_type": "markdown",
   "metadata": {},
   "source": [
    "Summary dataframe for various neural networks:"
   ]
  },
  {
   "cell_type": "code",
   "execution_count": 80,
   "metadata": {},
   "outputs": [],
   "source": [
    "trials = 100\n",
    "t = pd.DataFrame({ 'maxiter' : np.random.choice( [ 100, 500, 1000, 2000, 3000 ], size=trials, replace=True ),\n",
    "                   'stepsize' : np.random.choice( [ 0.01, 0.02, 0.03, 0.04, 0.05 ], size=trials, replace=True ),\n",
    "                   'seed' : np.random.randint( 0, 4e9, size=trials ) })\n",
    "t[ 'pr_auc' ] = 0"
   ]
  },
  {
   "cell_type": "markdown",
   "metadata": {},
   "source": [
    "Neural networks are fitted on the train set (which is balanced), and then their performnce is checked on the test set. Criterion for ranking is Area under Precision-Recall curve. Test predictions of candidate models are stored in a special dataframe."
   ]
  },
  {
   "cell_type": "code",
   "execution_count": 87,
   "metadata": {},
   "outputs": [],
   "source": [
    "take_prob = f.udf( lambda v : float( v[ 1 ] ), FloatType() )\n",
    "for i in t.index :\n",
    "    print( i )\n",
    "    nnet = MultilayerPerceptronClassifier( layers=[ 7, 4, 2, 2 ], blockSize=1000, solver='l-bfgs', \n",
    "               maxIter=t.loc[ i, 'maxiter' ], stepSize=t.loc[ i, 'stepsize' ],  seed=t.loc[ i, 'seed' ] )\n",
    "    model = nnet.fit( balanced.filter( 'test = false' ) )\n",
    "    predicted = model.transform( oh.filter( 'test = true' ) )\n",
    "    if i == 0 :\n",
    "        p = predicted.withColumn( 'prob_1', take_prob( 'probability' ) ).\\\n",
    "                      withColumnRenamed( 'prob_1', 'i0' ).select( 'id', 'i0' ) \n",
    "    else :\n",
    "        p = predicted.withColumn( 'prob_1', take_prob( 'probability' ) ).\\\n",
    "                      withColumnRenamed( 'prob_1', 'i'+str( i ) ).select( 'id', 'i'+str( i ) ).\\\n",
    "                      join( p, on='id', how='inner' )\n",
    "    t.loc[ i, 'pr_auc' ] = evaluator.evaluate( predicted )\n",
    "    del( [ nnet, model, predicted ] )"
   ]
  },
  {
   "cell_type": "markdown",
   "metadata": {},
   "source": [
    "The best candidate models:"
   ]
  },
  {
   "cell_type": "code",
   "execution_count": 88,
   "metadata": {},
   "outputs": [
    {
     "data": {
      "text/html": [
       "<div>\n",
       "<style scoped>\n",
       "    .dataframe tbody tr th:only-of-type {\n",
       "        vertical-align: middle;\n",
       "    }\n",
       "\n",
       "    .dataframe tbody tr th {\n",
       "        vertical-align: top;\n",
       "    }\n",
       "\n",
       "    .dataframe thead th {\n",
       "        text-align: right;\n",
       "    }\n",
       "</style>\n",
       "<table border=\"1\" class=\"dataframe\">\n",
       "  <thead>\n",
       "    <tr style=\"text-align: right;\">\n",
       "      <th></th>\n",
       "      <th>maxiter</th>\n",
       "      <th>stepsize</th>\n",
       "      <th>seed</th>\n",
       "      <th>pr_auc</th>\n",
       "    </tr>\n",
       "  </thead>\n",
       "  <tbody>\n",
       "    <tr>\n",
       "      <th>48</th>\n",
       "      <td>100</td>\n",
       "      <td>0.01</td>\n",
       "      <td>1507513625</td>\n",
       "      <td>0.197667</td>\n",
       "    </tr>\n",
       "    <tr>\n",
       "      <th>52</th>\n",
       "      <td>100</td>\n",
       "      <td>0.01</td>\n",
       "      <td>2635879973</td>\n",
       "      <td>0.193499</td>\n",
       "    </tr>\n",
       "    <tr>\n",
       "      <th>39</th>\n",
       "      <td>500</td>\n",
       "      <td>0.05</td>\n",
       "      <td>2588517424</td>\n",
       "      <td>0.193212</td>\n",
       "    </tr>\n",
       "    <tr>\n",
       "      <th>19</th>\n",
       "      <td>500</td>\n",
       "      <td>0.02</td>\n",
       "      <td>212179990</td>\n",
       "      <td>0.190021</td>\n",
       "    </tr>\n",
       "    <tr>\n",
       "      <th>13</th>\n",
       "      <td>2000</td>\n",
       "      <td>0.05</td>\n",
       "      <td>2312802038</td>\n",
       "      <td>0.184853</td>\n",
       "    </tr>\n",
       "    <tr>\n",
       "      <th>57</th>\n",
       "      <td>500</td>\n",
       "      <td>0.05</td>\n",
       "      <td>1464034321</td>\n",
       "      <td>0.183909</td>\n",
       "    </tr>\n",
       "    <tr>\n",
       "      <th>99</th>\n",
       "      <td>2000</td>\n",
       "      <td>0.01</td>\n",
       "      <td>437262409</td>\n",
       "      <td>0.182264</td>\n",
       "    </tr>\n",
       "    <tr>\n",
       "      <th>90</th>\n",
       "      <td>500</td>\n",
       "      <td>0.01</td>\n",
       "      <td>3351066232</td>\n",
       "      <td>0.182142</td>\n",
       "    </tr>\n",
       "    <tr>\n",
       "      <th>34</th>\n",
       "      <td>2000</td>\n",
       "      <td>0.05</td>\n",
       "      <td>1663456447</td>\n",
       "      <td>0.178977</td>\n",
       "    </tr>\n",
       "    <tr>\n",
       "      <th>40</th>\n",
       "      <td>1000</td>\n",
       "      <td>0.05</td>\n",
       "      <td>2602205704</td>\n",
       "      <td>0.178673</td>\n",
       "    </tr>\n",
       "  </tbody>\n",
       "</table>\n",
       "</div>"
      ],
      "text/plain": [
       "    maxiter  stepsize        seed    pr_auc\n",
       "48      100      0.01  1507513625  0.197667\n",
       "52      100      0.01  2635879973  0.193499\n",
       "39      500      0.05  2588517424  0.193212\n",
       "19      500      0.02   212179990  0.190021\n",
       "13     2000      0.05  2312802038  0.184853\n",
       "57      500      0.05  1464034321  0.183909\n",
       "99     2000      0.01   437262409  0.182264\n",
       "90      500      0.01  3351066232  0.182142\n",
       "34     2000      0.05  1663456447  0.178977\n",
       "40     1000      0.05  2602205704  0.178673"
      ]
     },
     "execution_count": 88,
     "metadata": {},
     "output_type": "execute_result"
    }
   ],
   "source": [
    "t.sort_values( by='pr_auc', ascending=False ).head( 10 )"
   ]
  },
  {
   "cell_type": "markdown",
   "metadata": {},
   "source": [
    "The best configuration is with maxIter=100, stepSize=0.01 and seed=1507513625. Area under Precision-Recall curve on the test set is 0.198."
   ]
  },
  {
   "cell_type": "markdown",
   "metadata": {},
   "source": [
    "#### Evaluation of Impact of the Model"
   ]
  },
  {
   "cell_type": "markdown",
   "metadata": {},
   "source": [
    "Predictions are joined with the main data:"
   ]
  },
  {
   "cell_type": "code",
   "execution_count": 52,
   "metadata": {},
   "outputs": [],
   "source": [
    "p = p.select( 'id', 'i48' ).join( oh, on='id', how='inner' ).withColumnRenamed( 'i48', 'prob' ).drop( 'test', 'features')\n",
    "p.show( 3 )"
   ]
  },
  {
   "cell_type": "markdown",
   "metadata": {},
   "source": [
    "Let us assume that as a result of correct classification the company earns the sum of interest on legitimate applications (true negative). It loses the whole issued amount if the model fails to detect fraudulent applications (false positive). In case the model rejects an application (true positive or false negative), neither actual profit nor loss is obtained.<br>\n",
    "<br>In reality, the cost function is more complicated. Legitimate customers may still default, and there are other costs (marketing, administrative, etc.). However, here this definition is used for simplification.<br>\n",
    "<br>The cost matrix looks as follows:"
   ]
  },
  {
   "cell_type": "markdown",
   "metadata": {},
   "source": [
    "|  | Predicted Legitimate | Predicted Fraudulent |\n",
    "| :- | :-: | :-: |\n",
    "| <b>Actual Legitimate | interest | 0 |\n",
    "| <b>Actual Fraudulent | -amount | 0 |"
   ]
  },
  {
   "cell_type": "markdown",
   "metadata": {},
   "source": [
    "Then an optimal classification threshold should be found. It should maximize the total profit on the test set."
   ]
  },
  {
   "cell_type": "markdown",
   "metadata": {},
   "source": [
    "Summary dataframe for various thresholds:"
   ]
  },
  {
   "cell_type": "code",
   "execution_count": 54,
   "metadata": {},
   "outputs": [],
   "source": [
    "c = pd.DataFrame({ 'threshold' : np.round( np.arange( 0, 1.01, 0.01 ), 2 ) })\n",
    "c[ 'total_profit' ] = 0"
   ]
  },
  {
   "cell_type": "markdown",
   "metadata": {},
   "source": [
    "The cost function is applied with various thresholds:"
   ]
  },
  {
   "cell_type": "code",
   "execution_count": 55,
   "metadata": {},
   "outputs": [],
   "source": [
    "for i in c.index :\n",
    "    p = p.withColumn( 'profit', f.when( ( p.label == 0 ) & ( p.prob < c.loc[ i, 'threshold' ] ), p.interest ).\\\n",
    "                                  when( ( p.label == 1 ) & ( p.prob < c.loc[ i, 'threshold' ] ), -p.amount ).\\\n",
    "                                  otherwise( 0 ) )\n",
    "    c.loc[ i, 'total_profit' ] = p.agg( f.sum( 'profit' ) ).collect()[ 0 ][ 0 ]\n",
    "    p.drop( 'profit' )"
   ]
  },
  {
   "cell_type": "code",
   "execution_count": 56,
   "metadata": {},
   "outputs": [
    {
     "data": {
      "text/plain": [
       "<matplotlib.axes._subplots.AxesSubplot at 0x7f820fa2d510>"
      ]
     },
     "execution_count": 56,
     "metadata": {},
     "output_type": "execute_result"
    },
    {
     "data": {
      "image/png": "[encoded data removed]",
      "text/plain": [
       "<Figure size 432x288 with 1 Axes>"
      ]
     },
     "metadata": {
      "needs_background": "light"
     },
     "output_type": "display_data"
    }
   ],
   "source": [
    "c.plot( kind='line', x='threshold', y='total_profit', color='red', grid=True )"
   ]
  },
  {
   "cell_type": "code",
   "execution_count": 58,
   "metadata": {},
   "outputs": [
    {
     "data": {
      "text/html": [
       "<div>\n",
       "<style scoped>\n",
       "    .dataframe tbody tr th:only-of-type {\n",
       "        vertical-align: middle;\n",
       "    }\n",
       "\n",
       "    .dataframe tbody tr th {\n",
       "        vertical-align: top;\n",
       "    }\n",
       "\n",
       "    .dataframe thead th {\n",
       "        text-align: right;\n",
       "    }\n",
       "</style>\n",
       "<table border=\"1\" class=\"dataframe\">\n",
       "  <thead>\n",
       "    <tr style=\"text-align: right;\">\n",
       "      <th></th>\n",
       "      <th>threshold</th>\n",
       "      <th>total_profit</th>\n",
       "    </tr>\n",
       "  </thead>\n",
       "  <tbody>\n",
       "    <tr>\n",
       "      <th>30</th>\n",
       "      <td>0.30</td>\n",
       "      <td>2333.38</td>\n",
       "    </tr>\n",
       "    <tr>\n",
       "      <th>31</th>\n",
       "      <td>0.31</td>\n",
       "      <td>2823.18</td>\n",
       "    </tr>\n",
       "    <tr>\n",
       "      <th>32</th>\n",
       "      <td>0.32</td>\n",
       "      <td>3130.38</td>\n",
       "    </tr>\n",
       "    <tr>\n",
       "      <th>33</th>\n",
       "      <td>0.33</td>\n",
       "      <td>3153.22</td>\n",
       "    </tr>\n",
       "    <tr>\n",
       "      <th>34</th>\n",
       "      <td>0.34</td>\n",
       "      <td>3466.76</td>\n",
       "    </tr>\n",
       "    <tr>\n",
       "      <th>35</th>\n",
       "      <td>0.35</td>\n",
       "      <td>4907.72</td>\n",
       "    </tr>\n",
       "    <tr>\n",
       "      <th>36</th>\n",
       "      <td>0.36</td>\n",
       "      <td>4034.56</td>\n",
       "    </tr>\n",
       "    <tr>\n",
       "      <th>37</th>\n",
       "      <td>0.37</td>\n",
       "      <td>4161.44</td>\n",
       "    </tr>\n",
       "    <tr>\n",
       "      <th>38</th>\n",
       "      <td>0.38</td>\n",
       "      <td>3875.64</td>\n",
       "    </tr>\n",
       "    <tr>\n",
       "      <th>39</th>\n",
       "      <td>0.39</td>\n",
       "      <td>3561.82</td>\n",
       "    </tr>\n",
       "  </tbody>\n",
       "</table>\n",
       "</div>"
      ],
      "text/plain": [
       "    threshold  total_profit\n",
       "30       0.30       2333.38\n",
       "31       0.31       2823.18\n",
       "32       0.32       3130.38\n",
       "33       0.33       3153.22\n",
       "34       0.34       3466.76\n",
       "35       0.35       4907.72\n",
       "36       0.36       4034.56\n",
       "37       0.37       4161.44\n",
       "38       0.38       3875.64\n",
       "39       0.39       3561.82"
      ]
     },
     "execution_count": 58,
     "metadata": {},
     "output_type": "execute_result"
    }
   ],
   "source": [
    "c.iloc[ 30:40, : ]"
   ]
  },
  {
   "cell_type": "markdown",
   "metadata": {},
   "source": [
    "The maximum profit (€4,908) is achieved with the threshold 0.35."
   ]
  },
  {
   "cell_type": "code",
   "execution_count": 59,
   "metadata": {},
   "outputs": [
    {
     "data": {
      "text/html": [
       "<div>\n",
       "<style scoped>\n",
       "    .dataframe tbody tr th:only-of-type {\n",
       "        vertical-align: middle;\n",
       "    }\n",
       "\n",
       "    .dataframe tbody tr th {\n",
       "        vertical-align: top;\n",
       "    }\n",
       "\n",
       "    .dataframe thead th {\n",
       "        text-align: right;\n",
       "    }\n",
       "</style>\n",
       "<table border=\"1\" class=\"dataframe\">\n",
       "  <thead>\n",
       "    <tr style=\"text-align: right;\">\n",
       "      <th></th>\n",
       "      <th>threshold</th>\n",
       "      <th>total_profit</th>\n",
       "    </tr>\n",
       "  </thead>\n",
       "  <tbody>\n",
       "    <tr>\n",
       "      <th>100</th>\n",
       "      <td>1.0</td>\n",
       "      <td>-3232.8</td>\n",
       "    </tr>\n",
       "  </tbody>\n",
       "</table>\n",
       "</div>"
      ],
      "text/plain": [
       "     threshold  total_profit\n",
       "100        1.0       -3232.8"
      ]
     },
     "execution_count": 59,
     "metadata": {},
     "output_type": "execute_result"
    }
   ],
   "source": [
    "c.tail( 1 )"
   ]
  },
  {
   "cell_type": "markdown",
   "metadata": {},
   "source": [
    "If no action is taken (threshold=1), there is a loss of €3,233."
   ]
  },
  {
   "cell_type": "markdown",
   "metadata": {},
   "source": [
    "Total portfolio of the test set:"
   ]
  },
  {
   "cell_type": "code",
   "execution_count": 48,
   "metadata": {},
   "outputs": [
    {
     "name": "stdout",
     "output_type": "stream",
     "text": [
      "+-----------+\n",
      "|sum(amount)|\n",
      "+-----------+\n",
      "|   821250.0|\n",
      "+-----------+\n",
      "\n"
     ]
    }
   ],
   "source": [
    "p.agg( f.sum( 'amount' ) ).show()"
   ]
  },
  {
   "cell_type": "markdown",
   "metadata": {},
   "source": [
    "#### Refit of the Model"
   ]
  },
  {
   "cell_type": "markdown",
   "metadata": {},
   "source": [
    "In order to be used in production, the model should be refitted on the full data (without the filter \"test = false\") with the parameters of neural network identified above.<br>\n",
    "<br>\n",
    "This also includes:<br>\n",
    "- scaling\n",
    "- encoding categorical variables with large number of categories\n",
    "- balancing classes"
   ]
  },
  {
   "cell_type": "code",
   "execution_count": 89,
   "metadata": {},
   "outputs": [],
   "source": [
    "sc.stop()"
   ]
  },
  {
   "cell_type": "markdown",
   "metadata": {},
   "source": [
    "#### Conclusion"
   ]
  },
  {
   "cell_type": "markdown",
   "metadata": {},
   "source": [
    "The net impact of the model is €8,141 (€4,908 + €3,233).<br>\n",
    "<br>\n",
    "Ratio of the net impact to the portfolio:<br>\n",
    "<b>(€8,141 / €821,250) = 1.0%"
   ]
  },
  {
   "cell_type": "markdown",
   "metadata": {},
   "source": [
    "So the model turns an unprofitable by default process into profitable one. Amount of saving corresponds to 1% of the entire turnover."
   ]
  }
 ],
 "metadata": {
  "kernelspec": {
   "display_name": "Python 3",
   "language": "python",
   "name": "python3"
  },
  "language_info": {
   "codemirror_mode": {
    "name": "ipython",
    "version": 3
   },
   "file_extension": ".py",
   "mimetype": "text/x-python",
   "name": "python",
   "nbconvert_exporter": "python",
   "pygments_lexer": "ipython3",
   "version": "3.7.6"
  }
 },
 "nbformat": 4,
 "nbformat_minor": 4
}
