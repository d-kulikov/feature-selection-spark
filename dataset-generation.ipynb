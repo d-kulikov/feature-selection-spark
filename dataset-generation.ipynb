{
 "cells": [
  {
   "cell_type": "code",
   "execution_count": 49,
   "metadata": {},
   "outputs": [],
   "source": [
    "import numpy as np\n",
    "import pandas as pd\n",
    "from scipy.stats import pearsonr\n",
    "np.random.seed( 333 )"
   ]
  },
  {
   "cell_type": "markdown",
   "metadata": {},
   "source": [
    "##### A1 is a binary variable"
   ]
  },
  {
   "cell_type": "code",
   "execution_count": 3,
   "metadata": {},
   "outputs": [],
   "source": [
    "DATA = pd.DataFrame( { 'A1' : np.random.binomial( 1, 0.5, 10000 ) } )"
   ]
  },
  {
   "cell_type": "markdown",
   "metadata": {},
   "source": [
    "##### Y is a continuous target variable"
   ]
  },
  {
   "cell_type": "code",
   "execution_count": 4,
   "metadata": {},
   "outputs": [],
   "source": [
    "DATA[ 'Y' ] = np.random.normal( 0, 1, 10000 )"
   ]
  },
  {
   "cell_type": "markdown",
   "metadata": {},
   "source": [
    "##### B1 is closely related with A1 in a way similar to the logical XOR relationship. When A1 and B1 are equal (0 and 0, 1 and 1), the target (Y) takes low values. When they are different (0 and 1, 1 and 0), Y takes high values. This kind of relationship is usually hard to capture with simple model techniques without knowing it explicitly."
   ]
  },
  {
   "cell_type": "code",
   "execution_count": 5,
   "metadata": {},
   "outputs": [],
   "source": [
    "DATA[ 'B1' ] = np.where( DATA.Y < 0, DATA.A1, 1 - DATA.A1 )"
   ]
  },
  {
   "cell_type": "code",
   "execution_count": 37,
   "metadata": {},
   "outputs": [
    {
     "data": {
      "text/html": [
       "<div>\n",
       "<style scoped>\n",
       "    .dataframe tbody tr th:only-of-type {\n",
       "        vertical-align: middle;\n",
       "    }\n",
       "\n",
       "    .dataframe tbody tr th {\n",
       "        vertical-align: top;\n",
       "    }\n",
       "\n",
       "    .dataframe thead th {\n",
       "        text-align: right;\n",
       "    }\n",
       "</style>\n",
       "<table border=\"1\" class=\"dataframe\">\n",
       "  <thead>\n",
       "    <tr style=\"text-align: right;\">\n",
       "      <th></th>\n",
       "      <th>A1</th>\n",
       "      <th>B1</th>\n",
       "      <th>Y</th>\n",
       "    </tr>\n",
       "  </thead>\n",
       "  <tbody>\n",
       "    <tr>\n",
       "      <td>8041</td>\n",
       "      <td>1</td>\n",
       "      <td>0</td>\n",
       "      <td>0.535345</td>\n",
       "    </tr>\n",
       "    <tr>\n",
       "      <td>8515</td>\n",
       "      <td>1</td>\n",
       "      <td>1</td>\n",
       "      <td>-0.589059</td>\n",
       "    </tr>\n",
       "    <tr>\n",
       "      <td>741</td>\n",
       "      <td>0</td>\n",
       "      <td>1</td>\n",
       "      <td>0.628249</td>\n",
       "    </tr>\n",
       "    <tr>\n",
       "      <td>6758</td>\n",
       "      <td>1</td>\n",
       "      <td>1</td>\n",
       "      <td>-0.557248</td>\n",
       "    </tr>\n",
       "    <tr>\n",
       "      <td>8967</td>\n",
       "      <td>0</td>\n",
       "      <td>0</td>\n",
       "      <td>-1.173180</td>\n",
       "    </tr>\n",
       "  </tbody>\n",
       "</table>\n",
       "</div>"
      ],
      "text/plain": [
       "      A1  B1         Y\n",
       "8041   1   0  0.535345\n",
       "8515   1   1 -0.589059\n",
       "741    0   1  0.628249\n",
       "6758   1   1 -0.557248\n",
       "8967   0   0 -1.173180"
      ]
     },
     "execution_count": 37,
     "metadata": {},
     "output_type": "execute_result"
    }
   ],
   "source": [
    "DATA[[ 'A1', 'B1', 'Y' ]].sample( 5 )"
   ]
  },
  {
   "cell_type": "markdown",
   "metadata": {},
   "source": [
    "##### Separately, A1 and B1 have no linear correlation with Y"
   ]
  },
  {
   "cell_type": "code",
   "execution_count": 52,
   "metadata": {},
   "outputs": [
    {
     "data": {
      "text/html": [
       "<div>\n",
       "<style scoped>\n",
       "    .dataframe tbody tr th:only-of-type {\n",
       "        vertical-align: middle;\n",
       "    }\n",
       "\n",
       "    .dataframe tbody tr th {\n",
       "        vertical-align: top;\n",
       "    }\n",
       "\n",
       "    .dataframe thead th {\n",
       "        text-align: right;\n",
       "    }\n",
       "</style>\n",
       "<table border=\"1\" class=\"dataframe\">\n",
       "  <thead>\n",
       "    <tr style=\"text-align: right;\">\n",
       "      <th></th>\n",
       "      <th>A1</th>\n",
       "      <th>B1</th>\n",
       "      <th>Y</th>\n",
       "    </tr>\n",
       "  </thead>\n",
       "  <tbody>\n",
       "    <tr>\n",
       "      <td>A1</td>\n",
       "      <td>1.000000</td>\n",
       "      <td>-0.018989</td>\n",
       "      <td>0.006929</td>\n",
       "    </tr>\n",
       "    <tr>\n",
       "      <td>B1</td>\n",
       "      <td>-0.018989</td>\n",
       "      <td>1.000000</td>\n",
       "      <td>0.002214</td>\n",
       "    </tr>\n",
       "    <tr>\n",
       "      <td>Y</td>\n",
       "      <td>0.006929</td>\n",
       "      <td>0.002214</td>\n",
       "      <td>1.000000</td>\n",
       "    </tr>\n",
       "  </tbody>\n",
       "</table>\n",
       "</div>"
      ],
      "text/plain": [
       "          A1        B1         Y\n",
       "A1  1.000000 -0.018989  0.006929\n",
       "B1 -0.018989  1.000000  0.002214\n",
       "Y   0.006929  0.002214  1.000000"
      ]
     },
     "execution_count": 52,
     "metadata": {},
     "output_type": "execute_result"
    }
   ],
   "source": [
    "DATA[[ 'A1', 'B1', 'Y' ]].corr()"
   ]
  },
  {
   "cell_type": "markdown",
   "metadata": {},
   "source": [
    "##### But their imaginary right combination has high correlation"
   ]
  },
  {
   "cell_type": "code",
   "execution_count": 14,
   "metadata": {},
   "outputs": [
    {
     "data": {
      "text/plain": [
       "-0.7998492144038691"
      ]
     },
     "execution_count": 14,
     "metadata": {},
     "output_type": "execute_result"
    }
   ],
   "source": [
    "pearsonr( np.where( DATA.A1 == DATA.B1, 1, 0 ), \n",
    "          DATA.Y )[ 0 ]"
   ]
  },
  {
   "cell_type": "markdown",
   "metadata": {},
   "source": [
    "##### A2 and B2 are weaker versions of A1 and B1. They would be redundant in the final set."
   ]
  },
  {
   "cell_type": "code",
   "execution_count": 41,
   "metadata": {},
   "outputs": [],
   "source": [
    "DATA[ 'A2' ] = DATA.A1 + np.random.normal( 0, 1, 10000 )\n",
    "DATA[ 'B2' ] = DATA.B1 + np.random.normal( 0, 1, 10000 )"
   ]
  },
  {
   "cell_type": "code",
   "execution_count": 44,
   "metadata": {},
   "outputs": [
    {
     "data": {
      "text/html": [
       "<div>\n",
       "<style scoped>\n",
       "    .dataframe tbody tr th:only-of-type {\n",
       "        vertical-align: middle;\n",
       "    }\n",
       "\n",
       "    .dataframe tbody tr th {\n",
       "        vertical-align: top;\n",
       "    }\n",
       "\n",
       "    .dataframe thead th {\n",
       "        text-align: right;\n",
       "    }\n",
       "</style>\n",
       "<table border=\"1\" class=\"dataframe\">\n",
       "  <thead>\n",
       "    <tr style=\"text-align: right;\">\n",
       "      <th></th>\n",
       "      <th>A1</th>\n",
       "      <th>A2</th>\n",
       "      <th>B1</th>\n",
       "      <th>B2</th>\n",
       "    </tr>\n",
       "  </thead>\n",
       "  <tbody>\n",
       "    <tr>\n",
       "      <td>9957</td>\n",
       "      <td>0</td>\n",
       "      <td>1.434441</td>\n",
       "      <td>1</td>\n",
       "      <td>-0.795032</td>\n",
       "    </tr>\n",
       "    <tr>\n",
       "      <td>3311</td>\n",
       "      <td>1</td>\n",
       "      <td>2.825751</td>\n",
       "      <td>1</td>\n",
       "      <td>-0.030232</td>\n",
       "    </tr>\n",
       "    <tr>\n",
       "      <td>7563</td>\n",
       "      <td>0</td>\n",
       "      <td>0.535326</td>\n",
       "      <td>0</td>\n",
       "      <td>-1.360884</td>\n",
       "    </tr>\n",
       "    <tr>\n",
       "      <td>3747</td>\n",
       "      <td>1</td>\n",
       "      <td>0.104514</td>\n",
       "      <td>0</td>\n",
       "      <td>-1.576355</td>\n",
       "    </tr>\n",
       "    <tr>\n",
       "      <td>5469</td>\n",
       "      <td>0</td>\n",
       "      <td>0.316567</td>\n",
       "      <td>0</td>\n",
       "      <td>-0.000818</td>\n",
       "    </tr>\n",
       "  </tbody>\n",
       "</table>\n",
       "</div>"
      ],
      "text/plain": [
       "      A1        A2  B1        B2\n",
       "9957   0  1.434441   1 -0.795032\n",
       "3311   1  2.825751   1 -0.030232\n",
       "7563   0  0.535326   0 -1.360884\n",
       "3747   1  0.104514   0 -1.576355\n",
       "5469   0  0.316567   0 -0.000818"
      ]
     },
     "execution_count": 44,
     "metadata": {},
     "output_type": "execute_result"
    }
   ],
   "source": [
    "DATA[[ 'A1', 'A2', 'B1', 'B2' ]].sample( 5 )"
   ]
  },
  {
   "cell_type": "markdown",
   "metadata": {},
   "source": [
    "##### C1 is in a simple linear but weak relationship with Y"
   ]
  },
  {
   "cell_type": "code",
   "execution_count": 27,
   "metadata": {},
   "outputs": [],
   "source": [
    "DATA[ 'C1' ] = DATA.Y + np.random.normal( 0, 2, 10000 )"
   ]
  },
  {
   "cell_type": "markdown",
   "metadata": {},
   "source": [
    "##### C2 and C3 are weaker duplicates of C1. They are also not welcomed in the final set."
   ]
  },
  {
   "cell_type": "code",
   "execution_count": 38,
   "metadata": {},
   "outputs": [],
   "source": [
    "DATA[ 'C2' ] = DATA.C1 + np.random.normal( 0, 1, 10000 )\n",
    "DATA[ 'C3' ] = DATA.C1 + np.random.normal( 0, 1, 10000 )"
   ]
  },
  {
   "cell_type": "code",
   "execution_count": 39,
   "metadata": {},
   "outputs": [
    {
     "data": {
      "text/html": [
       "<div>\n",
       "<style scoped>\n",
       "    .dataframe tbody tr th:only-of-type {\n",
       "        vertical-align: middle;\n",
       "    }\n",
       "\n",
       "    .dataframe tbody tr th {\n",
       "        vertical-align: top;\n",
       "    }\n",
       "\n",
       "    .dataframe thead th {\n",
       "        text-align: right;\n",
       "    }\n",
       "</style>\n",
       "<table border=\"1\" class=\"dataframe\">\n",
       "  <thead>\n",
       "    <tr style=\"text-align: right;\">\n",
       "      <th></th>\n",
       "      <th>C1</th>\n",
       "      <th>C2</th>\n",
       "      <th>C3</th>\n",
       "      <th>Y</th>\n",
       "    </tr>\n",
       "  </thead>\n",
       "  <tbody>\n",
       "    <tr>\n",
       "      <td>C1</td>\n",
       "      <td>1.000000</td>\n",
       "      <td>0.911864</td>\n",
       "      <td>0.911564</td>\n",
       "      <td>0.439423</td>\n",
       "    </tr>\n",
       "    <tr>\n",
       "      <td>C2</td>\n",
       "      <td>0.911864</td>\n",
       "      <td>1.000000</td>\n",
       "      <td>0.833848</td>\n",
       "      <td>0.399192</td>\n",
       "    </tr>\n",
       "    <tr>\n",
       "      <td>C3</td>\n",
       "      <td>0.911564</td>\n",
       "      <td>0.833848</td>\n",
       "      <td>1.000000</td>\n",
       "      <td>0.397393</td>\n",
       "    </tr>\n",
       "    <tr>\n",
       "      <td>Y</td>\n",
       "      <td>0.439423</td>\n",
       "      <td>0.399192</td>\n",
       "      <td>0.397393</td>\n",
       "      <td>1.000000</td>\n",
       "    </tr>\n",
       "  </tbody>\n",
       "</table>\n",
       "</div>"
      ],
      "text/plain": [
       "          C1        C2        C3         Y\n",
       "C1  1.000000  0.911864  0.911564  0.439423\n",
       "C2  0.911864  1.000000  0.833848  0.399192\n",
       "C3  0.911564  0.833848  1.000000  0.397393\n",
       "Y   0.439423  0.399192  0.397393  1.000000"
      ]
     },
     "execution_count": 39,
     "metadata": {},
     "output_type": "execute_result"
    }
   ],
   "source": [
    "DATA[[ 'C1', 'C2', 'C3', 'Y' ]].corr()"
   ]
  },
  {
   "cell_type": "markdown",
   "metadata": {},
   "source": [
    "##### D1, D2 and D3 are absolute garbage. We definetaly do not want to select them."
   ]
  },
  {
   "cell_type": "code",
   "execution_count": 40,
   "metadata": {},
   "outputs": [],
   "source": [
    "DATA[ 'D1' ] = np.random.normal( 1, 1, 10000 )\n",
    "DATA[ 'D2' ] = np.random.normal( 2, 1, 10000 )\n",
    "DATA[ 'D3' ] = np.random.normal( 3, 1, 10000 )"
   ]
  },
  {
   "cell_type": "markdown",
   "metadata": {},
   "source": [
    "##### Thus, the most important variables are A1 and B1. C1 brings some added value, too. So, ideally, we would like to select A1, B1 and C1 for fitting a model. We would like to skip the duplicate and garbage variables because they do not provide additional information and only make the model more complicated and harder to compute and optimize."
   ]
  },
  {
   "cell_type": "code",
   "execution_count": 54,
   "metadata": {},
   "outputs": [],
   "source": [
    "DATA[[ 'A1', 'A2', 'B1', 'B2', 'C1', 'C2', 'C3', 'D1', 'D2', 'D3',\n",
    "     'Y' ]].to_csv( '~/Documents/GitHub/feature-selection-spark/data.csv', index=False )"
   ]
  }
 ],
 "metadata": {
  "kernelspec": {
   "display_name": "Python 3",
   "language": "python",
   "name": "python3"
  },
  "language_info": {
   "codemirror_mode": {
    "name": "ipython",
    "version": 3
   },
   "file_extension": ".py",
   "mimetype": "text/x-python",
   "name": "python",
   "nbconvert_exporter": "python",
   "pygments_lexer": "ipython3",
   "version": "3.7.4"
  }
 },
 "nbformat": 4,
 "nbformat_minor": 2
}
